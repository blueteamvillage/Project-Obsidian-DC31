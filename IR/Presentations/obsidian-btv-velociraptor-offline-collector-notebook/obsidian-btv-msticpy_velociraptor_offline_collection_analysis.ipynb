{
 "cells": [
  {
   "cell_type": "markdown",
   "id": "a52ae18d-0b9d-49bb-96aa-6dca196b7fbc",
   "metadata": {
    "slideshow": {
     "slide_type": "skip"
    },
    "tags": []
   },
   "source": [
    "# Msticpy and Velociraptor offline collection analysis\n",
    "BTV Project Obsidian, 2023\n",
    "\n",
    "Author: juju43, https://blueteamvillage.org/programs/project-obsidian/ https://discord.gg/blueteamvillage\n",
    "<img align=\"right\" width=\"100\" height=\"100\" src=\"https://cfc.blueteamvillage.org/media/call-for-content-2021/img/20200622_BTVillage_logos_RGB_pos_hcOC7Qx.png\">"
   ]
  },
  {
   "cell_type": "markdown",
   "id": "37a02002-5ae8-435e-a68e-6c41d090693f",
   "metadata": {
    "slideshow": {
     "slide_type": "slide"
    },
    "tags": []
   },
   "source": [
    "![BTV Msticpy and Velociraptor offline collection analysis title slide](obsidian-btv-msticpy_velociraptor_offline_collection_analysis.png)"
   ]
  },
  {
   "cell_type": "markdown",
   "id": "78b50fb3-81c0-4159-a20e-e129a6e8abf3",
   "metadata": {
    "slideshow": {
     "slide_type": "slide"
    },
    "tags": []
   },
   "source": [
    "## Agenda\n",
    "\n",
    "* Codifying analysis\n",
    "* Key Questions\n",
    "* Obsidian 2023 logs\n",
    "  * What is in the environment?\n",
    "  * Applications, services, browsing...\n",
    "  * Lnk, MFT, Amcache\n",
    "  * What matters?"
   ]
  },
  {
   "cell_type": "markdown",
   "id": "8185e5c6-a527-4594-b7a0-a2b40a424796",
   "metadata": {
    "slideshow": {
     "slide_type": "slide"
    },
    "tags": []
   },
   "source": [
    "## Codifying analysis\n",
    "* Security analysis should be documented\n",
    "* Security analysis should be repeatable\n",
    "* Security analysis should be verifiable\n",
    "* Security analysis should use template\n"
   ]
  },
  {
   "cell_type": "markdown",
   "id": "c5a975c8-c547-4aef-91ee-316cc17de66c",
   "metadata": {
    "slideshow": {
     "slide_type": "slide"
    },
    "tags": []
   },
   "source": [
    "### Many options\n",
    "* Text file and variants\n",
    "* [Velociraptor notebooks](https://docs.velociraptor.app/docs/vql/notebooks/) on VQL\n",
    "\n",
    "<div align=\"center\" style=\"font-weight: bold\">\n",
    "Another option: msticpy<br />\n",
    "Could merge data from different sources.\n",
    "</div>\n"
   ]
  },
  {
   "cell_type": "markdown",
   "id": "7a45c052-b6db-43b8-ab19-3f93b3e5ff8e",
   "metadata": {
    "slideshow": {
     "slide_type": "slide"
    },
    "tags": []
   },
   "source": [
    "## Key questions\n",
    "* What happens in my environment\n",
    "* What's normal\n",
    "* What's abnormal\n",
    "* How I would know"
   ]
  },
  {
   "cell_type": "markdown",
   "id": "dae07f65-b596-41b3-84fa-1e3028409026",
   "metadata": {
    "slideshow": {
     "slide_type": "slide"
    },
    "tags": []
   },
   "source": [
    "## Obsidian 2023 logs"
   ]
  },
  {
   "cell_type": "markdown",
   "id": "c8f43cee-e575-4f78-903d-29d1b8b7a304",
   "metadata": {
    "slideshow": {
     "slide_type": "slide"
    },
    "tags": []
   },
   "source": [
    "### Code initialization\n",
    "\n",
    "msticpy PR not merged for now - https://github.com/microsoft/msticpy/pull/668"
   ]
  },
  {
   "cell_type": "code",
   "execution_count": null,
   "id": "3cc4bb13-9622-417d-a3e1-bd0c90cbb15f",
   "metadata": {
    "slideshow": {
     "slide_type": "fragment"
    },
    "tags": []
   },
   "outputs": [],
   "source": [
    "# %pip install git+https://github.com/microsoft/msticpy.git@ianhelle/velociraptor-provider-2023-05-19"
   ]
  },
  {
   "cell_type": "code",
   "execution_count": 1,
   "id": "16f803fa-9b74-43a6-a996-c24eacfa18d2",
   "metadata": {
    "slideshow": {
     "slide_type": "skip"
    },
    "tags": []
   },
   "outputs": [],
   "source": [
    "# Check we are running Python 3.6\n",
    "import sys\n",
    "\n",
    "MIN_REQ_PYTHON = (3, 6)\n",
    "if sys.version_info < MIN_REQ_PYTHON:\n",
    "    print(\"Check the Kernel->Change Kernel menu and ensure that Python 3.6\")\n",
    "    print(\"or later is selected as the active kernel.\")\n",
    "    sys.exit(\"Python %s.%s or later is required.\\n\" % MIN_REQ_PYTHON)"
   ]
  },
  {
   "cell_type": "code",
   "execution_count": 2,
   "id": "32547404-4e6e-4ae7-9bd4-30c529057a12",
   "metadata": {
    "slideshow": {
     "slide_type": "skip"
    },
    "tags": []
   },
   "outputs": [],
   "source": [
    "# Imports\n",
    "import pandas as pd\n",
    "import msticpy.nbtools as nbtools\n",
    "from datetime import datetime, timedelta\n",
    "import os"
   ]
  },
  {
   "cell_type": "code",
   "execution_count": 3,
   "id": "2aa9719b-8bee-4a4f-890f-4d52310262cd",
   "metadata": {
    "slideshow": {
     "slide_type": "skip"
    },
    "tags": []
   },
   "outputs": [
    {
     "name": "stdout",
     "output_type": "stream",
     "text": [
      "Imports Complete\n"
     ]
    }
   ],
   "source": [
    "# path to config file\n",
    "# os.environ[\"MSTICPYCONFIG\"] = \"/home/ubuntu/msticpyconfig.yaml\"\n",
    "from msticpy.nbtools import *\n",
    "from msticpy.data.data_providers import QueryProvider\n",
    "from msticpy.common.wsconfig import WorkspaceConfig\n",
    "from msticpy.nbtools.data_viewer import DataViewer\n",
    "from msticpy.vis.matrix_plot import plot_matrix\n",
    "from msticpy.nbtools import process_tree as ptree\n",
    "from msticpy.context.geoip import GeoLiteLookup, IPStackLookup\n",
    "\n",
    "print(\"Imports Complete\")"
   ]
  },
  {
   "cell_type": "code",
   "execution_count": 4,
   "id": "a4d05913-b1e9-44bf-a0a9-1d361d7cfed8",
   "metadata": {
    "slideshow": {
     "slide_type": "skip"
    },
    "tags": []
   },
   "outputs": [],
   "source": [
    "# pandas\n",
    "pd.set_option(\"display.max_colwidth\", 500)"
   ]
  },
  {
   "cell_type": "code",
   "execution_count": 5,
   "id": "96e3009a-502c-4d43-bcb7-88e99ed9da21",
   "metadata": {
    "slideshow": {
     "slide_type": "skip"
    },
    "tags": []
   },
   "outputs": [],
   "source": [
    "# Ensure to use appropriate filters\n",
    "query_common_args = ''\n",
    "results_limit = 10"
   ]
  },
  {
   "cell_type": "code",
   "execution_count": 8,
   "id": "1269c7d2-353f-41eb-8586-19d8def2a9b2",
   "metadata": {
    "slideshow": {
     "slide_type": "skip"
    },
    "tags": []
   },
   "outputs": [],
   "source": [
    "query_common_args = query_common_args.strip()\n",
    "# datadir = \"/path/to/Collection-iot-eng-wkst_magnumtempus_financial-2023-06-19T01_15_07Z/results\"\n",
    "datadir = \"/home/user/Lab1/others/msticpy-data/Collection-iot-eng-wkst_magnumtempus_financial-2023-06-19T01_15_07Z/results\""
   ]
  },
  {
   "cell_type": "code",
   "execution_count": 9,
   "id": "0e624bae-6a7c-44cd-8a56-1c1dc861cbfe",
   "metadata": {
    "slideshow": {
     "slide_type": "subslide"
    },
    "tags": []
   },
   "outputs": [],
   "source": [
    "# Configuration\n",
    "qry_prov = QueryProvider(\n",
    "    \"VelociraptorLogs\",\n",
    "    data_paths=[\n",
    "        datadir\n",
    "    ],\n",
    ")\n",
    "qry_prov.connect()"
   ]
  },
  {
   "cell_type": "code",
   "execution_count": 10,
   "id": "c68d9f84-aca1-4486-a1ef-6b26c5d5d488",
   "metadata": {
    "slideshow": {
     "slide_type": "fragment"
    },
    "tags": []
   },
   "outputs": [
    {
     "data": {
      "text/plain": [
       "25"
      ]
     },
     "execution_count": 10,
     "metadata": {},
     "output_type": "execute_result"
    }
   ],
   "source": [
    "len(qry_prov.list_queries())"
   ]
  },
  {
   "cell_type": "code",
   "execution_count": 11,
   "id": "ab80d40a-b514-4b61-8454-4e6687569945",
   "metadata": {
    "slideshow": {
     "slide_type": "fragment"
    },
    "tags": []
   },
   "outputs": [
    {
     "data": {
      "text/plain": [
       "['velociraptor.Windows_Applications_Chrome_Cookies',\n",
       " 'velociraptor.Windows_Applications_Chrome_Extensions',\n",
       " 'velociraptor.Windows_Applications_Chrome_History',\n",
       " 'velociraptor.Windows_Applications_Edge_History',\n",
       " 'velociraptor.Windows_EventLogs_ScheduledTasks',\n",
       " 'velociraptor.Windows_Forensics_Lnk',\n",
       " 'velociraptor.Windows_Forensics_Usn',\n",
       " 'velociraptor.Windows_KapeFiles_Targets_2FAll_File_Metadata',\n",
       " 'velociraptor.Windows_KapeFiles_Targets_2FUploads',\n",
       " 'velociraptor.Windows_Memory_Acquisition',\n",
       " 'velociraptor.Windows_NTFS_MFT',\n",
       " 'velociraptor.Windows_Network_ArpCache',\n",
       " 'velociraptor.Windows_Network_InterfaceAddresses',\n",
       " 'velociraptor.Windows_Network_ListeningPorts',\n",
       " 'velociraptor.Windows_Network_Netstat',\n",
       " 'velociraptor.Windows_Network_NetstatEnriched_2FNetstat',\n",
       " 'velociraptor.Windows_Registry_EnabledMacro',\n",
       " 'velociraptor.Windows_Sys_Users',\n",
       " 'velociraptor.Windows_Sysinternals_Autoruns',\n",
       " 'velociraptor.Windows_System_Amcache_2FFile',\n",
       " 'velociraptor.Windows_System_Amcache_2FInventoryApplicationFile',\n",
       " 'velociraptor.Windows_System_DNSCache',\n",
       " 'velociraptor.Windows_System_Pslist',\n",
       " 'velociraptor.Windows_System_Services',\n",
       " 'velociraptor.Windows_System_TaskScheduler_2FAnalysis']"
      ]
     },
     "execution_count": 11,
     "metadata": {},
     "output_type": "execute_result"
    }
   ],
   "source": [
    "qry_prov.list_queries()"
   ]
  },
  {
   "cell_type": "markdown",
   "id": "1e138f37-825f-473c-a776-594f64571dfe",
   "metadata": {
    "slideshow": {
     "slide_type": "slide"
    },
    "tags": []
   },
   "source": [
    "### What is in the environment?\n",
    "* Linux\n",
    "* Windows\n",
    "* Others"
   ]
  },
  {
   "cell_type": "markdown",
   "id": "7f264c5f-41e7-4ce5-9289-e99ca1971ecf",
   "metadata": {
    "slideshow": {
     "slide_type": "slide"
    },
    "tags": []
   },
   "source": [
    "### What applications?\n",
    "* Linux ProcessName\n",
    "* Windows Event Channel or Source\n",
    "* Services\n",
    "* Scheduled tasks\n",
    "* Browser activities"
   ]
  },
  {
   "cell_type": "markdown",
   "id": "7e1aefef-859b-44ae-b7ce-e9c884c21714",
   "metadata": {
    "slideshow": {
     "slide_type": "subslide"
    },
    "tags": []
   },
   "source": [
    "#### Process"
   ]
  },
  {
   "cell_type": "code",
   "execution_count": 12,
   "id": "1157ebd8-fab1-433a-bff5-eb1d33793cda",
   "metadata": {
    "slideshow": {
     "slide_type": "fragment"
    },
    "tags": []
   },
   "outputs": [
    {
     "data": {
      "application/vnd.jupyter.widget-view+json": {
       "model_id": "08800fc424be49f39b3eeaa56ae3b562",
       "version_major": 2,
       "version_minor": 0
      },
      "text/plain": [
       "  0%|          | 0/1 [00:00<?, ?it/s]"
      ]
     },
     "metadata": {},
     "output_type": "display_data"
    }
   ],
   "source": [
    "df_pslist = qry_prov.velociraptor.Windows_System_Pslist()"
   ]
  },
  {
   "cell_type": "code",
   "execution_count": 13,
   "id": "e2c1d0b4-29ed-424d-8463-70f83097145c",
   "metadata": {
    "slideshow": {
     "slide_type": "fragment"
    },
    "tags": []
   },
   "outputs": [
    {
     "data": {
      "text/html": [
       "<div>\n",
       "<style scoped>\n",
       "    .dataframe tbody tr th:only-of-type {\n",
       "        vertical-align: middle;\n",
       "    }\n",
       "\n",
       "    .dataframe tbody tr th {\n",
       "        vertical-align: top;\n",
       "    }\n",
       "\n",
       "    .dataframe thead th {\n",
       "        text-align: right;\n",
       "    }\n",
       "</style>\n",
       "<table border=\"1\" class=\"dataframe\">\n",
       "  <thead>\n",
       "    <tr style=\"text-align: right;\">\n",
       "      <th></th>\n",
       "      <th>Pid</th>\n",
       "      <th>Ppid</th>\n",
       "      <th>TokenIsElevated</th>\n",
       "      <th>Name</th>\n",
       "      <th>CommandLine</th>\n",
       "      <th>Exe</th>\n",
       "      <th>TokenInfo</th>\n",
       "      <th>Hash</th>\n",
       "      <th>Authenticode</th>\n",
       "      <th>Username</th>\n",
       "      <th>WorkingSetSize</th>\n",
       "    </tr>\n",
       "  </thead>\n",
       "  <tbody>\n",
       "    <tr>\n",
       "      <th>0</th>\n",
       "      <td>4</td>\n",
       "      <td>0</td>\n",
       "      <td>False</td>\n",
       "      <td>System</td>\n",
       "      <td></td>\n",
       "      <td></td>\n",
       "      <td>None</td>\n",
       "      <td>{'MD5': 'd41d8cd98f00b204e9800998ecf8427e', 'SHA1': 'da39a3ee5e6b4b0d3255bfef95601890afd80709', 'SHA256': 'e3b0c44298fc1c149afbf4c8996fb92427ae41e4649b934ca495991b7852b855'}</td>\n",
       "      <td>None</td>\n",
       "      <td></td>\n",
       "      <td>147456.0</td>\n",
       "    </tr>\n",
       "    <tr>\n",
       "      <th>1</th>\n",
       "      <td>96</td>\n",
       "      <td>4</td>\n",
       "      <td>False</td>\n",
       "      <td>Registry</td>\n",
       "      <td></td>\n",
       "      <td></td>\n",
       "      <td>None</td>\n",
       "      <td>{'MD5': 'd41d8cd98f00b204e9800998ecf8427e', 'SHA1': 'da39a3ee5e6b4b0d3255bfef95601890afd80709', 'SHA256': 'e3b0c44298fc1c149afbf4c8996fb92427ae41e4649b934ca495991b7852b855'}</td>\n",
       "      <td>None</td>\n",
       "      <td>NT AUTHORITY\\SYSTEM</td>\n",
       "      <td>54575104.0</td>\n",
       "    </tr>\n",
       "    <tr>\n",
       "      <th>2</th>\n",
       "      <td>308</td>\n",
       "      <td>4</td>\n",
       "      <td>True</td>\n",
       "      <td>smss.exe</td>\n",
       "      <td>\\SystemRoot\\System32\\smss.exe</td>\n",
       "      <td>C:\\Windows\\System32\\smss.exe</td>\n",
       "      <td>None</td>\n",
       "      <td>{'MD5': '44962fd12f0d29b0713bb5e14653194a', 'SHA1': '3b2af5ef58ecf86abe51a730493363448b95dd0a', 'SHA256': 'd94c6656d377bb43a5cca307fc46f5de2b259e8884acedddf0b07f45425f457e'}</td>\n",
       "      <td>{'Filename': 'C:\\Windows\\System32\\smss.exe', 'ProgramName': 'Microsoft Windows', 'PublisherLink': None, 'MoreInfoLink': 'http://www.microsoft.com/windows', 'SerialNumber': '33000002a5e1a081b7c895c0ed0000000002a5', 'IssuerName': 'C=US, ST=Washington, L=Redmond, O=Microsoft Corporation, CN=Microsoft Windows Production PCA 2011', 'SubjectName': 'C=US, ST=Washington, L=Redmond, O=Microsoft Corporation, CN=Microsoft Windows Publisher', 'Timestamp': None, 'Trusted': 'trusted', '_ExtraInfo': None}</td>\n",
       "      <td>NT AUTHORITY\\SYSTEM</td>\n",
       "      <td>1290240.0</td>\n",
       "    </tr>\n",
       "    <tr>\n",
       "      <th>3</th>\n",
       "      <td>432</td>\n",
       "      <td>424</td>\n",
       "      <td>True</td>\n",
       "      <td>csrss.exe</td>\n",
       "      <td>%SystemRoot%\\system32\\csrss.exe ObjectDirectory=\\Windows SharedSection=1024,20480,768 Windows=On SubSystemType=Windows ServerDll=basesrv,1 ServerDll=winsrv:UserServerDllInitialization,3 ServerDll=sxssrv,4 ProfileControl=Off MaxRequestThreads=16</td>\n",
       "      <td>C:\\Windows\\System32\\csrss.exe</td>\n",
       "      <td>None</td>\n",
       "      <td>{'MD5': 'a6c9ee45bff7c5e696b07ec41af84541', 'SHA1': '7821fb14835083bae87a66ce96b67b261bea6b2b', 'SHA256': '50cbdbce85014f1042f99d5acdaad88ff268317a605bc3700b2487edd0f2ef0e'}</td>\n",
       "      <td>{'Filename': 'C:\\Windows\\System32\\csrss.exe', 'ProgramName': 'Microsoft Windows', 'PublisherLink': None, 'MoreInfoLink': 'http://www.microsoft.com/windows', 'SerialNumber': '33000002a5e1a081b7c895c0ed0000000002a5', 'IssuerName': 'C=US, ST=Washington, L=Redmond, O=Microsoft Corporation, CN=Microsoft Windows Production PCA 2011', 'SubjectName': 'C=US, ST=Washington, L=Redmond, O=Microsoft Corporation, CN=Microsoft Windows Publisher', 'Timestamp': None, 'Trusted': 'trusted', '_ExtraInfo': None}</td>\n",
       "      <td>NT AUTHORITY\\SYSTEM</td>\n",
       "      <td>6639616.0</td>\n",
       "    </tr>\n",
       "    <tr>\n",
       "      <th>4</th>\n",
       "      <td>504</td>\n",
       "      <td>424</td>\n",
       "      <td>True</td>\n",
       "      <td>wininit.exe</td>\n",
       "      <td>wininit.exe</td>\n",
       "      <td>C:\\Windows\\System32\\wininit.exe</td>\n",
       "      <td>None</td>\n",
       "      <td>{'MD5': '6ec6810c6fdae02e87d8a43db98e194d', 'SHA1': '999cdef567bb7497e6206587cf57b95ad8037c75', 'SHA256': '71dd6bfc68e6a840bc935ac08dc71618043bf705849b619d31a2b83e54670a3e'}</td>\n",
       "      <td>{'Filename': 'C:\\Windows\\System32\\wininit.exe', 'ProgramName': 'Microsoft Windows', 'PublisherLink': None, 'MoreInfoLink': 'http://www.microsoft.com/windows', 'SerialNumber': '33000003f6f4e8b30a2be45bd00000000003f6', 'IssuerName': 'C=US, ST=Washington, L=Redmond, O=Microsoft Corporation, CN=Microsoft Windows Production PCA 2011', 'SubjectName': 'C=US, ST=Washington, L=Redmond, O=Microsoft Corporation, CN=Microsoft Windows Publisher', 'Timestamp': None, 'Trusted': 'trusted', '_ExtraInfo': None}</td>\n",
       "      <td>NT AUTHORITY\\SYSTEM</td>\n",
       "      <td>7376896.0</td>\n",
       "    </tr>\n",
       "  </tbody>\n",
       "</table>\n",
       "</div>"
      ],
      "text/plain": [
       "   Pid  Ppid  TokenIsElevated         Name  \\\n",
       "0    4     0            False       System   \n",
       "1   96     4            False     Registry   \n",
       "2  308     4             True     smss.exe   \n",
       "3  432   424             True    csrss.exe   \n",
       "4  504   424             True  wininit.exe   \n",
       "\n",
       "                                                                                                                                                                                                                                            CommandLine  \\\n",
       "0                                                                                                                                                                                                                                                         \n",
       "1                                                                                                                                                                                                                                                         \n",
       "2                                                                                                                                                                                                                         \\SystemRoot\\System32\\smss.exe   \n",
       "3  %SystemRoot%\\system32\\csrss.exe ObjectDirectory=\\Windows SharedSection=1024,20480,768 Windows=On SubSystemType=Windows ServerDll=basesrv,1 ServerDll=winsrv:UserServerDllInitialization,3 ServerDll=sxssrv,4 ProfileControl=Off MaxRequestThreads=16   \n",
       "4                                                                                                                                                                                                                                           wininit.exe   \n",
       "\n",
       "                               Exe TokenInfo  \\\n",
       "0                                       None   \n",
       "1                                       None   \n",
       "2     C:\\Windows\\System32\\smss.exe      None   \n",
       "3    C:\\Windows\\System32\\csrss.exe      None   \n",
       "4  C:\\Windows\\System32\\wininit.exe      None   \n",
       "\n",
       "                                                                                                                                                                            Hash  \\\n",
       "0  {'MD5': 'd41d8cd98f00b204e9800998ecf8427e', 'SHA1': 'da39a3ee5e6b4b0d3255bfef95601890afd80709', 'SHA256': 'e3b0c44298fc1c149afbf4c8996fb92427ae41e4649b934ca495991b7852b855'}   \n",
       "1  {'MD5': 'd41d8cd98f00b204e9800998ecf8427e', 'SHA1': 'da39a3ee5e6b4b0d3255bfef95601890afd80709', 'SHA256': 'e3b0c44298fc1c149afbf4c8996fb92427ae41e4649b934ca495991b7852b855'}   \n",
       "2  {'MD5': '44962fd12f0d29b0713bb5e14653194a', 'SHA1': '3b2af5ef58ecf86abe51a730493363448b95dd0a', 'SHA256': 'd94c6656d377bb43a5cca307fc46f5de2b259e8884acedddf0b07f45425f457e'}   \n",
       "3  {'MD5': 'a6c9ee45bff7c5e696b07ec41af84541', 'SHA1': '7821fb14835083bae87a66ce96b67b261bea6b2b', 'SHA256': '50cbdbce85014f1042f99d5acdaad88ff268317a605bc3700b2487edd0f2ef0e'}   \n",
       "4  {'MD5': '6ec6810c6fdae02e87d8a43db98e194d', 'SHA1': '999cdef567bb7497e6206587cf57b95ad8037c75', 'SHA256': '71dd6bfc68e6a840bc935ac08dc71618043bf705849b619d31a2b83e54670a3e'}   \n",
       "\n",
       "                                                                                                                                                                                                                                                                                                                                                                                                                                                                                                         Authenticode  \\\n",
       "0                                                                                                                                                                                                                                                                                                                                                                                                                                                                                                                None   \n",
       "1                                                                                                                                                                                                                                                                                                                                                                                                                                                                                                                None   \n",
       "2     {'Filename': 'C:\\Windows\\System32\\smss.exe', 'ProgramName': 'Microsoft Windows', 'PublisherLink': None, 'MoreInfoLink': 'http://www.microsoft.com/windows', 'SerialNumber': '33000002a5e1a081b7c895c0ed0000000002a5', 'IssuerName': 'C=US, ST=Washington, L=Redmond, O=Microsoft Corporation, CN=Microsoft Windows Production PCA 2011', 'SubjectName': 'C=US, ST=Washington, L=Redmond, O=Microsoft Corporation, CN=Microsoft Windows Publisher', 'Timestamp': None, 'Trusted': 'trusted', '_ExtraInfo': None}   \n",
       "3    {'Filename': 'C:\\Windows\\System32\\csrss.exe', 'ProgramName': 'Microsoft Windows', 'PublisherLink': None, 'MoreInfoLink': 'http://www.microsoft.com/windows', 'SerialNumber': '33000002a5e1a081b7c895c0ed0000000002a5', 'IssuerName': 'C=US, ST=Washington, L=Redmond, O=Microsoft Corporation, CN=Microsoft Windows Production PCA 2011', 'SubjectName': 'C=US, ST=Washington, L=Redmond, O=Microsoft Corporation, CN=Microsoft Windows Publisher', 'Timestamp': None, 'Trusted': 'trusted', '_ExtraInfo': None}   \n",
       "4  {'Filename': 'C:\\Windows\\System32\\wininit.exe', 'ProgramName': 'Microsoft Windows', 'PublisherLink': None, 'MoreInfoLink': 'http://www.microsoft.com/windows', 'SerialNumber': '33000003f6f4e8b30a2be45bd00000000003f6', 'IssuerName': 'C=US, ST=Washington, L=Redmond, O=Microsoft Corporation, CN=Microsoft Windows Production PCA 2011', 'SubjectName': 'C=US, ST=Washington, L=Redmond, O=Microsoft Corporation, CN=Microsoft Windows Publisher', 'Timestamp': None, 'Trusted': 'trusted', '_ExtraInfo': None}   \n",
       "\n",
       "              Username  WorkingSetSize  \n",
       "0                             147456.0  \n",
       "1  NT AUTHORITY\\SYSTEM      54575104.0  \n",
       "2  NT AUTHORITY\\SYSTEM       1290240.0  \n",
       "3  NT AUTHORITY\\SYSTEM       6639616.0  \n",
       "4  NT AUTHORITY\\SYSTEM       7376896.0  "
      ]
     },
     "execution_count": 13,
     "metadata": {},
     "output_type": "execute_result"
    }
   ],
   "source": [
    "df_pslist.head()"
   ]
  },
  {
   "cell_type": "markdown",
   "id": "6337fcde-2990-4b86-9566-d6c3d1a7b4b8",
   "metadata": {
    "slideshow": {
     "slide_type": "subslide"
    },
    "tags": []
   },
   "source": [
    "#### Services"
   ]
  },
  {
   "cell_type": "code",
   "execution_count": 14,
   "id": "cd8184d2-3c6c-442a-b47e-03d2a78639a7",
   "metadata": {
    "slideshow": {
     "slide_type": "fragment"
    },
    "tags": []
   },
   "outputs": [
    {
     "data": {
      "application/vnd.jupyter.widget-view+json": {
       "model_id": "892d18f4608949228945fe900042d5c3",
       "version_major": 2,
       "version_minor": 0
      },
      "text/plain": [
       "  0%|          | 0/1 [00:00<?, ?it/s]"
      ]
     },
     "metadata": {},
     "output_type": "display_data"
    }
   ],
   "source": [
    "df_services = qry_prov.velociraptor.Windows_System_Services()"
   ]
  },
  {
   "cell_type": "code",
   "execution_count": 15,
   "id": "81c1026f-9fc0-46e6-aadd-1447944800a9",
   "metadata": {
    "slideshow": {
     "slide_type": "fragment"
    },
    "tags": []
   },
   "outputs": [
    {
     "data": {
      "text/html": [
       "<div>\n",
       "<style scoped>\n",
       "    .dataframe tbody tr th:only-of-type {\n",
       "        vertical-align: middle;\n",
       "    }\n",
       "\n",
       "    .dataframe tbody tr th {\n",
       "        vertical-align: top;\n",
       "    }\n",
       "\n",
       "    .dataframe thead th {\n",
       "        text-align: right;\n",
       "    }\n",
       "</style>\n",
       "<table border=\"1\" class=\"dataframe\">\n",
       "  <thead>\n",
       "    <tr style=\"text-align: right;\">\n",
       "      <th></th>\n",
       "      <th>State</th>\n",
       "      <th>Name</th>\n",
       "      <th>DisplayName</th>\n",
       "      <th>Status</th>\n",
       "      <th>Pid</th>\n",
       "      <th>ExitCode</th>\n",
       "      <th>StartMode</th>\n",
       "      <th>PathName</th>\n",
       "      <th>ServiceType</th>\n",
       "      <th>UserAccount</th>\n",
       "      <th>Created</th>\n",
       "      <th>ServiceDll</th>\n",
       "      <th>FailureCommand</th>\n",
       "      <th>FailureActions</th>\n",
       "      <th>AbsoluteExePath</th>\n",
       "      <th>HashServiceExe</th>\n",
       "      <th>CertinfoServiceExe</th>\n",
       "      <th>HashServiceDll</th>\n",
       "      <th>CertinfoServiceDll</th>\n",
       "    </tr>\n",
       "  </thead>\n",
       "  <tbody>\n",
       "    <tr>\n",
       "      <th>0</th>\n",
       "      <td>Stopped</td>\n",
       "      <td>AJRouter</td>\n",
       "      <td>AllJoyn Router Service</td>\n",
       "      <td>OK</td>\n",
       "      <td>0</td>\n",
       "      <td>1077</td>\n",
       "      <td>Manual</td>\n",
       "      <td>C:\\Windows\\system32\\svchost.exe -k LocalServiceNetworkRestricted -p</td>\n",
       "      <td>Share Process</td>\n",
       "      <td>NT AUTHORITY\\LocalService</td>\n",
       "      <td>2021-08-19T13:32:39.0871257Z</td>\n",
       "      <td>C:\\Windows\\System32\\AJRouter.dll</td>\n",
       "      <td>None</td>\n",
       "      <td>{'ResetPeriod': 86400, 'FailureAction': [{'Type': 'SC_ACTION_RESTART', 'Delay': 3}, {'Type': 'SC_ACTION_RESTART', 'Delay': 3}, {'Type': 'SC_ACTION_NONE', 'Delay': 0}]}</td>\n",
       "      <td>C:\\Windows\\system32\\svchost.exe</td>\n",
       "      <td>NaN</td>\n",
       "      <td>NaN</td>\n",
       "      <td>NaN</td>\n",
       "      <td>NaN</td>\n",
       "    </tr>\n",
       "    <tr>\n",
       "      <th>1</th>\n",
       "      <td>Stopped</td>\n",
       "      <td>ALG</td>\n",
       "      <td>Application Layer Gateway Service</td>\n",
       "      <td>OK</td>\n",
       "      <td>0</td>\n",
       "      <td>1077</td>\n",
       "      <td>Manual</td>\n",
       "      <td>C:\\Windows\\System32\\alg.exe</td>\n",
       "      <td>Own Process</td>\n",
       "      <td>NT AUTHORITY\\LocalService</td>\n",
       "      <td>2021-08-19T13:32:39.0871257Z</td>\n",
       "      <td>None</td>\n",
       "      <td>None</td>\n",
       "      <td>{'ResetPeriod': 900, 'FailureAction': [{'Type': 'SC_ACTION_RESTART', 'Delay': 120}, {'Type': 'SC_ACTION_RESTART', 'Delay': 300}, {'Type': 'SC_ACTION_NONE', 'Delay': 0}]}</td>\n",
       "      <td>C:\\Windows\\System32\\alg.exe</td>\n",
       "      <td>NaN</td>\n",
       "      <td>NaN</td>\n",
       "      <td>NaN</td>\n",
       "      <td>NaN</td>\n",
       "    </tr>\n",
       "    <tr>\n",
       "      <th>2</th>\n",
       "      <td>Stopped</td>\n",
       "      <td>Amazon EC2Launch</td>\n",
       "      <td>Amazon EC2Launch</td>\n",
       "      <td>OK</td>\n",
       "      <td>0</td>\n",
       "      <td>0</td>\n",
       "      <td>Auto</td>\n",
       "      <td>\"C:\\Program Files\\Amazon\\EC2Launch\\service\\EC2LaunchService.exe\"</td>\n",
       "      <td>Own Process</td>\n",
       "      <td>LocalSystem</td>\n",
       "      <td>2023-01-11T04:10:57.3268843Z</td>\n",
       "      <td>None</td>\n",
       "      <td>None</td>\n",
       "      <td>None</td>\n",
       "      <td>C:\\Program Files\\Amazon\\EC2Launch\\service\\EC2LaunchService.exe</td>\n",
       "      <td>NaN</td>\n",
       "      <td>NaN</td>\n",
       "      <td>NaN</td>\n",
       "      <td>NaN</td>\n",
       "    </tr>\n",
       "    <tr>\n",
       "      <th>3</th>\n",
       "      <td>Running</td>\n",
       "      <td>AmazonSSMAgent</td>\n",
       "      <td>Amazon SSM Agent</td>\n",
       "      <td>OK</td>\n",
       "      <td>2472</td>\n",
       "      <td>0</td>\n",
       "      <td>Auto</td>\n",
       "      <td>\"C:\\Program Files\\Amazon\\SSM\\amazon-ssm-agent.exe\"</td>\n",
       "      <td>Own Process</td>\n",
       "      <td>LocalSystem</td>\n",
       "      <td>2023-04-24T17:18:25.5172819Z</td>\n",
       "      <td>None</td>\n",
       "      <td>None</td>\n",
       "      <td>{'ResetPeriod': 86400, 'FailureAction': [{'Type': 'SC_ACTION_RESTART', 'Delay': 30}, {'Type': 'SC_ACTION_RESTART', 'Delay': 30}, {'Type': 'SC_ACTION_RESTART', 'Delay': 30}]}</td>\n",
       "      <td>C:\\Program Files\\Amazon\\SSM\\amazon-ssm-agent.exe</td>\n",
       "      <td>NaN</td>\n",
       "      <td>NaN</td>\n",
       "      <td>NaN</td>\n",
       "      <td>NaN</td>\n",
       "    </tr>\n",
       "    <tr>\n",
       "      <th>4</th>\n",
       "      <td>Stopped</td>\n",
       "      <td>AppIDSvc</td>\n",
       "      <td>Application Identity</td>\n",
       "      <td>OK</td>\n",
       "      <td>0</td>\n",
       "      <td>1077</td>\n",
       "      <td>Manual</td>\n",
       "      <td>C:\\Windows\\system32\\svchost.exe -k LocalServiceNetworkRestricted -p</td>\n",
       "      <td>Share Process</td>\n",
       "      <td>NT Authority\\LocalService</td>\n",
       "      <td>2021-08-19T13:32:39.0871257Z</td>\n",
       "      <td>C:\\Windows\\System32\\appidsvc.dll</td>\n",
       "      <td>None</td>\n",
       "      <td>{'ResetPeriod': 86400, 'FailureAction': [{'Type': 'SC_ACTION_RESTART', 'Delay': 120}, {'Type': 'SC_ACTION_RESTART', 'Delay': 300}, {'Type': 'SC_ACTION_NONE', 'Delay': 0}]}</td>\n",
       "      <td>C:\\Windows\\system32\\svchost.exe</td>\n",
       "      <td>NaN</td>\n",
       "      <td>NaN</td>\n",
       "      <td>NaN</td>\n",
       "      <td>NaN</td>\n",
       "    </tr>\n",
       "  </tbody>\n",
       "</table>\n",
       "</div>"
      ],
      "text/plain": [
       "     State              Name                        DisplayName Status   Pid  \\\n",
       "0  Stopped          AJRouter             AllJoyn Router Service     OK     0   \n",
       "1  Stopped               ALG  Application Layer Gateway Service     OK     0   \n",
       "2  Stopped  Amazon EC2Launch                   Amazon EC2Launch     OK     0   \n",
       "3  Running    AmazonSSMAgent                   Amazon SSM Agent     OK  2472   \n",
       "4  Stopped          AppIDSvc               Application Identity     OK     0   \n",
       "\n",
       "   ExitCode StartMode  \\\n",
       "0      1077    Manual   \n",
       "1      1077    Manual   \n",
       "2         0      Auto   \n",
       "3         0      Auto   \n",
       "4      1077    Manual   \n",
       "\n",
       "                                                              PathName  \\\n",
       "0  C:\\Windows\\system32\\svchost.exe -k LocalServiceNetworkRestricted -p   \n",
       "1                                          C:\\Windows\\System32\\alg.exe   \n",
       "2     \"C:\\Program Files\\Amazon\\EC2Launch\\service\\EC2LaunchService.exe\"   \n",
       "3                   \"C:\\Program Files\\Amazon\\SSM\\amazon-ssm-agent.exe\"   \n",
       "4  C:\\Windows\\system32\\svchost.exe -k LocalServiceNetworkRestricted -p   \n",
       "\n",
       "     ServiceType                UserAccount                       Created  \\\n",
       "0  Share Process  NT AUTHORITY\\LocalService  2021-08-19T13:32:39.0871257Z   \n",
       "1    Own Process  NT AUTHORITY\\LocalService  2021-08-19T13:32:39.0871257Z   \n",
       "2    Own Process                LocalSystem  2023-01-11T04:10:57.3268843Z   \n",
       "3    Own Process                LocalSystem  2023-04-24T17:18:25.5172819Z   \n",
       "4  Share Process  NT Authority\\LocalService  2021-08-19T13:32:39.0871257Z   \n",
       "\n",
       "                         ServiceDll FailureCommand  \\\n",
       "0  C:\\Windows\\System32\\AJRouter.dll           None   \n",
       "1                              None           None   \n",
       "2                              None           None   \n",
       "3                              None           None   \n",
       "4  C:\\Windows\\System32\\appidsvc.dll           None   \n",
       "\n",
       "                                                                                                                                                                  FailureActions  \\\n",
       "0        {'ResetPeriod': 86400, 'FailureAction': [{'Type': 'SC_ACTION_RESTART', 'Delay': 3}, {'Type': 'SC_ACTION_RESTART', 'Delay': 3}, {'Type': 'SC_ACTION_NONE', 'Delay': 0}]}   \n",
       "1      {'ResetPeriod': 900, 'FailureAction': [{'Type': 'SC_ACTION_RESTART', 'Delay': 120}, {'Type': 'SC_ACTION_RESTART', 'Delay': 300}, {'Type': 'SC_ACTION_NONE', 'Delay': 0}]}   \n",
       "2                                                                                                                                                                           None   \n",
       "3  {'ResetPeriod': 86400, 'FailureAction': [{'Type': 'SC_ACTION_RESTART', 'Delay': 30}, {'Type': 'SC_ACTION_RESTART', 'Delay': 30}, {'Type': 'SC_ACTION_RESTART', 'Delay': 30}]}   \n",
       "4    {'ResetPeriod': 86400, 'FailureAction': [{'Type': 'SC_ACTION_RESTART', 'Delay': 120}, {'Type': 'SC_ACTION_RESTART', 'Delay': 300}, {'Type': 'SC_ACTION_NONE', 'Delay': 0}]}   \n",
       "\n",
       "                                                  AbsoluteExePath  \\\n",
       "0                                 C:\\Windows\\system32\\svchost.exe   \n",
       "1                                     C:\\Windows\\System32\\alg.exe   \n",
       "2  C:\\Program Files\\Amazon\\EC2Launch\\service\\EC2LaunchService.exe   \n",
       "3                C:\\Program Files\\Amazon\\SSM\\amazon-ssm-agent.exe   \n",
       "4                                 C:\\Windows\\system32\\svchost.exe   \n",
       "\n",
       "   HashServiceExe  CertinfoServiceExe  HashServiceDll  CertinfoServiceDll  \n",
       "0             NaN                 NaN             NaN                 NaN  \n",
       "1             NaN                 NaN             NaN                 NaN  \n",
       "2             NaN                 NaN             NaN                 NaN  \n",
       "3             NaN                 NaN             NaN                 NaN  \n",
       "4             NaN                 NaN             NaN                 NaN  "
      ]
     },
     "execution_count": 15,
     "metadata": {},
     "output_type": "execute_result"
    }
   ],
   "source": [
    "df_services.head()"
   ]
  },
  {
   "cell_type": "markdown",
   "id": "36c062cd-4c46-4f94-b365-567761fc68e0",
   "metadata": {
    "slideshow": {
     "slide_type": "subslide"
    },
    "tags": []
   },
   "source": [
    "#### Browser activities"
   ]
  },
  {
   "cell_type": "code",
   "execution_count": 16,
   "id": "33af2525-0187-442e-8ba4-1f1231bf1bae",
   "metadata": {
    "slideshow": {
     "slide_type": "fragment"
    },
    "tags": []
   },
   "outputs": [
    {
     "data": {
      "application/vnd.jupyter.widget-view+json": {
       "model_id": "8857e882996d4f1996a42edd9cae8ad4",
       "version_major": 2,
       "version_minor": 0
      },
      "text/plain": [
       "  0%|          | 0/1 [00:00<?, ?it/s]"
      ]
     },
     "metadata": {},
     "output_type": "display_data"
    },
    {
     "data": {
      "text/html": [
       "<div>\n",
       "<style scoped>\n",
       "    .dataframe tbody tr th:only-of-type {\n",
       "        vertical-align: middle;\n",
       "    }\n",
       "\n",
       "    .dataframe tbody tr th {\n",
       "        vertical-align: top;\n",
       "    }\n",
       "\n",
       "    .dataframe thead th {\n",
       "        text-align: right;\n",
       "    }\n",
       "</style>\n",
       "<table border=\"1\" class=\"dataframe\">\n",
       "  <thead>\n",
       "    <tr style=\"text-align: right;\">\n",
       "      <th></th>\n",
       "      <th>Uid</th>\n",
       "      <th>User</th>\n",
       "      <th>Name</th>\n",
       "      <th>Description</th>\n",
       "      <th>Identifier</th>\n",
       "      <th>Version</th>\n",
       "      <th>Author</th>\n",
       "      <th>Persistent</th>\n",
       "      <th>Path</th>\n",
       "      <th>Scopes</th>\n",
       "      <th>Permissions</th>\n",
       "      <th>Key</th>\n",
       "    </tr>\n",
       "  </thead>\n",
       "  <tbody>\n",
       "    <tr>\n",
       "      <th>0</th>\n",
       "      <td>1170</td>\n",
       "      <td>seth.morgan</td>\n",
       "      <td>Google Docs Offline</td>\n",
       "      <td>Edit, create, and view your documents, spreadsheets, and presentations — all without internet access.</td>\n",
       "      <td>ghbmnnjooekpmoecnnnilnnbdlolhkhi</td>\n",
       "      <td>1.61.4_0</td>\n",
       "      <td>{'email': 'docs-hosted-app-own@google.com'}</td>\n",
       "      <td>0.0</td>\n",
       "      <td>C:\\Users\\seth.morgan\\AppData\\Local\\Google\\Chrome\\User Data\\Default\\Extensions\\ghbmnnjooekpmoecnnnilnnbdlolhkhi\\1.61.4_0\\</td>\n",
       "      <td>None</td>\n",
       "      <td>[alarms, storage, unlimitedStorage, https://docs.google.com/*, https://drive.google.com/*]</td>\n",
       "      <td>MIIBIjANBgkqhkiG9w0BAQEFAAOCAQ8AMIIBCgKCAQEAnF7RGLAxIon0/XeNZ4MLdP3DMkoORzEAKVg0sb89JpA/W2osTHr91Wqwdc9lW0mFcSpCYS9Y3e7cUMFo/M2ETASIuZncMiUzX2/0rrWtGQ3UuEj3KSe5PdaVZfisyJw/FebvHwirEWrhqcgzVUj9fL9YjE0G45d1zMKcc1umKvLqPyTznNuKBZ9GJREdGLRJCBmUgCkI8iwtwC+QZTUppmaD50/ksnEUXv+QkgGN07/KoNA5oAgo49Jf1XBoMv4QXtVZQlBYZl84zAsI82hb63a6Gu29U/4qMWDdI7+3Ne5TRvo6Zi3EI4M2NQNplJhik105qrz+eTLJJxvf4slrWwIDAQAB</td>\n",
       "    </tr>\n",
       "    <tr>\n",
       "      <th>1</th>\n",
       "      <td>1170</td>\n",
       "      <td>seth.morgan</td>\n",
       "      <td>None</td>\n",
       "      <td>None</td>\n",
       "      <td>nmmhkkegccagdldgiimedpiccmgmieda</td>\n",
       "      <td>1.0.0.6_0</td>\n",
       "      <td>None</td>\n",
       "      <td>NaN</td>\n",
       "      <td>C:\\Users\\seth.morgan\\AppData\\Local\\Google\\Chrome\\User Data\\Default\\Extensions\\nmmhkkegccagdldgiimedpiccmgmieda\\1.0.0.6_0\\</td>\n",
       "      <td>[https://www.googleapis.com/auth/sierra, https://www.googleapis.com/auth/sierrasandbox, https://www.googleapis.com/auth/chromewebstore, https://www.googleapis.com/auth/chromewebstore.readonly]</td>\n",
       "      <td>[identity, webview, https://www.google.com/, https://www.googleapis.com/*, https://payments.google.com/payments/v4/js/integrator.js, https://sandbox.google.com/payments/v4/js/integrator.js]</td>\n",
       "      <td>MIGfMA0GCSqGSIb3DQEBAQUAA4GNADCBiQKBgQCrKfMnLqViEyokd1wk57FxJtW2XXpGXzIHBzv9vQI/01UsuP0IV5/lj0wx7zJ/xcibUgDeIxobvv9XD+zO1MdjMWuqJFcKuSS4Suqkje6u+pMrTSGOSHq1bmBVh0kpToN8YoJs/P/yrRd7FEtAXTaFTGxQL4C385MeXSjaQfiRiQIDAQAB</td>\n",
       "    </tr>\n",
       "  </tbody>\n",
       "</table>\n",
       "</div>"
      ],
      "text/plain": [
       "    Uid         User                 Name  \\\n",
       "0  1170  seth.morgan  Google Docs Offline   \n",
       "1  1170  seth.morgan                 None   \n",
       "\n",
       "                                                                                             Description  \\\n",
       "0  Edit, create, and view your documents, spreadsheets, and presentations — all without internet access.   \n",
       "1                                                                                                   None   \n",
       "\n",
       "                         Identifier    Version  \\\n",
       "0  ghbmnnjooekpmoecnnnilnnbdlolhkhi   1.61.4_0   \n",
       "1  nmmhkkegccagdldgiimedpiccmgmieda  1.0.0.6_0   \n",
       "\n",
       "                                        Author  Persistent  \\\n",
       "0  {'email': 'docs-hosted-app-own@google.com'}         0.0   \n",
       "1                                         None         NaN   \n",
       "\n",
       "                                                                                                                        Path  \\\n",
       "0   C:\\Users\\seth.morgan\\AppData\\Local\\Google\\Chrome\\User Data\\Default\\Extensions\\ghbmnnjooekpmoecnnnilnnbdlolhkhi\\1.61.4_0\\   \n",
       "1  C:\\Users\\seth.morgan\\AppData\\Local\\Google\\Chrome\\User Data\\Default\\Extensions\\nmmhkkegccagdldgiimedpiccmgmieda\\1.0.0.6_0\\   \n",
       "\n",
       "                                                                                                                                                                                             Scopes  \\\n",
       "0                                                                                                                                                                                              None   \n",
       "1  [https://www.googleapis.com/auth/sierra, https://www.googleapis.com/auth/sierrasandbox, https://www.googleapis.com/auth/chromewebstore, https://www.googleapis.com/auth/chromewebstore.readonly]   \n",
       "\n",
       "                                                                                                                                                                                     Permissions  \\\n",
       "0                                                                                                     [alarms, storage, unlimitedStorage, https://docs.google.com/*, https://drive.google.com/*]   \n",
       "1  [identity, webview, https://www.google.com/, https://www.googleapis.com/*, https://payments.google.com/payments/v4/js/integrator.js, https://sandbox.google.com/payments/v4/js/integrator.js]   \n",
       "\n",
       "                                                                                                                                                                                                                                                                                                                                                                                                        Key  \n",
       "0  MIIBIjANBgkqhkiG9w0BAQEFAAOCAQ8AMIIBCgKCAQEAnF7RGLAxIon0/XeNZ4MLdP3DMkoORzEAKVg0sb89JpA/W2osTHr91Wqwdc9lW0mFcSpCYS9Y3e7cUMFo/M2ETASIuZncMiUzX2/0rrWtGQ3UuEj3KSe5PdaVZfisyJw/FebvHwirEWrhqcgzVUj9fL9YjE0G45d1zMKcc1umKvLqPyTznNuKBZ9GJREdGLRJCBmUgCkI8iwtwC+QZTUppmaD50/ksnEUXv+QkgGN07/KoNA5oAgo49Jf1XBoMv4QXtVZQlBYZl84zAsI82hb63a6Gu29U/4qMWDdI7+3Ne5TRvo6Zi3EI4M2NQNplJhik105qrz+eTLJJxvf4slrWwIDAQAB  \n",
       "1                                                                                                                                                                                  MIGfMA0GCSqGSIb3DQEBAQUAA4GNADCBiQKBgQCrKfMnLqViEyokd1wk57FxJtW2XXpGXzIHBzv9vQI/01UsuP0IV5/lj0wx7zJ/xcibUgDeIxobvv9XD+zO1MdjMWuqJFcKuSS4Suqkje6u+pMrTSGOSHq1bmBVh0kpToN8YoJs/P/yrRd7FEtAXTaFTGxQL4C385MeXSjaQfiRiQIDAQAB  "
      ]
     },
     "execution_count": 16,
     "metadata": {},
     "output_type": "execute_result"
    }
   ],
   "source": [
    "qry_prov.velociraptor.Windows_Applications_Chrome_Extensions()"
   ]
  },
  {
   "cell_type": "code",
   "execution_count": 17,
   "id": "ac537fe5-7d10-4b16-87c0-c53f47c1bb6b",
   "metadata": {
    "slideshow": {
     "slide_type": "subslide"
    },
    "tags": []
   },
   "outputs": [
    {
     "data": {
      "application/vnd.jupyter.widget-view+json": {
       "model_id": "7724d1d8000242b1b80235c4858a2605",
       "version_major": 2,
       "version_minor": 0
      },
      "text/plain": [
       "  0%|          | 0/1 [00:00<?, ?it/s]"
      ]
     },
     "metadata": {},
     "output_type": "display_data"
    }
   ],
   "source": [
    "df_chrome_history = qry_prov.velociraptor.Windows_Applications_Chrome_History()"
   ]
  },
  {
   "cell_type": "code",
   "execution_count": 18,
   "id": "aa39905e-da77-476f-8ad4-7e3c2b147617",
   "metadata": {
    "slideshow": {
     "slide_type": "fragment"
    },
    "tags": []
   },
   "outputs": [
    {
     "data": {
      "text/html": [
       "<div>\n",
       "<style scoped>\n",
       "    .dataframe tbody tr th:only-of-type {\n",
       "        vertical-align: middle;\n",
       "    }\n",
       "\n",
       "    .dataframe tbody tr th {\n",
       "        vertical-align: top;\n",
       "    }\n",
       "\n",
       "    .dataframe thead th {\n",
       "        text-align: right;\n",
       "    }\n",
       "</style>\n",
       "<table border=\"1\" class=\"dataframe\">\n",
       "  <thead>\n",
       "    <tr style=\"text-align: right;\">\n",
       "      <th></th>\n",
       "      <th>User</th>\n",
       "      <th>url_id</th>\n",
       "      <th>visit_time</th>\n",
       "      <th>visited_url</th>\n",
       "      <th>title</th>\n",
       "      <th>visit_count</th>\n",
       "      <th>typed_count</th>\n",
       "      <th>last_visit_time</th>\n",
       "      <th>hidden</th>\n",
       "      <th>from_url_id</th>\n",
       "      <th>visit_duration</th>\n",
       "      <th>transition</th>\n",
       "      <th>_SourceLastModificationTimestamp</th>\n",
       "      <th>OSPath</th>\n",
       "    </tr>\n",
       "  </thead>\n",
       "  <tbody>\n",
       "    <tr>\n",
       "      <th>0</th>\n",
       "      <td>seth.morgan</td>\n",
       "      <td>1</td>\n",
       "      <td>2023-04-29 21:46:02+00:00</td>\n",
       "      <td>file://172.16.50.146/Users/seth.morgan/Downloads/NEWSHARE2023/2022-Backup/2022-Backup/Internal/Depts/Operations/are-you-ready-guide.pdf</td>\n",
       "      <td></td>\n",
       "      <td>1</td>\n",
       "      <td>0</td>\n",
       "      <td>2023-04-29 21:46:02+00:00</td>\n",
       "      <td>0</td>\n",
       "      <td>0</td>\n",
       "      <td>00:00:36.330</td>\n",
       "      <td>805306374</td>\n",
       "      <td>2023-04-29T21:46:02Z</td>\n",
       "      <td>C:\\Users\\seth.morgan\\AppData\\Local\\Microsoft\\Edge\\User Data\\Default\\History</td>\n",
       "    </tr>\n",
       "    <tr>\n",
       "      <th>1</th>\n",
       "      <td>seth.morgan</td>\n",
       "      <td>2</td>\n",
       "      <td>2023-04-29 21:46:16+00:00</td>\n",
       "      <td>https://go.microsoft.com/fwlink/?linkid=2132465&amp;form=MT004A&amp;OCID=MT004A</td>\n",
       "      <td>Welcome to Microsoft Edge</td>\n",
       "      <td>2</td>\n",
       "      <td>1</td>\n",
       "      <td>2023-04-29 21:46:16+00:00</td>\n",
       "      <td>0</td>\n",
       "      <td>0</td>\n",
       "      <td>00:00:00.000</td>\n",
       "      <td>268435457</td>\n",
       "      <td>2023-04-29T21:46:16Z</td>\n",
       "      <td>C:\\Users\\seth.morgan\\AppData\\Local\\Microsoft\\Edge\\User Data\\Default\\History</td>\n",
       "    </tr>\n",
       "    <tr>\n",
       "      <th>2</th>\n",
       "      <td>seth.morgan</td>\n",
       "      <td>3</td>\n",
       "      <td>2023-04-29 21:46:16+00:00</td>\n",
       "      <td>https://microsoftedgewelcome.microsoft.com/</td>\n",
       "      <td>Welcome to Microsoft Edge</td>\n",
       "      <td>2</td>\n",
       "      <td>0</td>\n",
       "      <td>2023-04-29 21:46:16+00:00</td>\n",
       "      <td>0</td>\n",
       "      <td>2</td>\n",
       "      <td>00:00:00.000</td>\n",
       "      <td>-2147483647</td>\n",
       "      <td>2023-04-29T21:46:16Z</td>\n",
       "      <td>C:\\Users\\seth.morgan\\AppData\\Local\\Microsoft\\Edge\\User Data\\Default\\History</td>\n",
       "    </tr>\n",
       "    <tr>\n",
       "      <th>3</th>\n",
       "      <td>seth.morgan</td>\n",
       "      <td>4</td>\n",
       "      <td>2023-04-29 21:46:16+00:00</td>\n",
       "      <td>https://microsoftedgewelcome.microsoft.com/en-us/</td>\n",
       "      <td>Welcome to Microsoft Edge</td>\n",
       "      <td>2</td>\n",
       "      <td>0</td>\n",
       "      <td>2023-04-29 21:46:16+00:00</td>\n",
       "      <td>0</td>\n",
       "      <td>3</td>\n",
       "      <td>00:00:00.000</td>\n",
       "      <td>-2147483647</td>\n",
       "      <td>2023-04-29T21:46:16Z</td>\n",
       "      <td>C:\\Users\\seth.morgan\\AppData\\Local\\Microsoft\\Edge\\User Data\\Default\\History</td>\n",
       "    </tr>\n",
       "    <tr>\n",
       "      <th>4</th>\n",
       "      <td>seth.morgan</td>\n",
       "      <td>2</td>\n",
       "      <td>2023-04-29 21:46:16+00:00</td>\n",
       "      <td>https://go.microsoft.com/fwlink/?linkid=2132465&amp;form=MT004A&amp;OCID=MT004A</td>\n",
       "      <td>Welcome to Microsoft Edge</td>\n",
       "      <td>2</td>\n",
       "      <td>1</td>\n",
       "      <td>2023-04-29 21:46:16+00:00</td>\n",
       "      <td>0</td>\n",
       "      <td>4</td>\n",
       "      <td>00:00:00.000</td>\n",
       "      <td>-2147483647</td>\n",
       "      <td>2023-04-29T21:46:16Z</td>\n",
       "      <td>C:\\Users\\seth.morgan\\AppData\\Local\\Microsoft\\Edge\\User Data\\Default\\History</td>\n",
       "    </tr>\n",
       "  </tbody>\n",
       "</table>\n",
       "</div>"
      ],
      "text/plain": [
       "          User  url_id                visit_time  \\\n",
       "0  seth.morgan       1 2023-04-29 21:46:02+00:00   \n",
       "1  seth.morgan       2 2023-04-29 21:46:16+00:00   \n",
       "2  seth.morgan       3 2023-04-29 21:46:16+00:00   \n",
       "3  seth.morgan       4 2023-04-29 21:46:16+00:00   \n",
       "4  seth.morgan       2 2023-04-29 21:46:16+00:00   \n",
       "\n",
       "                                                                                                                               visited_url  \\\n",
       "0  file://172.16.50.146/Users/seth.morgan/Downloads/NEWSHARE2023/2022-Backup/2022-Backup/Internal/Depts/Operations/are-you-ready-guide.pdf   \n",
       "1                                                                  https://go.microsoft.com/fwlink/?linkid=2132465&form=MT004A&OCID=MT004A   \n",
       "2                                                                                              https://microsoftedgewelcome.microsoft.com/   \n",
       "3                                                                                        https://microsoftedgewelcome.microsoft.com/en-us/   \n",
       "4                                                                  https://go.microsoft.com/fwlink/?linkid=2132465&form=MT004A&OCID=MT004A   \n",
       "\n",
       "                       title  visit_count  typed_count  \\\n",
       "0                                       1            0   \n",
       "1  Welcome to Microsoft Edge            2            1   \n",
       "2  Welcome to Microsoft Edge            2            0   \n",
       "3  Welcome to Microsoft Edge            2            0   \n",
       "4  Welcome to Microsoft Edge            2            1   \n",
       "\n",
       "            last_visit_time  hidden  from_url_id visit_duration  transition  \\\n",
       "0 2023-04-29 21:46:02+00:00       0            0   00:00:36.330   805306374   \n",
       "1 2023-04-29 21:46:16+00:00       0            0   00:00:00.000   268435457   \n",
       "2 2023-04-29 21:46:16+00:00       0            2   00:00:00.000 -2147483647   \n",
       "3 2023-04-29 21:46:16+00:00       0            3   00:00:00.000 -2147483647   \n",
       "4 2023-04-29 21:46:16+00:00       0            4   00:00:00.000 -2147483647   \n",
       "\n",
       "  _SourceLastModificationTimestamp  \\\n",
       "0             2023-04-29T21:46:02Z   \n",
       "1             2023-04-29T21:46:16Z   \n",
       "2             2023-04-29T21:46:16Z   \n",
       "3             2023-04-29T21:46:16Z   \n",
       "4             2023-04-29T21:46:16Z   \n",
       "\n",
       "                                                                        OSPath  \n",
       "0  C:\\Users\\seth.morgan\\AppData\\Local\\Microsoft\\Edge\\User Data\\Default\\History  \n",
       "1  C:\\Users\\seth.morgan\\AppData\\Local\\Microsoft\\Edge\\User Data\\Default\\History  \n",
       "2  C:\\Users\\seth.morgan\\AppData\\Local\\Microsoft\\Edge\\User Data\\Default\\History  \n",
       "3  C:\\Users\\seth.morgan\\AppData\\Local\\Microsoft\\Edge\\User Data\\Default\\History  \n",
       "4  C:\\Users\\seth.morgan\\AppData\\Local\\Microsoft\\Edge\\User Data\\Default\\History  "
      ]
     },
     "execution_count": 18,
     "metadata": {},
     "output_type": "execute_result"
    }
   ],
   "source": [
    "df_chrome_history.head()"
   ]
  },
  {
   "cell_type": "code",
   "execution_count": 19,
   "id": "b1f2518c-ce5d-425d-a8a1-39a84b193d87",
   "metadata": {
    "slideshow": {
     "slide_type": "fragment"
    },
    "tags": []
   },
   "outputs": [
    {
     "data": {
      "application/vnd.jupyter.widget-view+json": {
       "model_id": "f699700dc0e140e08c8e4f2611570998",
       "version_major": 2,
       "version_minor": 0
      },
      "text/plain": [
       "  0%|          | 0/1 [00:00<?, ?it/s]"
      ]
     },
     "metadata": {},
     "output_type": "display_data"
    },
    {
     "data": {
      "text/html": [
       "<div>\n",
       "<style scoped>\n",
       "    .dataframe tbody tr th:only-of-type {\n",
       "        vertical-align: middle;\n",
       "    }\n",
       "\n",
       "    .dataframe tbody tr th {\n",
       "        vertical-align: top;\n",
       "    }\n",
       "\n",
       "    .dataframe thead th {\n",
       "        text-align: right;\n",
       "    }\n",
       "</style>\n",
       "<table border=\"1\" class=\"dataframe\">\n",
       "  <thead>\n",
       "    <tr style=\"text-align: right;\">\n",
       "      <th></th>\n",
       "      <th>User</th>\n",
       "      <th>url_id</th>\n",
       "      <th>visit_time</th>\n",
       "      <th>visited_url</th>\n",
       "      <th>title</th>\n",
       "      <th>visit_count</th>\n",
       "      <th>typed_count</th>\n",
       "      <th>last_visit_time</th>\n",
       "      <th>hidden</th>\n",
       "      <th>from_url_id</th>\n",
       "      <th>visit_duration</th>\n",
       "      <th>transition</th>\n",
       "      <th>_SourceLastModificationTimestamp</th>\n",
       "      <th>OSPath</th>\n",
       "      <th>_Source</th>\n",
       "    </tr>\n",
       "  </thead>\n",
       "  <tbody>\n",
       "    <tr>\n",
       "      <th>0</th>\n",
       "      <td>seth.morgan</td>\n",
       "      <td>1</td>\n",
       "      <td>2023-04-29 21:46:02+00:00</td>\n",
       "      <td>file://172.16.50.146/Users/seth.morgan/Downloads/NEWSHARE2023/2022-Backup/2022-Backup/Internal/Depts/Operations/are-you-ready-guide.pdf</td>\n",
       "      <td></td>\n",
       "      <td>1</td>\n",
       "      <td>0</td>\n",
       "      <td>2023-04-29 21:46:02+00:00</td>\n",
       "      <td>0</td>\n",
       "      <td>0</td>\n",
       "      <td>00:00:36.330</td>\n",
       "      <td>805306374</td>\n",
       "      <td>2023-04-29T21:46:02Z</td>\n",
       "      <td>C:\\Users\\seth.morgan\\AppData\\Local\\Microsoft\\Edge\\User Data\\Default\\History</td>\n",
       "      <td>Windows.Applications.Chrome.History</td>\n",
       "    </tr>\n",
       "    <tr>\n",
       "      <th>1</th>\n",
       "      <td>seth.morgan</td>\n",
       "      <td>2</td>\n",
       "      <td>2023-04-29 21:46:16+00:00</td>\n",
       "      <td>https://go.microsoft.com/fwlink/?linkid=2132465&amp;form=MT004A&amp;OCID=MT004A</td>\n",
       "      <td>Welcome to Microsoft Edge</td>\n",
       "      <td>2</td>\n",
       "      <td>1</td>\n",
       "      <td>2023-04-29 21:46:16+00:00</td>\n",
       "      <td>0</td>\n",
       "      <td>0</td>\n",
       "      <td>00:00:00.000</td>\n",
       "      <td>268435457</td>\n",
       "      <td>2023-04-29T21:46:16Z</td>\n",
       "      <td>C:\\Users\\seth.morgan\\AppData\\Local\\Microsoft\\Edge\\User Data\\Default\\History</td>\n",
       "      <td>Windows.Applications.Chrome.History</td>\n",
       "    </tr>\n",
       "    <tr>\n",
       "      <th>2</th>\n",
       "      <td>seth.morgan</td>\n",
       "      <td>3</td>\n",
       "      <td>2023-04-29 21:46:16+00:00</td>\n",
       "      <td>https://microsoftedgewelcome.microsoft.com/</td>\n",
       "      <td>Welcome to Microsoft Edge</td>\n",
       "      <td>2</td>\n",
       "      <td>0</td>\n",
       "      <td>2023-04-29 21:46:16+00:00</td>\n",
       "      <td>0</td>\n",
       "      <td>2</td>\n",
       "      <td>00:00:00.000</td>\n",
       "      <td>-2147483647</td>\n",
       "      <td>2023-04-29T21:46:16Z</td>\n",
       "      <td>C:\\Users\\seth.morgan\\AppData\\Local\\Microsoft\\Edge\\User Data\\Default\\History</td>\n",
       "      <td>Windows.Applications.Chrome.History</td>\n",
       "    </tr>\n",
       "    <tr>\n",
       "      <th>3</th>\n",
       "      <td>seth.morgan</td>\n",
       "      <td>4</td>\n",
       "      <td>2023-04-29 21:46:16+00:00</td>\n",
       "      <td>https://microsoftedgewelcome.microsoft.com/en-us/</td>\n",
       "      <td>Welcome to Microsoft Edge</td>\n",
       "      <td>2</td>\n",
       "      <td>0</td>\n",
       "      <td>2023-04-29 21:46:16+00:00</td>\n",
       "      <td>0</td>\n",
       "      <td>3</td>\n",
       "      <td>00:00:00.000</td>\n",
       "      <td>-2147483647</td>\n",
       "      <td>2023-04-29T21:46:16Z</td>\n",
       "      <td>C:\\Users\\seth.morgan\\AppData\\Local\\Microsoft\\Edge\\User Data\\Default\\History</td>\n",
       "      <td>Windows.Applications.Chrome.History</td>\n",
       "    </tr>\n",
       "    <tr>\n",
       "      <th>4</th>\n",
       "      <td>seth.morgan</td>\n",
       "      <td>2</td>\n",
       "      <td>2023-04-29 21:46:16+00:00</td>\n",
       "      <td>https://go.microsoft.com/fwlink/?linkid=2132465&amp;form=MT004A&amp;OCID=MT004A</td>\n",
       "      <td>Welcome to Microsoft Edge</td>\n",
       "      <td>2</td>\n",
       "      <td>1</td>\n",
       "      <td>2023-04-29 21:46:16+00:00</td>\n",
       "      <td>0</td>\n",
       "      <td>4</td>\n",
       "      <td>00:00:00.000</td>\n",
       "      <td>-2147483647</td>\n",
       "      <td>2023-04-29T21:46:16Z</td>\n",
       "      <td>C:\\Users\\seth.morgan\\AppData\\Local\\Microsoft\\Edge\\User Data\\Default\\History</td>\n",
       "      <td>Windows.Applications.Chrome.History</td>\n",
       "    </tr>\n",
       "  </tbody>\n",
       "</table>\n",
       "</div>"
      ],
      "text/plain": [
       "          User  url_id                visit_time  \\\n",
       "0  seth.morgan       1 2023-04-29 21:46:02+00:00   \n",
       "1  seth.morgan       2 2023-04-29 21:46:16+00:00   \n",
       "2  seth.morgan       3 2023-04-29 21:46:16+00:00   \n",
       "3  seth.morgan       4 2023-04-29 21:46:16+00:00   \n",
       "4  seth.morgan       2 2023-04-29 21:46:16+00:00   \n",
       "\n",
       "                                                                                                                               visited_url  \\\n",
       "0  file://172.16.50.146/Users/seth.morgan/Downloads/NEWSHARE2023/2022-Backup/2022-Backup/Internal/Depts/Operations/are-you-ready-guide.pdf   \n",
       "1                                                                  https://go.microsoft.com/fwlink/?linkid=2132465&form=MT004A&OCID=MT004A   \n",
       "2                                                                                              https://microsoftedgewelcome.microsoft.com/   \n",
       "3                                                                                        https://microsoftedgewelcome.microsoft.com/en-us/   \n",
       "4                                                                  https://go.microsoft.com/fwlink/?linkid=2132465&form=MT004A&OCID=MT004A   \n",
       "\n",
       "                       title  visit_count  typed_count  \\\n",
       "0                                       1            0   \n",
       "1  Welcome to Microsoft Edge            2            1   \n",
       "2  Welcome to Microsoft Edge            2            0   \n",
       "3  Welcome to Microsoft Edge            2            0   \n",
       "4  Welcome to Microsoft Edge            2            1   \n",
       "\n",
       "            last_visit_time  hidden  from_url_id visit_duration  transition  \\\n",
       "0 2023-04-29 21:46:02+00:00       0            0   00:00:36.330   805306374   \n",
       "1 2023-04-29 21:46:16+00:00       0            0   00:00:00.000   268435457   \n",
       "2 2023-04-29 21:46:16+00:00       0            2   00:00:00.000 -2147483647   \n",
       "3 2023-04-29 21:46:16+00:00       0            3   00:00:00.000 -2147483647   \n",
       "4 2023-04-29 21:46:16+00:00       0            4   00:00:00.000 -2147483647   \n",
       "\n",
       "  _SourceLastModificationTimestamp  \\\n",
       "0             2023-04-29T21:46:02Z   \n",
       "1             2023-04-29T21:46:16Z   \n",
       "2             2023-04-29T21:46:16Z   \n",
       "3             2023-04-29T21:46:16Z   \n",
       "4             2023-04-29T21:46:16Z   \n",
       "\n",
       "                                                                        OSPath  \\\n",
       "0  C:\\Users\\seth.morgan\\AppData\\Local\\Microsoft\\Edge\\User Data\\Default\\History   \n",
       "1  C:\\Users\\seth.morgan\\AppData\\Local\\Microsoft\\Edge\\User Data\\Default\\History   \n",
       "2  C:\\Users\\seth.morgan\\AppData\\Local\\Microsoft\\Edge\\User Data\\Default\\History   \n",
       "3  C:\\Users\\seth.morgan\\AppData\\Local\\Microsoft\\Edge\\User Data\\Default\\History   \n",
       "4  C:\\Users\\seth.morgan\\AppData\\Local\\Microsoft\\Edge\\User Data\\Default\\History   \n",
       "\n",
       "                               _Source  \n",
       "0  Windows.Applications.Chrome.History  \n",
       "1  Windows.Applications.Chrome.History  \n",
       "2  Windows.Applications.Chrome.History  \n",
       "3  Windows.Applications.Chrome.History  \n",
       "4  Windows.Applications.Chrome.History  "
      ]
     },
     "execution_count": 19,
     "metadata": {},
     "output_type": "execute_result"
    }
   ],
   "source": [
    "qry_prov.velociraptor.Windows_Applications_Edge_History().head()"
   ]
  },
  {
   "cell_type": "markdown",
   "id": "ede393a3-08e1-450f-858d-acc501a11141",
   "metadata": {
    "slideshow": {
     "slide_type": "subslide"
    },
    "tags": []
   },
   "source": [
    "### Forensics"
   ]
  },
  {
   "cell_type": "code",
   "execution_count": 20,
   "id": "cd32664f-83c5-44e8-a4a4-ecde9fa1cac6",
   "metadata": {
    "slideshow": {
     "slide_type": "fragment"
    },
    "tags": []
   },
   "outputs": [
    {
     "data": {
      "application/vnd.jupyter.widget-view+json": {
       "model_id": "a32f8ea7b26644f993cb161043419012",
       "version_major": 2,
       "version_minor": 0
      },
      "text/plain": [
       "  0%|          | 0/1 [00:00<?, ?it/s]"
      ]
     },
     "metadata": {},
     "output_type": "display_data"
    },
    {
     "data": {
      "text/html": [
       "<div>\n",
       "<style scoped>\n",
       "    .dataframe tbody tr th:only-of-type {\n",
       "        vertical-align: middle;\n",
       "    }\n",
       "\n",
       "    .dataframe tbody tr th {\n",
       "        vertical-align: top;\n",
       "    }\n",
       "\n",
       "    .dataframe thead th {\n",
       "        text-align: right;\n",
       "    }\n",
       "</style>\n",
       "<table border=\"1\" class=\"dataframe\">\n",
       "  <thead>\n",
       "    <tr style=\"text-align: right;\">\n",
       "      <th></th>\n",
       "      <th>Uid</th>\n",
       "      <th>Gid</th>\n",
       "      <th>Name</th>\n",
       "      <th>Description</th>\n",
       "      <th>Directory</th>\n",
       "      <th>UUID</th>\n",
       "      <th>Mtime</th>\n",
       "      <th>HomedirMtime</th>\n",
       "      <th>Data</th>\n",
       "    </tr>\n",
       "  </thead>\n",
       "  <tbody>\n",
       "    <tr>\n",
       "      <th>0</th>\n",
       "      <td>18</td>\n",
       "      <td></td>\n",
       "      <td>SYSTEM</td>\n",
       "      <td>HKEY_LOCAL_MACHINE\\SOFTWARE\\Microsoft\\Windows NT\\CurrentVersion\\ProfileList\\S-1-5-18</td>\n",
       "      <td>%systemroot%\\system32\\config\\systemprofile</td>\n",
       "      <td>S-1-5-18</td>\n",
       "      <td>2021-05-08T08:24:18.988647Z</td>\n",
       "      <td>2021-05-08T08:20:24.3752514Z</td>\n",
       "      <td>{'ProfileLoadTime': None, 'ProfileUnloadTime': None}</td>\n",
       "    </tr>\n",
       "    <tr>\n",
       "      <th>1</th>\n",
       "      <td>19</td>\n",
       "      <td></td>\n",
       "      <td>LOCAL SERVICE</td>\n",
       "      <td>HKEY_LOCAL_MACHINE\\SOFTWARE\\Microsoft\\Windows NT\\CurrentVersion\\ProfileList\\S-1-5-19</td>\n",
       "      <td>%systemroot%\\ServiceProfiles\\LocalService</td>\n",
       "      <td>S-1-5-19</td>\n",
       "      <td>2021-05-08T08:24:18.988647Z</td>\n",
       "      <td>2021-08-19T13:31:46.3058657Z</td>\n",
       "      <td>{'ProfileLoadTime': None, 'ProfileUnloadTime': None}</td>\n",
       "    </tr>\n",
       "    <tr>\n",
       "      <th>2</th>\n",
       "      <td>20</td>\n",
       "      <td></td>\n",
       "      <td>NETWORK SERVICE</td>\n",
       "      <td>HKEY_LOCAL_MACHINE\\SOFTWARE\\Microsoft\\Windows NT\\CurrentVersion\\ProfileList\\S-1-5-20</td>\n",
       "      <td>%systemroot%\\ServiceProfiles\\NetworkService</td>\n",
       "      <td>S-1-5-20</td>\n",
       "      <td>2021-05-08T08:24:18.988647Z</td>\n",
       "      <td>2021-08-19T13:31:43.2277311Z</td>\n",
       "      <td>{'ProfileLoadTime': None, 'ProfileUnloadTime': None}</td>\n",
       "    </tr>\n",
       "    <tr>\n",
       "      <th>3</th>\n",
       "      <td>1170</td>\n",
       "      <td></td>\n",
       "      <td>seth.morgan</td>\n",
       "      <td>HKEY_LOCAL_MACHINE\\SOFTWARE\\Microsoft\\Windows NT\\CurrentVersion\\ProfileList\\S-1-5-21-2369732838-3797832421-459094119-1170</td>\n",
       "      <td>C:\\Users\\seth.morgan</td>\n",
       "      <td>S-1-5-21-2369732838-3797832421-459094119-1170</td>\n",
       "      <td>2023-04-29T22:34:43.4527231Z</td>\n",
       "      <td>2023-04-29T21:29:21.2334698Z</td>\n",
       "      <td>{'ProfileLoadTime': '2023-04-29T21:35:27Z', 'ProfileUnloadTime': '2023-04-29T22:34:43Z'}</td>\n",
       "    </tr>\n",
       "    <tr>\n",
       "      <th>4</th>\n",
       "      <td>500</td>\n",
       "      <td></td>\n",
       "      <td>Administrator</td>\n",
       "      <td>HKEY_LOCAL_MACHINE\\SOFTWARE\\Microsoft\\Windows NT\\CurrentVersion\\ProfileList\\S-1-5-21-2369732838-3797832421-459094119-500</td>\n",
       "      <td>C:\\Users\\Administrator.MAGNUMTEMPUS</td>\n",
       "      <td>S-1-5-21-2369732838-3797832421-459094119-500</td>\n",
       "      <td>2023-06-19T01:09:35.6601435Z</td>\n",
       "      <td>2023-06-19T01:10:08.2302754Z</td>\n",
       "      <td>{'ProfileLoadTime': '2023-06-19T01:09:35Z', 'ProfileUnloadTime': None}</td>\n",
       "    </tr>\n",
       "    <tr>\n",
       "      <th>5</th>\n",
       "      <td>500</td>\n",
       "      <td></td>\n",
       "      <td>Administrator</td>\n",
       "      <td>HKEY_LOCAL_MACHINE\\SOFTWARE\\Microsoft\\Windows NT\\CurrentVersion\\ProfileList\\S-1-5-21-709932091-4166497167-3385689324-500</td>\n",
       "      <td>C:\\Users\\Administrator</td>\n",
       "      <td>S-1-5-21-709932091-4166497167-3385689324-500</td>\n",
       "      <td>2023-04-29T22:34:43.3389811Z</td>\n",
       "      <td>2023-04-29T18:47:32.908044Z</td>\n",
       "      <td>{'ProfileLoadTime': '2023-04-29T18:47:17Z', 'ProfileUnloadTime': '2023-04-29T22:34:43Z'}</td>\n",
       "    </tr>\n",
       "  </tbody>\n",
       "</table>\n",
       "</div>"
      ],
      "text/plain": [
       "    Uid Gid             Name  \\\n",
       "0    18               SYSTEM   \n",
       "1    19        LOCAL SERVICE   \n",
       "2    20      NETWORK SERVICE   \n",
       "3  1170          seth.morgan   \n",
       "4   500        Administrator   \n",
       "5   500        Administrator   \n",
       "\n",
       "                                                                                                                 Description  \\\n",
       "0                                       HKEY_LOCAL_MACHINE\\SOFTWARE\\Microsoft\\Windows NT\\CurrentVersion\\ProfileList\\S-1-5-18   \n",
       "1                                       HKEY_LOCAL_MACHINE\\SOFTWARE\\Microsoft\\Windows NT\\CurrentVersion\\ProfileList\\S-1-5-19   \n",
       "2                                       HKEY_LOCAL_MACHINE\\SOFTWARE\\Microsoft\\Windows NT\\CurrentVersion\\ProfileList\\S-1-5-20   \n",
       "3  HKEY_LOCAL_MACHINE\\SOFTWARE\\Microsoft\\Windows NT\\CurrentVersion\\ProfileList\\S-1-5-21-2369732838-3797832421-459094119-1170   \n",
       "4   HKEY_LOCAL_MACHINE\\SOFTWARE\\Microsoft\\Windows NT\\CurrentVersion\\ProfileList\\S-1-5-21-2369732838-3797832421-459094119-500   \n",
       "5   HKEY_LOCAL_MACHINE\\SOFTWARE\\Microsoft\\Windows NT\\CurrentVersion\\ProfileList\\S-1-5-21-709932091-4166497167-3385689324-500   \n",
       "\n",
       "                                     Directory  \\\n",
       "0   %systemroot%\\system32\\config\\systemprofile   \n",
       "1    %systemroot%\\ServiceProfiles\\LocalService   \n",
       "2  %systemroot%\\ServiceProfiles\\NetworkService   \n",
       "3                         C:\\Users\\seth.morgan   \n",
       "4          C:\\Users\\Administrator.MAGNUMTEMPUS   \n",
       "5                       C:\\Users\\Administrator   \n",
       "\n",
       "                                            UUID  \\\n",
       "0                                       S-1-5-18   \n",
       "1                                       S-1-5-19   \n",
       "2                                       S-1-5-20   \n",
       "3  S-1-5-21-2369732838-3797832421-459094119-1170   \n",
       "4   S-1-5-21-2369732838-3797832421-459094119-500   \n",
       "5   S-1-5-21-709932091-4166497167-3385689324-500   \n",
       "\n",
       "                          Mtime                  HomedirMtime  \\\n",
       "0   2021-05-08T08:24:18.988647Z  2021-05-08T08:20:24.3752514Z   \n",
       "1   2021-05-08T08:24:18.988647Z  2021-08-19T13:31:46.3058657Z   \n",
       "2   2021-05-08T08:24:18.988647Z  2021-08-19T13:31:43.2277311Z   \n",
       "3  2023-04-29T22:34:43.4527231Z  2023-04-29T21:29:21.2334698Z   \n",
       "4  2023-06-19T01:09:35.6601435Z  2023-06-19T01:10:08.2302754Z   \n",
       "5  2023-04-29T22:34:43.3389811Z   2023-04-29T18:47:32.908044Z   \n",
       "\n",
       "                                                                                       Data  \n",
       "0                                      {'ProfileLoadTime': None, 'ProfileUnloadTime': None}  \n",
       "1                                      {'ProfileLoadTime': None, 'ProfileUnloadTime': None}  \n",
       "2                                      {'ProfileLoadTime': None, 'ProfileUnloadTime': None}  \n",
       "3  {'ProfileLoadTime': '2023-04-29T21:35:27Z', 'ProfileUnloadTime': '2023-04-29T22:34:43Z'}  \n",
       "4                    {'ProfileLoadTime': '2023-06-19T01:09:35Z', 'ProfileUnloadTime': None}  \n",
       "5  {'ProfileLoadTime': '2023-04-29T18:47:17Z', 'ProfileUnloadTime': '2023-04-29T22:34:43Z'}  "
      ]
     },
     "execution_count": 20,
     "metadata": {},
     "output_type": "execute_result"
    }
   ],
   "source": [
    "# Only 3 users: local Administrator, Domain MAGNUMTEMPUS Administrator, seth.morgan\n",
    "qry_prov.velociraptor.Windows_Sys_Users()"
   ]
  },
  {
   "cell_type": "code",
   "execution_count": 21,
   "id": "3f5a5522-6aea-41f6-84e6-29e78f903974",
   "metadata": {
    "slideshow": {
     "slide_type": "subslide"
    },
    "tags": []
   },
   "outputs": [
    {
     "data": {
      "application/vnd.jupyter.widget-view+json": {
       "model_id": "a2a40027c26243da9e108ef6c06b7cb2",
       "version_major": 2,
       "version_minor": 0
      },
      "text/plain": [
       "  0%|          | 0/1 [00:00<?, ?it/s]"
      ]
     },
     "metadata": {},
     "output_type": "display_data"
    }
   ],
   "source": [
    "df_lnk = qry_prov.velociraptor.Windows_Forensics_Lnk()"
   ]
  },
  {
   "cell_type": "code",
   "execution_count": 22,
   "id": "38600f09-ea03-4bd4-b67a-2aefe5b33b8b",
   "metadata": {
    "slideshow": {
     "slide_type": "fragment"
    },
    "tags": []
   },
   "outputs": [
    {
     "data": {
      "text/html": [
       "<div>\n",
       "<style scoped>\n",
       "    .dataframe tbody tr th:only-of-type {\n",
       "        vertical-align: middle;\n",
       "    }\n",
       "\n",
       "    .dataframe tbody tr th {\n",
       "        vertical-align: top;\n",
       "    }\n",
       "\n",
       "    .dataframe thead th {\n",
       "        text-align: right;\n",
       "    }\n",
       "</style>\n",
       "<table border=\"1\" class=\"dataframe\">\n",
       "  <thead>\n",
       "    <tr style=\"text-align: right;\">\n",
       "      <th></th>\n",
       "      <th>SourceCreated</th>\n",
       "    </tr>\n",
       "    <tr>\n",
       "      <th>WorkingDir</th>\n",
       "      <th></th>\n",
       "    </tr>\n",
       "  </thead>\n",
       "  <tbody>\n",
       "    <tr>\n",
       "      <th>\\\\172.16.50.146\\Users\\seth.morgan\\Downloads\\NEWSHARE2023\\2022-Backup\\2022-Backup</th>\n",
       "      <td>1</td>\n",
       "    </tr>\n",
       "    <tr>\n",
       "      <th>\\\\172.16.50.146\\Users\\seth.morgan\\Downloads\\NEWSHARE2023\\2022-Backup\\2022-Backup\\Internal\\Depts\\Operations</th>\n",
       "      <td>1</td>\n",
       "    </tr>\n",
       "    <tr>\n",
       "      <th>\\\\172.16.50.146\\Users\\seth.morgan\\Downloads\\NEWSHARE2023\\2022-Backup\\2022-Backup\\SethFolder</th>\n",
       "      <td>1</td>\n",
       "    </tr>\n",
       "    <tr>\n",
       "      <th>\\\\172.16.50.146\\Users\\seth.morgan\\Downloads\\NEWSHARE2023\\Jason's Private Folder</th>\n",
       "      <td>1</td>\n",
       "    </tr>\n",
       "    <tr>\n",
       "      <th>\\\\172.16.50.146\\Users\\seth.morgan\\Downloads\\NEWSHARE2023\\Tombstone-Copy\\Software</th>\n",
       "      <td>1</td>\n",
       "    </tr>\n",
       "    <tr>\n",
       "      <th>\\\\172.16.50.146\\Users\\seth.morgan\\Downloads\\NEWSHARE2023\\Tombstone-Copy\\Tombstone-Copy</th>\n",
       "      <td>2</td>\n",
       "    </tr>\n",
       "  </tbody>\n",
       "</table>\n",
       "</div>"
      ],
      "text/plain": [
       "                                                                                                            SourceCreated\n",
       "WorkingDir                                                                                                               \n",
       "\\\\172.16.50.146\\Users\\seth.morgan\\Downloads\\NEWSHARE2023\\2022-Backup\\2022-Backup                                        1\n",
       "\\\\172.16.50.146\\Users\\seth.morgan\\Downloads\\NEWSHARE2023\\2022-Backup\\2022-Backup\\Internal\\Depts\\Operations              1\n",
       "\\\\172.16.50.146\\Users\\seth.morgan\\Downloads\\NEWSHARE2023\\2022-Backup\\2022-Backup\\SethFolder                             1\n",
       "\\\\172.16.50.146\\Users\\seth.morgan\\Downloads\\NEWSHARE2023\\Jason's Private Folder                                         1\n",
       "\\\\172.16.50.146\\Users\\seth.morgan\\Downloads\\NEWSHARE2023\\Tombstone-Copy\\Software                                        1\n",
       "\\\\172.16.50.146\\Users\\seth.morgan\\Downloads\\NEWSHARE2023\\Tombstone-Copy\\Tombstone-Copy                                  2"
      ]
     },
     "execution_count": 22,
     "metadata": {},
     "output_type": "execute_result"
    }
   ],
   "source": [
    "df_lnk[[\"WorkingDir\", \"SourceCreated\"]].groupby([\"WorkingDir\"]).count()"
   ]
  },
  {
   "cell_type": "code",
   "execution_count": 23,
   "id": "df5ca402-0fe0-4ea7-90a8-d944f6e4c627",
   "metadata": {
    "slideshow": {
     "slide_type": "subslide"
    },
    "tags": []
   },
   "outputs": [
    {
     "data": {
      "application/vnd.jupyter.widget-view+json": {
       "model_id": "542cf52909a346d5973f9127a4e5e45f",
       "version_major": 2,
       "version_minor": 0
      },
      "text/plain": [
       "  0%|          | 0/1 [00:00<?, ?it/s]"
      ]
     },
     "metadata": {},
     "output_type": "display_data"
    }
   ],
   "source": [
    "df_mft = qry_prov.velociraptor.Windows_NTFS_MFT()"
   ]
  },
  {
   "cell_type": "code",
   "execution_count": 28,
   "id": "4e38873e-ee31-4c1d-92d6-aa3404a110b3",
   "metadata": {
    "slideshow": {
     "slide_type": "fragment"
    },
    "tags": []
   },
   "outputs": [
    {
     "data": {
      "text/html": [
       "<div>\n",
       "<style scoped>\n",
       "    .dataframe tbody tr th:only-of-type {\n",
       "        vertical-align: middle;\n",
       "    }\n",
       "\n",
       "    .dataframe tbody tr th {\n",
       "        vertical-align: top;\n",
       "    }\n",
       "\n",
       "    .dataframe thead th {\n",
       "        text-align: right;\n",
       "    }\n",
       "</style>\n",
       "<table border=\"1\" class=\"dataframe\">\n",
       "  <thead>\n",
       "    <tr style=\"text-align: right;\">\n",
       "      <th></th>\n",
       "      <th>EntryNumber</th>\n",
       "      <th>InUse</th>\n",
       "      <th>ParentEntryNumber</th>\n",
       "      <th>OSPath</th>\n",
       "      <th>_Links</th>\n",
       "      <th>FileName</th>\n",
       "      <th>FileSize</th>\n",
       "      <th>ReferenceCount</th>\n",
       "      <th>IsDir</th>\n",
       "      <th>Created0x10</th>\n",
       "      <th>...</th>\n",
       "      <th>LastRecordChange0x10</th>\n",
       "      <th>LastRecordChange0x30</th>\n",
       "      <th>LastAccess0x10</th>\n",
       "      <th>LastAccess0x30</th>\n",
       "      <th>HasADS</th>\n",
       "      <th>SI_Lt_FN</th>\n",
       "      <th>uSecZeros</th>\n",
       "      <th>Copied</th>\n",
       "      <th>FileNames</th>\n",
       "      <th>FileNameTypes</th>\n",
       "    </tr>\n",
       "  </thead>\n",
       "  <tbody>\n",
       "    <tr>\n",
       "      <th>121689</th>\n",
       "      <td>124074</td>\n",
       "      <td>True</td>\n",
       "      <td>123977</td>\n",
       "      <td>\\\\.\\C:\\Program Files (x86)\\Nmap\\nmap.exe</td>\n",
       "      <td>[\\\\.\\C:\\Program Files (x86)\\Nmap\\nmap.exe]</td>\n",
       "      <td>nmap.exe</td>\n",
       "      <td>2615440</td>\n",
       "      <td>1</td>\n",
       "      <td>False</td>\n",
       "      <td>2022-09-01T22:36:02Z</td>\n",
       "      <td>...</td>\n",
       "      <td>2023-04-29T21:39:34.0916135Z</td>\n",
       "      <td>2023-04-29T21:39:33.97992Z</td>\n",
       "      <td>2023-04-29T21:39:34.0916135Z</td>\n",
       "      <td>2023-04-29T21:39:33.97992Z</td>\n",
       "      <td>False</td>\n",
       "      <td>True</td>\n",
       "      <td>True</td>\n",
       "      <td>False</td>\n",
       "      <td>[nmap.exe]</td>\n",
       "      <td>DOS+Win32</td>\n",
       "    </tr>\n",
       "    <tr>\n",
       "      <th>122515</th>\n",
       "      <td>124900</td>\n",
       "      <td>True</td>\n",
       "      <td>123977</td>\n",
       "      <td>\\\\.\\C:\\Program Files (x86)\\Nmap\\zenmap.exe</td>\n",
       "      <td>[\\\\.\\C:\\Program Files (x86)\\Nmap\\zenmap.exe]</td>\n",
       "      <td>zenmap.exe</td>\n",
       "      <td>451736</td>\n",
       "      <td>1</td>\n",
       "      <td>False</td>\n",
       "      <td>2022-09-01T22:36:06Z</td>\n",
       "      <td>...</td>\n",
       "      <td>2023-04-29T21:39:41.317326Z</td>\n",
       "      <td>2023-04-29T21:39:41.317326Z</td>\n",
       "      <td>2023-04-29T21:39:41.317326Z</td>\n",
       "      <td>2023-04-29T21:39:41.317326Z</td>\n",
       "      <td>False</td>\n",
       "      <td>True</td>\n",
       "      <td>True</td>\n",
       "      <td>False</td>\n",
       "      <td>[zenmap.exe]</td>\n",
       "      <td>DOS+Win32</td>\n",
       "    </tr>\n",
       "  </tbody>\n",
       "</table>\n",
       "<p>2 rows × 23 columns</p>\n",
       "</div>"
      ],
      "text/plain": [
       "        EntryNumber  InUse  ParentEntryNumber  \\\n",
       "121689       124074   True             123977   \n",
       "122515       124900   True             123977   \n",
       "\n",
       "                                            OSPath  \\\n",
       "121689    \\\\.\\C:\\Program Files (x86)\\Nmap\\nmap.exe   \n",
       "122515  \\\\.\\C:\\Program Files (x86)\\Nmap\\zenmap.exe   \n",
       "\n",
       "                                              _Links    FileName  FileSize  \\\n",
       "121689    [\\\\.\\C:\\Program Files (x86)\\Nmap\\nmap.exe]    nmap.exe   2615440   \n",
       "122515  [\\\\.\\C:\\Program Files (x86)\\Nmap\\zenmap.exe]  zenmap.exe    451736   \n",
       "\n",
       "        ReferenceCount  IsDir           Created0x10  ...  \\\n",
       "121689               1  False  2022-09-01T22:36:02Z  ...   \n",
       "122515               1  False  2022-09-01T22:36:06Z  ...   \n",
       "\n",
       "                LastRecordChange0x10         LastRecordChange0x30  \\\n",
       "121689  2023-04-29T21:39:34.0916135Z   2023-04-29T21:39:33.97992Z   \n",
       "122515   2023-04-29T21:39:41.317326Z  2023-04-29T21:39:41.317326Z   \n",
       "\n",
       "                      LastAccess0x10               LastAccess0x30 HasADS  \\\n",
       "121689  2023-04-29T21:39:34.0916135Z   2023-04-29T21:39:33.97992Z  False   \n",
       "122515   2023-04-29T21:39:41.317326Z  2023-04-29T21:39:41.317326Z  False   \n",
       "\n",
       "       SI_Lt_FN uSecZeros  Copied     FileNames  FileNameTypes  \n",
       "121689     True      True   False    [nmap.exe]      DOS+Win32  \n",
       "122515     True      True   False  [zenmap.exe]      DOS+Win32  \n",
       "\n",
       "[2 rows x 23 columns]"
      ]
     },
     "execution_count": 28,
     "metadata": {},
     "output_type": "execute_result"
    }
   ],
   "source": [
    "df_mft[df_mft[\"FileName\"].str.contains(\"nmap.exe\")]"
   ]
  },
  {
   "cell_type": "code",
   "execution_count": 25,
   "id": "a8381637-bd11-4811-a06e-71acad5ad1aa",
   "metadata": {
    "slideshow": {
     "slide_type": "subslide"
    },
    "tags": []
   },
   "outputs": [
    {
     "data": {
      "application/vnd.jupyter.widget-view+json": {
       "model_id": "cf3ef16e796f447ab0454324574e2276",
       "version_major": 2,
       "version_minor": 0
      },
      "text/plain": [
       "  0%|          | 0/1 [00:00<?, ?it/s]"
      ]
     },
     "metadata": {},
     "output_type": "display_data"
    }
   ],
   "source": [
    "df_amcache_inv = (\n",
    "    qry_prov.velociraptor.Windows_System_Amcache_2FInventoryApplicationFile()\n",
    ")"
   ]
  },
  {
   "cell_type": "code",
   "execution_count": 26,
   "id": "f3178f4a-9ae9-401d-8582-43b807d2fa5f",
   "metadata": {
    "slideshow": {
     "slide_type": "fragment"
    },
    "tags": []
   },
   "outputs": [
    {
     "data": {
      "text/html": [
       "<div>\n",
       "<style scoped>\n",
       "    .dataframe tbody tr th:only-of-type {\n",
       "        vertical-align: middle;\n",
       "    }\n",
       "\n",
       "    .dataframe tbody tr th {\n",
       "        vertical-align: top;\n",
       "    }\n",
       "\n",
       "    .dataframe thead th {\n",
       "        text-align: right;\n",
       "    }\n",
       "</style>\n",
       "<table border=\"1\" class=\"dataframe\">\n",
       "  <thead>\n",
       "    <tr style=\"text-align: right;\">\n",
       "      <th></th>\n",
       "      <th>FileId</th>\n",
       "      <th>Key</th>\n",
       "      <th>Hive</th>\n",
       "      <th>LastModified</th>\n",
       "      <th>Binary</th>\n",
       "      <th>Name</th>\n",
       "      <th>Size</th>\n",
       "      <th>ProductName</th>\n",
       "      <th>Publisher</th>\n",
       "      <th>Version</th>\n",
       "      <th>BinFileVersion</th>\n",
       "    </tr>\n",
       "  </thead>\n",
       "  <tbody>\n",
       "    <tr>\n",
       "      <th>69</th>\n",
       "      <td></td>\n",
       "      <td>\\Root\\InventoryApplicationFile\\ncat.exe|ee87626eac0e966d</td>\n",
       "      <td>C:\\Windows\\appcompat\\Programs\\Amcache.hve</td>\n",
       "      <td>2023-06-19T01:11:06Z</td>\n",
       "      <td>c:\\program files (x86)\\nmap\\ncat.exe</td>\n",
       "      <td>ncat.exe</td>\n",
       "      <td>327312</td>\n",
       "      <td>None</td>\n",
       "      <td>None</td>\n",
       "      <td>None</td>\n",
       "      <td>None</td>\n",
       "    </tr>\n",
       "    <tr>\n",
       "      <th>70</th>\n",
       "      <td></td>\n",
       "      <td>\\Root\\InventoryApplicationFile\\ndiff.exe|69ed2f1682772a38</td>\n",
       "      <td>C:\\Windows\\appcompat\\Programs\\Amcache.hve</td>\n",
       "      <td>2023-06-19T01:11:06Z</td>\n",
       "      <td>c:\\program files (x86)\\nmap\\ndiff.exe</td>\n",
       "      <td>ndiff.exe</td>\n",
       "      <td>31376</td>\n",
       "      <td>zenmap</td>\n",
       "      <td>None</td>\n",
       "      <td>7.93</td>\n",
       "      <td>7.93.0.0</td>\n",
       "    </tr>\n",
       "    <tr>\n",
       "      <th>72</th>\n",
       "      <td>0000ab2de49f90330cc3b305457a9a0f897f296e95f4</td>\n",
       "      <td>\\Root\\InventoryApplicationFile\\nmap-7.93-setup.|f8918f85502c0c40</td>\n",
       "      <td>C:\\Windows\\appcompat\\Programs\\Amcache.hve</td>\n",
       "      <td>2023-06-19T01:11:06Z</td>\n",
       "      <td>c:\\users\\seth.morgan\\downloads\\nmap-7.93-setup.exe</td>\n",
       "      <td>nmap-7.93-setup.exe</td>\n",
       "      <td>29115768</td>\n",
       "      <td>nmap</td>\n",
       "      <td>insecure.org</td>\n",
       "      <td>7.93</td>\n",
       "      <td>7.93.0.0</td>\n",
       "    </tr>\n",
       "    <tr>\n",
       "      <th>73</th>\n",
       "      <td></td>\n",
       "      <td>\\Root\\InventoryApplicationFile\\nmap.exe|ca2723a4280e6400</td>\n",
       "      <td>C:\\Windows\\appcompat\\Programs\\Amcache.hve</td>\n",
       "      <td>2023-06-19T01:11:06Z</td>\n",
       "      <td>c:\\program files (x86)\\nmap\\nmap.exe</td>\n",
       "      <td>nmap.exe</td>\n",
       "      <td>2615440</td>\n",
       "      <td>nmap</td>\n",
       "      <td>insecure.org</td>\n",
       "      <td>7.93</td>\n",
       "      <td>7.93.0.0</td>\n",
       "    </tr>\n",
       "    <tr>\n",
       "      <th>75</th>\n",
       "      <td></td>\n",
       "      <td>\\Root\\InventoryApplicationFile\\nping.exe|aea212f892503f7e</td>\n",
       "      <td>C:\\Windows\\appcompat\\Programs\\Amcache.hve</td>\n",
       "      <td>2023-06-19T01:11:06Z</td>\n",
       "      <td>c:\\program files (x86)\\nmap\\nping.exe</td>\n",
       "      <td>nping.exe</td>\n",
       "      <td>349328</td>\n",
       "      <td>None</td>\n",
       "      <td>None</td>\n",
       "      <td>None</td>\n",
       "      <td>None</td>\n",
       "    </tr>\n",
       "    <tr>\n",
       "      <th>124</th>\n",
       "      <td></td>\n",
       "      <td>\\Root\\InventoryApplicationFile\\uninstall.exe|a4d3e1dc723a18d</td>\n",
       "      <td>C:\\Windows\\appcompat\\Programs\\Amcache.hve</td>\n",
       "      <td>2023-06-19T01:11:06Z</td>\n",
       "      <td>c:\\program files (x86)\\nmap\\uninstall.exe</td>\n",
       "      <td>Uninstall.exe</td>\n",
       "      <td>93592</td>\n",
       "      <td>nmap</td>\n",
       "      <td>insecure.org</td>\n",
       "      <td>7.93</td>\n",
       "      <td>7.93.0.0</td>\n",
       "    </tr>\n",
       "    <tr>\n",
       "      <th>160</th>\n",
       "      <td></td>\n",
       "      <td>\\Root\\InventoryApplicationFile\\zenmap.exe|17e1b52ee953118e</td>\n",
       "      <td>C:\\Windows\\appcompat\\Programs\\Amcache.hve</td>\n",
       "      <td>2023-06-19T01:11:06Z</td>\n",
       "      <td>c:\\program files (x86)\\nmap\\zenmap.exe</td>\n",
       "      <td>zenmap.exe</td>\n",
       "      <td>451736</td>\n",
       "      <td>zenmap</td>\n",
       "      <td>None</td>\n",
       "      <td>7.93</td>\n",
       "      <td>7.93.0.0</td>\n",
       "    </tr>\n",
       "  </tbody>\n",
       "</table>\n",
       "</div>"
      ],
      "text/plain": [
       "                                           FileId  \\\n",
       "69                                                  \n",
       "70                                                  \n",
       "72   0000ab2de49f90330cc3b305457a9a0f897f296e95f4   \n",
       "73                                                  \n",
       "75                                                  \n",
       "124                                                 \n",
       "160                                                 \n",
       "\n",
       "                                                                  Key  \\\n",
       "69           \\Root\\InventoryApplicationFile\\ncat.exe|ee87626eac0e966d   \n",
       "70          \\Root\\InventoryApplicationFile\\ndiff.exe|69ed2f1682772a38   \n",
       "72   \\Root\\InventoryApplicationFile\\nmap-7.93-setup.|f8918f85502c0c40   \n",
       "73           \\Root\\InventoryApplicationFile\\nmap.exe|ca2723a4280e6400   \n",
       "75          \\Root\\InventoryApplicationFile\\nping.exe|aea212f892503f7e   \n",
       "124      \\Root\\InventoryApplicationFile\\uninstall.exe|a4d3e1dc723a18d   \n",
       "160        \\Root\\InventoryApplicationFile\\zenmap.exe|17e1b52ee953118e   \n",
       "\n",
       "                                          Hive          LastModified  \\\n",
       "69   C:\\Windows\\appcompat\\Programs\\Amcache.hve  2023-06-19T01:11:06Z   \n",
       "70   C:\\Windows\\appcompat\\Programs\\Amcache.hve  2023-06-19T01:11:06Z   \n",
       "72   C:\\Windows\\appcompat\\Programs\\Amcache.hve  2023-06-19T01:11:06Z   \n",
       "73   C:\\Windows\\appcompat\\Programs\\Amcache.hve  2023-06-19T01:11:06Z   \n",
       "75   C:\\Windows\\appcompat\\Programs\\Amcache.hve  2023-06-19T01:11:06Z   \n",
       "124  C:\\Windows\\appcompat\\Programs\\Amcache.hve  2023-06-19T01:11:06Z   \n",
       "160  C:\\Windows\\appcompat\\Programs\\Amcache.hve  2023-06-19T01:11:06Z   \n",
       "\n",
       "                                                 Binary                 Name  \\\n",
       "69                 c:\\program files (x86)\\nmap\\ncat.exe             ncat.exe   \n",
       "70                c:\\program files (x86)\\nmap\\ndiff.exe            ndiff.exe   \n",
       "72   c:\\users\\seth.morgan\\downloads\\nmap-7.93-setup.exe  nmap-7.93-setup.exe   \n",
       "73                 c:\\program files (x86)\\nmap\\nmap.exe             nmap.exe   \n",
       "75                c:\\program files (x86)\\nmap\\nping.exe            nping.exe   \n",
       "124           c:\\program files (x86)\\nmap\\uninstall.exe        Uninstall.exe   \n",
       "160              c:\\program files (x86)\\nmap\\zenmap.exe           zenmap.exe   \n",
       "\n",
       "         Size ProductName     Publisher Version BinFileVersion  \n",
       "69     327312        None          None    None           None  \n",
       "70      31376      zenmap          None    7.93       7.93.0.0  \n",
       "72   29115768        nmap  insecure.org    7.93       7.93.0.0  \n",
       "73    2615440        nmap  insecure.org    7.93       7.93.0.0  \n",
       "75     349328        None          None    None           None  \n",
       "124     93592        nmap  insecure.org    7.93       7.93.0.0  \n",
       "160    451736      zenmap          None    7.93       7.93.0.0  "
      ]
     },
     "execution_count": 26,
     "metadata": {},
     "output_type": "execute_result"
    }
   ],
   "source": [
    "df_amcache_inv[df_amcache_inv[\"Binary\"].str.contains(\"nmap\")]"
   ]
  },
  {
   "cell_type": "markdown",
   "id": "980253d6-8201-4506-8a95-cb2b85b8f1f0",
   "metadata": {
    "slideshow": {
     "slide_type": "slide"
    },
    "tags": []
   },
   "source": [
    "### What matters?\n",
    "* Findings\n",
    "  * From amcache and MFT, we can confirm the install of nmap.\n",
    "  * From Windows_Forensics_Lnk, we have the list of documents accessed by user: org email list.txt, passwords.xls, are-you-ready-guide.pdf, copy-net-picture.png, admin.txt, Winger_11.jpg, Rig_Notes.xlsx\n",
    "  * Limited browsing history but matching are-you-ready-guide.pdf\n",
    "* Combine with other data sources\n",
    "  * Match with your central logs\n",
    "* Multiple findings solidify evidence proof"
   ]
  },
  {
   "cell_type": "markdown",
   "id": "6967f2f9-a2b5-4e5a-bc7a-b9c3a28882af",
   "metadata": {
    "slideshow": {
     "slide_type": "slide"
    },
    "tags": []
   },
   "source": [
    "### Share and Report!\n",
    "* Written documentation\n",
    "* Structure initial analysis\n",
    "* Identified anomalies and gaps"
   ]
  },
  {
   "cell_type": "markdown",
   "id": "39f9d122-c5d0-4832-8845-c9602b28fac2",
   "metadata": {
    "slideshow": {
     "slide_type": "slide"
    },
    "tags": []
   },
   "source": [
    "## That's all folks!\n",
    "Thanks to\n",
    "* [BTV project obsidian](https://www.blueteamvillage.org/programs/project-obsidian/) contributors\n",
    "* Projects jupyter notebook, pandas, msticpy, OTRF / [Infosec Jupyterthon](https://infosecjupyterthon.com)"
   ]
  },
  {
   "cell_type": "markdown",
   "id": "6264230f-cd26-453b-83d8-1ec5b0785ef2",
   "metadata": {
    "slideshow": {
     "slide_type": "slide"
    },
    "tags": []
   },
   "source": [
    "<h1 align=\"center\" style=\"font-weight: bold;\">Thank you</h1>\n",
    "\n",
    "<div align=\"center\">\n",
    "Join the conversation<br />\n",
    "https://discord.blueteamvillage.org<br />\n",
    "Please Provide Feedback<br />\n",
    "feedback-obsidian@blueteamvillage.org<br />\n",
    "</div>"
   ]
  },
  {
   "cell_type": "markdown",
   "id": "70597a6b-7135-4fc9-9897-bc8d92310e48",
   "metadata": {
    "slideshow": {
     "slide_type": "notes"
    },
    "tags": []
   },
   "source": [
    "## References"
   ]
  },
  {
   "cell_type": "markdown",
   "id": "7c7b79a3-5e78-4a56-99fb-8d082d260143",
   "metadata": {
    "slideshow": {
     "slide_type": "notes"
    },
    "tags": []
   },
   "source": [
    "* [Velociraptor data provider, msticpy PR](https://github.com/microsoft/msticpy/pull/668)"
   ]
  },
  {
   "cell_type": "code",
   "execution_count": null,
   "id": "271fe637-cc34-4ab9-ac24-bdafbb300014",
   "metadata": {
    "slideshow": {
     "slide_type": "notes"
    },
    "tags": []
   },
   "outputs": [],
   "source": []
  }
 ],
 "metadata": {
  "kernelspec": {
   "display_name": "Python 3 (ipykernel)",
   "language": "python",
   "name": "python3"
  },
  "language_info": {
   "codemirror_mode": {
    "name": "ipython",
    "version": 3
   },
   "file_extension": ".py",
   "mimetype": "text/x-python",
   "name": "python",
   "nbconvert_exporter": "python",
   "pygments_lexer": "ipython3",
   "version": "3.11.3"
  }
 },
 "nbformat": 4,
 "nbformat_minor": 5
}
