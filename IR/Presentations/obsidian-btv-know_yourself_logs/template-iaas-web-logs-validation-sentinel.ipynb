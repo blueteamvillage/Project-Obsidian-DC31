{
 "cells": [
  {
   "cell_type": "markdown",
   "id": "689f1ab1-5346-4bea-b858-fe55a946ed22",
   "metadata": {
    "tags": []
   },
   "source": [
    "# IaaS Web Logs Review Template - Sentinel\n",
    "BTV Project Obsidian, 2023\n",
    "\n",
    "Author: juju43, https://blueteamvillage.org/programs/project-obsidian/ https://discord.gg/blueteamvillage\n",
    "<img align=\"right\" width=\"100\" height=\"100\" src=\"https://cfc.blueteamvillage.org/media/call-for-content-2021/img/20200622_BTVillage_logos_RGB_pos_hcOC7Qx.png\">"
   ]
  },
  {
   "cell_type": "markdown",
   "id": "a0d398e9-22a4-4b9a-a710-b62b7a4d2d6a",
   "metadata": {},
   "source": [
    "This playbook is to help validating available logs\n",
    "It helps to baseline environment, identify gaps and control points.\n",
    "\n",
    "It targets Defcon31 BlueTeamVillage Project obsidian environment and splunk platform but it can be adapt to other logging platforms.\n",
    "\n",
    "Possible sources\n",
    "* IIS (W3CIISLog table). Like for most logs, it is critical that logs configuration is appropriate. Over time, Microsoft added user-agent and referer in default logs. If your webserver is behind a load balancer, web application firewall, or similar, you should set and log X-Forwarded-For to have real source IP of the request."
   ]
  },
  {
   "cell_type": "markdown",
   "id": "671b21d5-3ff2-4fe4-817b-099281e10754",
   "metadata": {
    "tags": []
   },
   "source": [
    "## Resources"
   ]
  },
  {
   "cell_type": "markdown",
   "id": "f2b550b1-6da5-41f5-84f8-cacbf59adfdd",
   "metadata": {},
   "source": [
    "* https://github.com/microsoft/msticpy/\n",
    "* https://infosecjupyterthon.com/\n",
    "* https://dropbox.tech/security/how-dropbox-security-builds-better-tools-for-threat-detection-and-incident-response\n",
    "* [Log Files for a Web Site &lt;logFile&gt; - IIS](https://learn.microsoft.com/en-us/iis/configuration/system.applicationhost/sites/site/logfile/)\n",
    "* [Adding Custom Fields to a Log File for a Site &lt;add&gt; - IIS](https://learn.microsoft.com/en-us/iis/configuration/system.applicationhost/sites/site/logfile/customfields/add)\n",
    "* Webshell detection\n",
    "  * https://github.com/nsacyber/Mitigating-Web-Shells\n",
    "  * https://www.microsoft.com/en-us/security/blog/2020/02/04/ghost-in-the-shell-investigating-web-shell-attacks/\n",
    "  * https://www.microsoft.com/en-us/security/blog/2021/02/11/web-shell-attacks-continue-to-rise/\n",
    "* cli usage\n",
    "  * as is `jupyter run notebook.ipynb --allow-errors` - https://docs.jupyter.org/en/latest/running.html#using-a-command-line-interface\n",
    "  * with parameters `papermill input.ipynb output.ipynb -p alpha 0.6 -p l1_ratio 0.1` - https://papermill.readthedocs.io/en/latest/usage-workflow.html "
   ]
  },
  {
   "cell_type": "markdown",
   "id": "387c1c0e-9b90-4cc4-a2e2-38e6db4af090",
   "metadata": {},
   "source": [
    "## Findings"
   ]
  },
  {
   "cell_type": "markdown",
   "id": "85ba21b4-a33f-4fa8-a9f3-c85fd8eebdff",
   "metadata": {},
   "source": [
    "_Put your findings here_"
   ]
  },
  {
   "cell_type": "markdown",
   "id": "a9c365dc-9d3e-48ab-b1fe-951230d61f99",
   "metadata": {},
   "source": [
    "## Table of Contents\n",
    "\n",
    "* Import\n",
    "* Configuration\n",
    "* Queries\n"
   ]
  },
  {
   "cell_type": "markdown",
   "id": "ea86fac3-20d7-4bfd-843a-93c1b5da3f96",
   "metadata": {
    "tags": []
   },
   "source": [
    "## Import"
   ]
  },
  {
   "cell_type": "code",
   "execution_count": null,
   "id": "dbec5036-8b12-4de1-8842-a902f2f738d7",
   "metadata": {
    "tags": []
   },
   "outputs": [],
   "source": [
    "# Check we are running Python 3.6\n",
    "import sys\n",
    "MIN_REQ_PYTHON = (3,6)\n",
    "if sys.version_info < MIN_REQ_PYTHON:\n",
    "    print('Check the Kernel->Change Kernel menu and ensure that Python 3.6')\n",
    "    print('or later is selected as the active kernel.')\n",
    "    sys.exit(\"Python %s.%s or later is required.\\n\" % MIN_REQ_PYTHON)"
   ]
  },
  {
   "cell_type": "code",
   "execution_count": null,
   "id": "972a3f5b-7f0e-4382-bef8-0138be162437",
   "metadata": {
    "tags": []
   },
   "outputs": [],
   "source": [
    "# Imports\n",
    "import pandas as pd\n",
    "import msticpy.nbtools as nbtools\n",
    "from datetime import datetime,timedelta\n",
    "import os"
   ]
  },
  {
   "cell_type": "code",
   "execution_count": null,
   "id": "f3897813-4fb8-46ff-8e1d-bcb31c4ebca9",
   "metadata": {
    "tags": []
   },
   "outputs": [],
   "source": [
    "# path to config file\n",
    "os.environ['MSTICPYCONFIG'] = '/home/ubuntu/msticpyconfig.yaml'\n",
    "from msticpy.nbtools import *\n",
    "from msticpy.data.data_providers import QueryProvider\n",
    "from msticpy.common.wsconfig import WorkspaceConfig\n",
    "from msticpy.nbtools.data_viewer import DataViewer\n",
    "from msticpy.vis.matrix_plot import plot_matrix\n",
    "from msticpy.nbtools import process_tree as ptree\n",
    "from msticpy.context.geoip import GeoLiteLookup, IPStackLookup\n",
    "print('Imports Complete')"
   ]
  },
  {
   "cell_type": "markdown",
   "id": "72e27508-6923-4c98-a159-cd1ec7a53e62",
   "metadata": {},
   "source": [
    "## Configuration"
   ]
  },
  {
   "cell_type": "code",
   "execution_count": null,
   "id": "cdfc6d45-a3d1-4940-8890-c2b294f97500",
   "metadata": {
    "tags": []
   },
   "outputs": [],
   "source": [
    "# Interactive settings edit\n",
    "# https://msticpy.readthedocs.io/en/latest/getting_started/SettingsEditor.html#using-mpconfigfile-to-check-and-manage-your-msticpyconfig-yaml\n",
    "from msticpy.config import MpConfigFile, MpConfigEdit, MpConfigControls\n",
    "mpconfig = MpConfigFile()\n",
    "# mpconfig.load_default()\n",
    "# mpconfig.view_settings()\n",
    "mpconfig"
   ]
  },
  {
   "cell_type": "code",
   "execution_count": null,
   "id": "c7c1b946-2df5-4a2c-9b16-29fad87f2635",
   "metadata": {
    "tags": []
   },
   "outputs": [],
   "source": [
    "# q_times = nbwidgets.QueryTime(units='hours', max_before=72, before=1, max_after=0)\n",
    "q_times = nbwidgets.QueryTime(origin_time=datetime(2023, 4, 29), units='days', max_before=30, before=1, max_after=0)\n",
    "#q_times = nbwidgets.QueryTime(origin_time=datetime(2023, 6, 15), units='days', max_before=1, before=0, max_after=0)\n",
    "# q_times = nbwidgets.QueryTime(origin_time=datetime(2023, 6, 15), units='hours', max_before=4, before=0, max_after=0)\n",
    "\n",
    "q_times.display()"
   ]
  },
  {
   "cell_type": "code",
   "execution_count": null,
   "id": "cfe36521-d2f1-431b-ba85-0fa897c5f21a",
   "metadata": {
    "tags": [
     "parameters"
    ]
   },
   "outputs": [],
   "source": [
    "# If your environment footpring is very large or timeperiod too big, queries not optimized enough may return 'ADX query timed out' or 'Unknown query error' when done through msticpy.\n",
    "# Ensure to use appropriate filters\n",
    "query_common_args = ''\n",
    "# query_common_args = f'''| where _SubscriptionId in (\"12345\", \"67890\")'''\n",
    "results_limit = 10\n",
    "vuln_scanners_ip = []"
   ]
  },
  {
   "cell_type": "code",
   "execution_count": null,
   "id": "67f2a528-1875-48f5-be3b-df277e2de4cd",
   "metadata": {},
   "outputs": [],
   "source": [
    "query_common_args = query_common_args.strip()\n",
    "query_common_args = query_common_args + f'''| where TimeGenerated >= datetime({q_times.start})\n",
    "| where TimeGenerated <= datetime({q_times.end})'''\n",
    "if vuln_scanners_ip:\n",
    "    vuln_scanner_exclude_and = f'''and not (cIP in (\"{'\",\"'.join(vuln_scanners_ip)}\"))'''\n",
    "else:\n",
    "    vuln_scanners_ip = ''"
   ]
  },
  {
   "cell_type": "code",
   "execution_count": null,
   "id": "5393a5d6-5c94-4e8d-8eab-85385e02752c",
   "metadata": {
    "tags": []
   },
   "outputs": [],
   "source": [
    "# Configuration\n",
    "qry_prov = QueryProvider(\"AzureSentinel\")"
   ]
  },
  {
   "cell_type": "code",
   "execution_count": null,
   "id": "0f66e176-fce1-4536-ab2a-9fb7b8ac97fc",
   "metadata": {
    "tags": []
   },
   "outputs": [],
   "source": [
    "# Get the default Microsoft Sentinel workspace details from msticpyconfig.yaml\n",
    "ws_config = WorkspaceConfig()\n",
    "\n",
    "# Connect to Microsoft Sentinel with our QueryProvider and config details\n",
    "qry_prov.connect(ws_config)"
   ]
  },
  {
   "cell_type": "code",
   "execution_count": null,
   "id": "1a3ffc2c-867d-445b-9b03-c1edc8de60bc",
   "metadata": {
    "tags": []
   },
   "outputs": [],
   "source": [
    "# pandas\n",
    "pd.set_option('display.max_colwidth', 500)"
   ]
  },
  {
   "cell_type": "markdown",
   "id": "d96e60a4-0194-428d-bddc-485614c0b9c0",
   "metadata": {},
   "source": [
    "## Queries"
   ]
  },
  {
   "cell_type": "markdown",
   "id": "dff3bb9a-606c-4584-80a3-87a89c6a530d",
   "metadata": {},
   "source": [
    "### Timeperiod"
   ]
  },
  {
   "cell_type": "markdown",
   "id": "8c727437-4a8d-484d-99c8-37ec522adbe5",
   "metadata": {},
   "source": [
    "Let's confirm that we have logs for the targeted timeperiod."
   ]
  },
  {
   "cell_type": "code",
   "execution_count": null,
   "id": "ad228ef9-4ed9-4e0d-bf67-73cc00fc8863",
   "metadata": {},
   "outputs": [],
   "source": [
    "q_times.start"
   ]
  },
  {
   "cell_type": "code",
   "execution_count": null,
   "id": "17160d9c-dd3a-4da2-9ead-8b9e42a73744",
   "metadata": {},
   "outputs": [],
   "source": [
    "q_times.end"
   ]
  },
  {
   "cell_type": "code",
   "execution_count": null,
   "id": "e6ee71af-7012-4e36-baed-3ca72ad052d2",
   "metadata": {},
   "outputs": [],
   "source": [
    "query = f'''W3CIISLog {query_common_args}\n",
    "| summarize max(TimeGenerated),min(TimeGenerated)\n",
    "'''\n",
    "df_timeperiod = qry_prov.exec_query(query)\n",
    "df_timeperiod.head(results_limit)"
   ]
  },
  {
   "cell_type": "code",
   "execution_count": null,
   "id": "79cc448c-213f-4727-954a-5ffff0a5d8ba",
   "metadata": {},
   "outputs": [],
   "source": []
  },
  {
   "cell_type": "markdown",
   "id": "46b8f6e7-0080-4bfc-8594-135b085638c7",
   "metadata": {},
   "source": [
    "### Trend"
   ]
  },
  {
   "cell_type": "code",
   "execution_count": null,
   "id": "636327b9-1dd0-4491-99cb-518f79987031",
   "metadata": {
    "tags": []
   },
   "outputs": [],
   "source": [
    "query = f'''W3CIISLog\n",
    "| where TimeGenerated >= ago(30d)\n",
    "| summarize RequestCount = count() by bin(TimeGenerated, 1h)\n",
    "| project TimeGenerated, RequestCount\n",
    "'''\n",
    "df_trend = qry_prov.exec_query(query)\n",
    "df_trend.head(results_limit)"
   ]
  },
  {
   "cell_type": "code",
   "execution_count": null,
   "id": "682a3fc1-6a60-4ba4-92fc-bfbe5eee42e5",
   "metadata": {
    "tags": []
   },
   "outputs": [],
   "source": [
    "# https://msticpy.readthedocs.io/en/latest/visualization/TimeSeriesAnomalies.html\n",
    "from msticpy.analysis import timeseries\n",
    "\n",
    "df_trend = df_trend.set_index(\"TimeGenerated\")\n",
    "ts_decomp_df = df_trend.mp_timeseries.analyze(\n",
    "    # time_column=\"TimeGenerated\"  - if the DF is not indexed by timestamp\n",
    "    data_column=\"RequestCount\",\n",
    "    seasonal=7,\n",
    "    period=24\n",
    ")\n",
    "\n",
    "ts_decomp_df.head()"
   ]
  },
  {
   "cell_type": "code",
   "execution_count": null,
   "id": "0df7d7d1-68bb-4de1-84ae-332dae44e727",
   "metadata": {
    "tags": []
   },
   "outputs": [],
   "source": [
    "ts_decomp_df.mp_timeseries.plot(\n",
    "    y=\"RequestCount\",\n",
    ")"
   ]
  },
  {
   "cell_type": "code",
   "execution_count": null,
   "id": "0ededeb5-3ad8-4bf7-8627-8cc30572851f",
   "metadata": {},
   "outputs": [],
   "source": []
  },
  {
   "cell_type": "markdown",
   "id": "718435c9-a268-4189-82aa-56e75fa31171",
   "metadata": {},
   "source": [
    "### Misc"
   ]
  },
  {
   "cell_type": "code",
   "execution_count": null,
   "id": "f8f90ba7-e6be-4612-beb0-04dd60af0e8a",
   "metadata": {
    "tags": []
   },
   "outputs": [],
   "source": [
    "query = f'''W3CIISLog\n",
    "{query_common_args}\n",
    "| summarize count() by sSiteName\n",
    "| sort by count_ desc\n",
    "| limit {results_limit}'''\n",
    "df_iis_sites = qry_prov.exec_query(query)\n",
    "df_iis_sites.head(results_limit)"
   ]
  },
  {
   "cell_type": "code",
   "execution_count": null,
   "id": "249f39eb-41b3-44a6-98ab-0b36f0a7df78",
   "metadata": {
    "tags": []
   },
   "outputs": [],
   "source": [
    "query = f'''W3CIISLog {query_common_args}\n",
    "| summarize count() by sIP\n",
    "| sort by count_ desc\n",
    "| limit {results_limit}'''\n",
    "df_iis_sIP = qry_prov.exec_query(query)\n",
    "df_iis_sIP.head(results_limit)"
   ]
  },
  {
   "cell_type": "code",
   "execution_count": null,
   "id": "990e5aa5-dc13-42eb-8c8d-49dad2f62f70",
   "metadata": {
    "tags": []
   },
   "outputs": [],
   "source": [
    "query = f'''W3CIISLog {query_common_args}\n",
    "| summarize count() by csMethod\n",
    "| sort by count_ desc\n",
    "| limit {results_limit}'''\n",
    "df_iis_csMethod = qry_prov.exec_query(query)\n",
    "df_iis_csMethod.head(results_limit)"
   ]
  },
  {
   "cell_type": "code",
   "execution_count": null,
   "id": "f0a8258d-ffd6-412e-b268-431e15dde440",
   "metadata": {
    "tags": []
   },
   "outputs": [],
   "source": [
    "query = f'''W3CIISLog {query_common_args}\n",
    "| summarize count() by scStatus\n",
    "| sort by count_ desc\n",
    "| limit {results_limit}'''\n",
    "df_iis_scStatus = qry_prov.exec_query(query)\n",
    "df_iis_scStatus.head(results_limit)"
   ]
  },
  {
   "cell_type": "code",
   "execution_count": null,
   "id": "87e9b181-20a2-44cb-97a3-7ac4ffbe88cd",
   "metadata": {
    "tags": []
   },
   "outputs": [],
   "source": [
    "query = f'''W3CIISLog {query_common_args}\n",
    "| summarize count() by csUriStem\n",
    "| sort by count_ desc\n",
    "'''\n",
    "df_iis_csUriStem = qry_prov.exec_query(query)\n",
    "df_iis_csUriStem.head(results_limit)"
   ]
  },
  {
   "cell_type": "code",
   "execution_count": null,
   "id": "db601c9e-3841-42dd-bf1e-9fdb056950d3",
   "metadata": {
    "tags": []
   },
   "outputs": [],
   "source": [
    "df_iis_csUriStem.head(20)"
   ]
  },
  {
   "cell_type": "code",
   "execution_count": null,
   "id": "ba2fab59-27f8-4968-bcad-f7c15f711f82",
   "metadata": {
    "tags": []
   },
   "outputs": [],
   "source": [
    "df_iis_csUriStem.tail(20)"
   ]
  },
  {
   "cell_type": "code",
   "execution_count": null,
   "id": "6d470dcc-1cac-4c4c-86fc-5d800566c716",
   "metadata": {
    "tags": []
   },
   "outputs": [],
   "source": [
    "# Remove some noise? GUID, others.\n",
    "query = r'''let regex = '[({]?[a-fA-F0-9]{8}[-]?([a-fA-F0-9]{4}[-]?){3}[a-fA-F0-9]{12}[})]?';\n",
    "''' + f'''W3CIISLog {query_common_args}''' + r'''\n",
    "| extend csUriQuery2 = replace(regex, 'GUID', csUriQuery)\n",
    "| extend csUriQuery3 = replace('r=[0-9]{5,10}', 'r=NNN', csUriQuery2)\n",
    "| extend csUriQuery4 = replace('_=[0-9]{9,13}', '_=NNN', csUriQuery3)\n",
    "| extend csUriQuery5 = replace('userId=[0-9]{5,6}', 'userId=NNN', csUriQuery4)\n",
    "| extend csUriQuery6 = replace('pageid=[0-9]{1,2}', 'pageid=NNN', csUriQuery5)\n",
    "| project-away csUriQuery\n",
    "| project-rename csUriQuery = csUriQuery6\n",
    "| summarize count() by csUriQuery\n",
    "| sort by count_ desc\n",
    "'''\n",
    "df_iis_csUriQuery = qry_prov.exec_query(query)"
   ]
  },
  {
   "cell_type": "code",
   "execution_count": null,
   "id": "d85894eb-7b99-4043-bd7d-528ebb6a3cea",
   "metadata": {
    "tags": []
   },
   "outputs": [],
   "source": [
    "df_iis_csUriQuery.head(20)"
   ]
  },
  {
   "cell_type": "code",
   "execution_count": null,
   "id": "2a22a96f-9908-4808-bbf1-a485f2965d43",
   "metadata": {
    "tags": []
   },
   "outputs": [],
   "source": [
    "df_iis_csUriQuery.tail(20)"
   ]
  },
  {
   "cell_type": "code",
   "execution_count": null,
   "id": "30cebe00-9d5d-4b73-b7ac-2c0c62caf861",
   "metadata": {},
   "outputs": [],
   "source": []
  },
  {
   "cell_type": "code",
   "execution_count": null,
   "id": "4d55c6f0-9a05-44be-934b-efe146208cf5",
   "metadata": {
    "tags": []
   },
   "outputs": [],
   "source": [
    "query = f'''W3CIISLog {query_common_args}\n",
    "| summarize count() by Computer,sSiteName,sIP,cIP,csMethod,scStatus,csUriStem\n",
    "| sort by count_ desc\n",
    "| limit {results_limit}'''\n",
    "df_iis = qry_prov.exec_query(query)\n",
    "df_iis.head(results_limit)"
   ]
  },
  {
   "cell_type": "code",
   "execution_count": null,
   "id": "0dae09a7-0707-43ff-bc8b-c867e3bcbf69",
   "metadata": {},
   "outputs": [],
   "source": [
    "query = f'''W3CIISLog {query_common_args}\n",
    "| extend is_private = ipv4_is_private(cIP)\n",
    "| where is_private == True\n",
    "| summarize count() by cIP\n",
    "| sort by count_ desc\n",
    "'''\n",
    "df_iis_cIP_private = qry_prov.exec_query(query)\n",
    "df_iis_cIP_private.head(30)"
   ]
  },
  {
   "cell_type": "code",
   "execution_count": null,
   "id": "62806bee-7c8a-4a51-9e25-2e8571993496",
   "metadata": {
    "tags": []
   },
   "outputs": [],
   "source": [
    "df_iis_cIP_private.shape"
   ]
  },
  {
   "cell_type": "code",
   "execution_count": null,
   "id": "0faa6b87-fd88-4477-91ff-beaf09ce2cc7",
   "metadata": {
    "tags": []
   },
   "outputs": [],
   "source": [
    "query = f'''W3CIISLog {query_common_args}\n",
    "| extend is_private = ipv4_is_private(cIP)\n",
    "| where is_private == False\n",
    "| summarize count() by cIP\n",
    "| sort by count_ desc\n",
    "'''\n",
    "df_iis_cIP_public = qry_prov.exec_query(query)\n",
    "df_iis_cIP_public.head(30)"
   ]
  },
  {
   "cell_type": "code",
   "execution_count": null,
   "id": "17ca6063-801e-423f-a9ee-081e41f8d673",
   "metadata": {
    "tags": []
   },
   "outputs": [],
   "source": [
    "df_iis_cIP_public.shape"
   ]
  },
  {
   "cell_type": "code",
   "execution_count": null,
   "id": "b01f7bf6-e441-40b8-b9f3-92ef43a8ca72",
   "metadata": {},
   "outputs": [],
   "source": []
  },
  {
   "cell_type": "code",
   "execution_count": null,
   "id": "3c630e2f-d78c-46c6-bd22-196af7ef34f0",
   "metadata": {},
   "outputs": [],
   "source": []
  },
  {
   "cell_type": "code",
   "execution_count": null,
   "id": "c62c281f-612a-491f-aec3-32ba112d4c5b",
   "metadata": {},
   "outputs": [],
   "source": [
    "query = f'''W3CIISLog {query_common_args}\n",
    "| where csUriStem has_any (\"dump\", \"tar\", \"git\", \".env\") and not (scStatus in (403, 404))\n",
    "| summarize count() by Computer,sSiteName,sIP,cIP,csMethod,scStatus,csUriStem\n",
    "| sort by count_ desc\n",
    "'''\n",
    "df_q1 = qry_prov.exec_query(query)\n",
    "df_q1.head(20)"
   ]
  },
  {
   "cell_type": "code",
   "execution_count": null,
   "id": "763bdb8f-d9fc-483d-809e-e4bcea7c1a5f",
   "metadata": {
    "tags": []
   },
   "outputs": [],
   "source": [
    "query = f'''W3CIISLog {query_common_args}\n",
    "| where (scStatus in (403, 404))\n",
    "| summarize count() by Computer,sSiteName,sIP,cIP,csMethod,scStatus,csUriStem\n",
    "| sort by count_ desc\n",
    "'''\n",
    "df_q2 = qry_prov.exec_query(query)"
   ]
  },
  {
   "cell_type": "code",
   "execution_count": null,
   "id": "7ef5f650-fcee-417e-921f-bd0995f84e5f",
   "metadata": {
    "tags": []
   },
   "outputs": [],
   "source": [
    "df_q2[(df_q2['scStatus'] == '403')][['cIP', 'csUriStem']].sort_values(\n",
    "    ['cIP', 'csUriStem'],\n",
    "    ascending=False\n",
    ").groupby('csUriStem').count().tail(20)"
   ]
  },
  {
   "cell_type": "code",
   "execution_count": null,
   "id": "0a02b372-7d5f-4628-a1d2-92575c65887f",
   "metadata": {},
   "outputs": [],
   "source": []
  },
  {
   "cell_type": "code",
   "execution_count": null,
   "id": "d6daea10-c184-496a-b8bd-4ffddca451e9",
   "metadata": {},
   "outputs": [],
   "source": []
  },
  {
   "cell_type": "markdown",
   "id": "3208c621-913d-4562-a925-991cf0b5eb4f",
   "metadata": {},
   "source": [
    "### Geolocation"
   ]
  },
  {
   "cell_type": "code",
   "execution_count": null,
   "id": "0bf471dc-d153-4b40-ab04-e3a82cbcc332",
   "metadata": {
    "tags": []
   },
   "outputs": [],
   "source": [
    "# https://msticpy.readthedocs.io/en/latest/getting_started/Installing.html#selective-installation-using-extras\n",
    "# https://msticpy.readthedocs.io/en/latest/data_acquisition/GeoIPLookups.html\n",
    "iplocation = GeoLiteLookup()\n",
    "# iplocation = IPStackLookup()\n",
    "df1_geo = iplocation.df_lookup_ip(df_iis_cIP_public, column=\"cIP\")"
   ]
  },
  {
   "cell_type": "code",
   "execution_count": null,
   "id": "1457e7b2-5c0e-406a-b6c6-5c1d1f8dadc3",
   "metadata": {
    "tags": []
   },
   "outputs": [],
   "source": [
    "df1_geo"
   ]
  },
  {
   "cell_type": "code",
   "execution_count": null,
   "id": "b083a2d3-790b-4c27-b05c-d979566ffdbc",
   "metadata": {
    "tags": []
   },
   "outputs": [],
   "source": [
    "df1_geo.groupby([\"City\", \"CountryCode\"]).sum().sort_values(\n",
    "    by=[\"CountryCode\", \"City\"], ascending=[True, False]\n",
    ")"
   ]
  },
  {
   "cell_type": "code",
   "execution_count": null,
   "id": "7205d366-d637-4c25-b5f9-aaae33b9f4a4",
   "metadata": {},
   "outputs": [],
   "source": []
  },
  {
   "cell_type": "markdown",
   "id": "f800bf01-7f6c-4383-85d7-27d65ec742a5",
   "metadata": {},
   "source": [
    "### ASN"
   ]
  },
  {
   "cell_type": "code",
   "execution_count": null,
   "id": "7ce4f9f3-4a33-4e8e-b0cc-65df73c982b1",
   "metadata": {
    "tags": []
   },
   "outputs": [],
   "source": [
    "# https://msticpy.readthedocs.io/en/latest/data_acquisition/IPWhois.html#asn-lookups FIXME! docs update\n",
    "from msticpy.context.ip_utils import get_asn_from_ip"
   ]
  },
  {
   "cell_type": "code",
   "execution_count": null,
   "id": "1e2f3c93-ff19-4fd5-8de0-837ce313f3ab",
   "metadata": {
    "tags": []
   },
   "outputs": [],
   "source": [
    "get_asn_from_ip(\"65.55.44.109\")"
   ]
  },
  {
   "cell_type": "code",
   "execution_count": null,
   "id": "5b010744-71b1-4c84-b5ae-8dd9dcaeed8d",
   "metadata": {
    "tags": []
   },
   "outputs": [],
   "source": [
    "df1_asn['asn'] = df_iis_cIP_public['cIP'].apply(get_asn_from_ip)"
   ]
  },
  {
   "cell_type": "code",
   "execution_count": null,
   "id": "60ecd730-e55b-447b-a9d5-411e11af7a49",
   "metadata": {
    "tags": []
   },
   "outputs": [],
   "source": [
    "df1_asn"
   ]
  },
  {
   "cell_type": "code",
   "execution_count": null,
   "id": "c7069bec-bf6d-4c35-a444-217ce0bca9a2",
   "metadata": {},
   "outputs": [],
   "source": []
  },
  {
   "cell_type": "markdown",
   "id": "f299be74-bfff-4fd5-80ee-dd38a9574a85",
   "metadata": {},
   "source": [
    "### Web traversal"
   ]
  },
  {
   "cell_type": "code",
   "execution_count": null,
   "id": "b9bb0d11-2c58-41bc-9eda-e87216c7a2bc",
   "metadata": {
    "tags": []
   },
   "outputs": [],
   "source": [
    "query = f'''W3CIISLog {query_common_args}\n",
    "| where csUriQuery has_any (\"..\") and\n",
    "    not (scStatus in (\"403\")) {vuln_scanner_exclude_and}\n",
    "| summarize count() by Computer,sSiteName,sIP,cIP,csMethod,scStatus,csUriStem,csUriQuery\n",
    "| sort by count_ desc\n",
    "'''\n",
    "df_web_traversal = qry_prov.exec_query(query)\n",
    "df_web_traversal.head(20)"
   ]
  },
  {
   "cell_type": "markdown",
   "id": "0939e953-b8fe-43ff-be69-fc121456c1a4",
   "metadata": {},
   "source": [
    "### Webshell"
   ]
  },
  {
   "cell_type": "code",
   "execution_count": null,
   "id": "8060d2c0-d173-43c4-b10a-442ff771b0b1",
   "metadata": {},
   "outputs": [],
   "source": [
    "query = f'''DeviceProcessEvents {query_common_args}\n",
    "| where InitiatingProcessParentFileName in~(\n",
    "    \"beasvc.exe\",\"coldfusion.exe\",\"httpd.exe\",\"owstimer.exe\",\"visualsvnserver.exe\",\"w3wp.exe\"\n",
    "  ) or InitiatingProcessParentFileName startswith \"tomcat\"\n",
    "| where InitiatingProcessFileName in~(\n",
    "    \"arp.exe\",\n",
    "    \"at.exe\",\n",
    "    \"bitsadmin.exe\",\n",
    "    \"certutil.exe\",\n",
    "    \"cmd.exe\",\n",
    "    \"dsget.exe\",\n",
    "    \"dsquery.exe\",\n",
    "    \"find.exe\",\n",
    "    \"findstr.exe\",\n",
    "    \"fsutil.exe\",\n",
    "    \"hostname.exe\",\n",
    "    \"ipconfig.exe\",\n",
    "    \"nbstat.exe\",\n",
    "    \"net.exe\",\n",
    "    \"net1.exe\",\n",
    "    \"netdom.exe\",\n",
    "    \"netsh.exe\",\n",
    "    \"netstat.exe\",\n",
    "    \"nltest.exe\",\n",
    "    \"nslookup.exe\",\n",
    "    \"ntdsutil.exe\",\n",
    "    \"pathping.exe\",\n",
    "    \"ping.exe\",\n",
    "    \"powershell.exe\",\n",
    "    \"powershell_ise.exe\",\n",
    "    \"qprocess.exe\",\n",
    "    \"query.exe\",\n",
    "    \"qwinsta.exe\",\n",
    "    \"reg.exe\",\n",
    "    \"rundll32.exe\",\n",
    "    \"sc.exe\",\n",
    "    \"schtasks.exe\",\n",
    "    \"systeminfo.exe\",\n",
    "    \"tasklist.exe\",\n",
    "    \"tracert.exe\",\n",
    "    \"ver.exe\",\n",
    "    \"vssadmin.exe\",\n",
    "    \"wevtutil.exe\",\n",
    "    \"whoami.exe\",\n",
    "    \"wmic.exe\",\n",
    "    \"wusa.exe\"\n",
    "  )\n",
    "| where FileName != 'conhost.exe'\n",
    "| summarize count() by MachineGroup,DeviceName,InitiatingProcessParentFileName,FolderPath,InitiatingProcessCommandLine\n",
    "| sort by count_\n",
    "'''\n",
    "df_webshell_process = qry_prov.exec_query(query)\n",
    "df_webshell_process.head(20)"
   ]
  },
  {
   "cell_type": "code",
   "execution_count": null,
   "id": "ff71b885-2f97-4143-9f92-94b3791220c7",
   "metadata": {
    "tags": []
   },
   "outputs": [],
   "source": [
    "# 'Cmd=' or 'P=type%20C:\\Windows\\system.ini%20' on Exchange Web server seems \"normal\"\n",
    "query = f'''W3CIISLog {query_common_args}\n",
    "| where csUriQuery has_any (\"dump\", \"tar\", \"git\", \"system\", \"1=\", \"2=\") and''' + r'''\n",
    "    not (csUriQuery has_any (\":\\\\Windows\\\\system.ini\"))\n",
    "| summarize count() by Computer,sSiteName,sIP,cIP,csMethod,scStatus,csUriStem,csUriQuery\n",
    "| sort by count_ desc\n",
    "'''\n",
    "df_webshell_query = qry_prov.exec_query(query)\n",
    "df_webshell_query.head(20)"
   ]
  },
  {
   "cell_type": "code",
   "execution_count": null,
   "id": "ef26d39c-b861-45f3-b315-ad4501820b1a",
   "metadata": {
    "tags": []
   },
   "outputs": [],
   "source": [
    "# https://learn.microsoft.com/en-us/troubleshoot/developer/webapps/iis/health-diagnostic-performance/time-taken-field-http-log\n",
    "# https://techcommunity.microsoft.com/t5/iis-support-blog/time-vs-time-taken-fields-in-iis-logging/ba-p/347677\n",
    "# https://learn.microsoft.com/en-us/previous-versions/windows/it-pro/windows-server-2003/cc786596(v=ws.10)?redirectedfrom=MSDN\n",
    "query = f'''W3CIISLog {query_common_args}\n",
    "| summarize max(TimeTaken),min(TimeTaken),avg(TimeTaken),count() by sSiteName\n",
    "'''\n",
    "df_timetaken = qry_prov.exec_query(query)\n",
    "df_timetaken.head(results_limit)"
   ]
  },
  {
   "cell_type": "code",
   "execution_count": null,
   "id": "8500d56a-a90f-4668-9700-9c0ab9887164",
   "metadata": {
    "tags": []
   },
   "outputs": [],
   "source": [
    "query = f'''W3CIISLog {query_common_args}\n",
    "| summarize max(TimeTaken),min(TimeTaken),avg(TimeTaken),count() by csUriStem\n",
    "| sort by avg_TimeTaken \n",
    "'''\n",
    "df_timetaken2 = qry_prov.exec_query(query)\n",
    "df_timetaken2.head(results_limit)"
   ]
  },
  {
   "cell_type": "code",
   "execution_count": null,
   "id": "084c7f57-85a5-474e-9aa5-a988281f008d",
   "metadata": {
    "tags": []
   },
   "outputs": [],
   "source": []
  },
  {
   "cell_type": "markdown",
   "id": "d4efa7ea-8f7b-46a5-acc2-34fddd4539ab",
   "metadata": {},
   "source": [
    "## Visualization"
   ]
  },
  {
   "cell_type": "code",
   "execution_count": null,
   "id": "294a2d58-d2bc-43fa-8497-dd59771e85d3",
   "metadata": {
    "tags": []
   },
   "outputs": [],
   "source": [
    "# Matrix IP, site\n",
    "query = f'''W3CIISLog {query_common_args}\n",
    "| summarize count() by sSiteName,cIP\n",
    "| sort by count_ desc\n",
    "| limit 100'''\n",
    "df_ip_site = qry_prov.exec_query(query)"
   ]
  },
  {
   "cell_type": "code",
   "execution_count": null,
   "id": "1d888e76-7e23-4189-9567-23e4faa13470",
   "metadata": {
    "tags": []
   },
   "outputs": [],
   "source": [
    "plot_matrix(\n",
    "    data=df_ip_site,\n",
    "    x=\"sSiteName\", y=\"cIP\",\n",
    "    title=\"Matrix IP - site\"\n",
    ")"
   ]
  },
  {
   "cell_type": "code",
   "execution_count": null,
   "id": "d1ab67ea-4d4c-4006-a47c-eb3493557fad",
   "metadata": {
    "tags": []
   },
   "outputs": [],
   "source": [
    "# Matrix IP, method\n",
    "query = f'''W3CIISLog {query_common_args}\n",
    "| summarize count() by cIP,csMethod\n",
    "| sort by count_ desc\n",
    "| limit 100'''\n",
    "df_ip_method = qry_prov.exec_query(query)"
   ]
  },
  {
   "cell_type": "code",
   "execution_count": null,
   "id": "7086d500-b0e3-4a50-873a-f6b8b4bdf3c3",
   "metadata": {
    "tags": []
   },
   "outputs": [],
   "source": [
    "plot_matrix(\n",
    "    data=df_ip_method,\n",
    "    x=\"csMethod\", y=\"cIP\",\n",
    "    title=\"Matrix IP - method\"\n",
    ")"
   ]
  },
  {
   "cell_type": "code",
   "execution_count": null,
   "id": "e143dbe2-938d-4732-ac19-5a9a1e016a75",
   "metadata": {
    "tags": []
   },
   "outputs": [],
   "source": [
    "# Matrix IP Public, status code\n",
    "query = f'''W3CIISLog {query_common_args}\n",
    "| extend is_private = ipv4_is_private(cIP)\n",
    "| summarize count() by cIP,scStatus,is_private\n",
    "| sort by count_ desc\n",
    "'''\n",
    "df_ip_statuscode = qry_prov.exec_query(query)"
   ]
  },
  {
   "cell_type": "code",
   "execution_count": null,
   "id": "68a5c4cd-de23-4147-8f84-0370cf490298",
   "metadata": {
    "tags": []
   },
   "outputs": [],
   "source": [
    "plot_matrix(\n",
    "    data=df_ip_statuscode[df_ip_statuscode['is_private'] == False].head(100),\n",
    "    x=\"scStatus\", y=\"cIP\",\n",
    "    title=\"Matrix IP public - scStatus\"\n",
    ")"
   ]
  },
  {
   "cell_type": "code",
   "execution_count": null,
   "id": "fcd0d3b4-6758-4ba3-b2b6-09ee97d68017",
   "metadata": {
    "tags": []
   },
   "outputs": [],
   "source": [
    "# Matrix IP Private, status code\n",
    "plot_matrix(\n",
    "    data=df_ip_statuscode[df_ip_statuscode['is_private'] == True].head(100),\n",
    "    x=\"scStatus\", y=\"cIP\",\n",
    "    title=\"Matrix IP private - scStatus\"\n",
    ")"
   ]
  },
  {
   "cell_type": "code",
   "execution_count": null,
   "id": "1945fccb-202e-4359-8255-b38bbf3b58ae",
   "metadata": {
    "tags": []
   },
   "outputs": [],
   "source": [
    "# Matrix IP, status code 403 or 404\n",
    "plot_matrix(\n",
    "    data=df_ip_statuscode[(df_ip_statuscode['scStatus'] == '403') | (df_ip_statuscode['scStatus'] == '404')].head(100),\n",
    "    x=\"scStatus\", y=\"cIP\",\n",
    "    title=\"Matrix IP - site\"\n",
    ")"
   ]
  },
  {
   "cell_type": "code",
   "execution_count": null,
   "id": "7a8e533e-83a8-4122-8c40-d5a80846c285",
   "metadata": {},
   "outputs": [],
   "source": []
  },
  {
   "cell_type": "markdown",
   "id": "45115a79-5086-4316-988a-37e75a0ae623",
   "metadata": {},
   "source": [
    "## Misc"
   ]
  },
  {
   "cell_type": "code",
   "execution_count": null,
   "id": "47ea0dad-0348-46ae-9d90-f9f1d0090fcd",
   "metadata": {},
   "outputs": [],
   "source": [
    "# Noise?"
   ]
  },
  {
   "cell_type": "code",
   "execution_count": null,
   "id": "eae7943a-a298-4efa-a455-0601d508006d",
   "metadata": {
    "tags": []
   },
   "outputs": [],
   "source": [
    "# Anomalies? no site, computer\n",
    "query = f'''W3CIISLog {query_common_args}\n",
    "| where Computer == \"\" or sSiteName == \"\"\n",
    "| summarize count() by Computer,sSiteName,_ResourceId\n",
    "| sort by count_ desc\n",
    "'''\n",
    "df_iis_anomalies = qry_prov.exec_query(query)\n",
    "df_iis_anomalies.head(30)"
   ]
  },
  {
   "cell_type": "code",
   "execution_count": null,
   "id": "1241edc2-c548-4f51-ba24-1e70109e918c",
   "metadata": {
    "tags": []
   },
   "outputs": [],
   "source": [
    "# PII, credentials detection? many more variants...\n",
    "query = f'''search in (W3CIISLog) (\"--password\" or \"password=\" or \"_PASSWORD\" or \"PASSWORD_\" or \"credentials=\" or \"pin=\" or \"cvv=\" or \"hl7-org\") {query_common_args}\n",
    "| summarize count() by sSiteName,scStatus,csUriStem,csUriQuery\n",
    "| sort by count_ desc \n",
    "| limit {results_limit}'''\n",
    "df_sensitivedata = qry_prov.exec_query(query)\n",
    "df_sensitivedata.head(results_limit)"
   ]
  },
  {
   "cell_type": "code",
   "execution_count": null,
   "id": "9d604d87-7d19-4e03-b4a2-8baac86a00bb",
   "metadata": {},
   "outputs": [],
   "source": []
  }
 ],
 "metadata": {
  "kernelspec": {
   "display_name": "Python 3 (ipykernel)",
   "language": "python",
   "name": "python3"
  },
  "language_info": {
   "codemirror_mode": {
    "name": "ipython",
    "version": 3
   },
   "file_extension": ".py",
   "mimetype": "text/x-python",
   "name": "python",
   "nbconvert_exporter": "python",
   "pygments_lexer": "ipython3",
   "version": "3.10.11"
  }
 },
 "nbformat": 4,
 "nbformat_minor": 5
}
