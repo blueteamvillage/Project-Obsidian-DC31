{
 "cells": [
  {
   "cell_type": "markdown",
   "id": "689f1ab1-5346-4bea-b858-fe55a946ed22",
   "metadata": {
    "tags": []
   },
   "source": [
    "# IaaS Linux Logs Review Template - Splunk\n",
    "BTV Project Obsidian, 2023\n",
    "\n",
    "Author: juju43, https://blueteamvillage.org/programs/project-obsidian/ https://discord.gg/blueteamvillage\n",
    "<img align=\"right\" width=\"100\" height=\"100\" src=\"https://cfc.blueteamvillage.org/media/call-for-content-2021/img/20200622_BTVillage_logos_RGB_pos_hcOC7Qx.png\">"
   ]
  },
  {
   "cell_type": "markdown",
   "id": "a0d398e9-22a4-4b9a-a710-b62b7a4d2d6a",
   "metadata": {},
   "source": [
    "This playbook is to help validating available logs\n",
    "It helps to baseline environment, identify gaps and control points.\n",
    "\n",
    "It targets Defcon31 BlueTeamVillage Project obsidian environment and splunk platform but it can be adapt to other logging platforms.\n",
    "\n",
    "Possible sources\n",
    "* systemd, journald, su, sshd, sudo, cron, at\n",
    "* auditd\n",
    "* osquery\n",
    "* sysmonforlinux\n",
    "\n",
    "External sources like EDR or network are intentionally not covered here."
   ]
  },
  {
   "cell_type": "markdown",
   "id": "291b8e71-4d07-428d-86f2-7b585d693f30",
   "metadata": {
    "tags": []
   },
   "source": [
    "## Resources"
   ]
  },
  {
   "cell_type": "markdown",
   "id": "1536ab39-9c33-43db-ab43-48b911924c04",
   "metadata": {},
   "source": [
    "* https://github.com/microsoft/msticpy/\n",
    "* https://infosecjupyterthon.com/\n",
    "* https://dropbox.tech/security/how-dropbox-security-builds-better-tools-for-threat-detection-and-incident-response\n",
    "* https://github.com/SigmaHQ/sigma\n",
    "* cli usage\n",
    "  * as is `jupyter run notebook.ipynb --allow-errors` - https://docs.jupyter.org/en/latest/running.html#using-a-command-line-interface\n",
    "  * with parameters `papermill input.ipynb output.ipynb -p alpha 0.6 -p l1_ratio 0.1` - https://papermill.readthedocs.io/en/latest/usage-workflow.html \n",
    "\n",
    "(Linux)\n",
    "* https://github.com/Azure/Azure-Sentinel-Notebooks/blob/master/Entity%20Explorer%20-%20Linux%20Host.ipynb\n",
    "* https://securitydatasets.com/notebooks/atomic/linux/intro.html"
   ]
  },
  {
   "cell_type": "markdown",
   "id": "31c43650-df05-4f75-ada5-6d9fb0bae5a1",
   "metadata": {},
   "source": [
    "## Findings"
   ]
  },
  {
   "cell_type": "markdown",
   "id": "baed51b2-0602-4bc7-b3b4-5e4c36d18e49",
   "metadata": {},
   "source": [
    "_Put your findings here_"
   ]
  },
  {
   "cell_type": "markdown",
   "id": "a9c365dc-9d3e-48ab-b1fe-951230d61f99",
   "metadata": {},
   "source": [
    "## Table of Contents\n",
    "\n",
    "* Import\n",
    "* Configuration\n",
    "* Queries\n",
    "  * Authentication\n",
    "    * fail\n",
    "    * success\n",
    "  * Remote access\n",
    "  * Privilege escalation\n",
    "  * Privileged users activities? root, Administrator...\n",
    "  * Service activities\n",
    "    * Time\n",
    "    * Logging\n",
    "    * Scheduled tasks\n",
    "  * System boot, on/off\n",
    "  * Process activities\n",
    "  * Network activities\n",
    "  * File Integrity Monitoring (FIM)\n",
    "  * Auditd\n",
    "  * AV logs?\n",
    "  * Web logs?\n",
    "  * Misc"
   ]
  },
  {
   "cell_type": "markdown",
   "id": "ea86fac3-20d7-4bfd-843a-93c1b5da3f96",
   "metadata": {
    "tags": []
   },
   "source": [
    "## Import"
   ]
  },
  {
   "cell_type": "code",
   "execution_count": null,
   "id": "dbec5036-8b12-4de1-8842-a902f2f738d7",
   "metadata": {
    "tags": []
   },
   "outputs": [],
   "source": [
    "# Check we are running Python 3.6\n",
    "import sys\n",
    "MIN_REQ_PYTHON = (3,6)\n",
    "if sys.version_info < MIN_REQ_PYTHON:\n",
    "    print('Check the Kernel->Change Kernel menu and ensure that Python 3.6')\n",
    "    print('or later is selected as the active kernel.')\n",
    "    sys.exit(\"Python %s.%s or later is required.\\n\" % MIN_REQ_PYTHON)"
   ]
  },
  {
   "cell_type": "code",
   "execution_count": null,
   "id": "972a3f5b-7f0e-4382-bef8-0138be162437",
   "metadata": {
    "tags": []
   },
   "outputs": [],
   "source": [
    "# Imports\n",
    "import pandas as pd\n",
    "import msticpy.nbtools as nbtools\n",
    "from datetime import datetime,timedelta\n",
    "import os"
   ]
  },
  {
   "cell_type": "code",
   "execution_count": null,
   "id": "f3897813-4fb8-46ff-8e1d-bcb31c4ebca9",
   "metadata": {
    "tags": []
   },
   "outputs": [],
   "source": [
    "# path to config file\n",
    "os.environ['MSTICPYCONFIG'] = '/home/ubuntu/msticpyconfig.yaml'\n",
    "from msticpy.nbtools import *\n",
    "from msticpy.data.data_providers import QueryProvider\n",
    "from msticpy.common.wsconfig import WorkspaceConfig\n",
    "from msticpy.nbtools.data_viewer import DataViewer\n",
    "from msticpy.vis.matrix_plot import plot_matrix\n",
    "from msticpy.nbtools import process_tree as ptree\n",
    "print('Imports Complete')"
   ]
  },
  {
   "cell_type": "markdown",
   "id": "72e27508-6923-4c98-a159-cd1ec7a53e62",
   "metadata": {},
   "source": [
    "## Configuration"
   ]
  },
  {
   "cell_type": "code",
   "execution_count": null,
   "id": "cdfc6d45-a3d1-4940-8890-c2b294f97500",
   "metadata": {},
   "outputs": [],
   "source": [
    "# Interactive settings edit\n",
    "# https://msticpy.readthedocs.io/en/latest/getting_started/SettingsEditor.html#using-mpconfigfile-to-check-and-manage-your-msticpyconfig-yaml\n",
    "from msticpy.config import MpConfigFile, MpConfigEdit, MpConfigControls\n",
    "mpconfig = MpConfigFile()\n",
    "# mpconfig.load_default()\n",
    "# mpconfig.view_settings()\n",
    "mpconfig"
   ]
  },
  {
   "cell_type": "code",
   "execution_count": null,
   "id": "c7c1b946-2df5-4a2c-9b16-29fad87f2635",
   "metadata": {
    "tags": []
   },
   "outputs": [],
   "source": [
    "# q_times = nbwidgets.QueryTime(units='hours', max_before=72, before=1, max_after=0)\n",
    "q_times = nbwidgets.QueryTime(origin_time=datetime(2023, 4, 29), units='days', max_before=3, before=1, max_after=0)\n",
    "q_times.display()"
   ]
  },
  {
   "cell_type": "code",
   "execution_count": null,
   "id": "cfe36521-d2f1-431b-ba85-0fa897c5f21a",
   "metadata": {
    "tags": []
   },
   "outputs": [],
   "source": [
    "query_common_args = '''agent.name=ip-172-16-40-100 earliest=\"04/29/2023:01:00:00\" latest=\"04/29/2023:23:00:00\"'''"
   ]
  },
  {
   "cell_type": "code",
   "execution_count": null,
   "id": "5393a5d6-5c94-4e8d-8eab-85385e02752c",
   "metadata": {
    "tags": []
   },
   "outputs": [],
   "source": [
    "# Configuration\n",
    "# if free splunk, \n",
    "#  * enable the 'allowRemoteLogin' setting in your server.conf file - /opt/splunk/etc/system/local/server.conf\n",
    "splunk_prov = QueryProvider('Splunk')\n",
    "splunk_prov.connect()"
   ]
  },
  {
   "cell_type": "code",
   "execution_count": null,
   "id": "1a3ffc2c-867d-445b-9b03-c1edc8de60bc",
   "metadata": {
    "tags": []
   },
   "outputs": [],
   "source": [
    "# pandas\n",
    "pd.set_option('display.max_colwidth', 500)"
   ]
  },
  {
   "cell_type": "markdown",
   "id": "d96e60a4-0194-428d-bddc-485614c0b9c0",
   "metadata": {},
   "source": [
    "## Queries"
   ]
  },
  {
   "cell_type": "markdown",
   "id": "948e7a63-b522-47b7-987b-1625cd2873bf",
   "metadata": {},
   "source": [
    "### Timeperiod"
   ]
  },
  {
   "cell_type": "markdown",
   "id": "2191215d-e610-4e9d-bada-94f20658b639",
   "metadata": {},
   "source": [
    "Let's confirm that we have logs for the targeted timeperiod."
   ]
  },
  {
   "cell_type": "code",
   "execution_count": null,
   "id": "5b28ab0c-6ce8-470f-9780-835673c4929d",
   "metadata": {
    "tags": []
   },
   "outputs": [],
   "source": [
    "q_times.start"
   ]
  },
  {
   "cell_type": "code",
   "execution_count": null,
   "id": "5822f820-9e13-42de-bb35-0956ccceedc2",
   "metadata": {
    "tags": []
   },
   "outputs": [],
   "source": [
    "q_times.end"
   ]
  },
  {
   "cell_type": "code",
   "execution_count": null,
   "id": "3212afe1-bdbb-4844-a150-a3ddc422fc88",
   "metadata": {
    "tags": []
   },
   "outputs": [],
   "source": [
    "query = f'''Syslog {query_common_args}\n",
    "| summarize max(TimeGenerated),min(TimeGenerated)\n",
    "'''\n",
    "df_timeperiod = qry_prov.exec_query(query)\n",
    "df_timeperiod.head(results_limit)"
   ]
  },
  {
   "cell_type": "markdown",
   "id": "00492dac-0de7-43a5-90a1-635f9c679347",
   "metadata": {},
   "source": [
    "### Authentication"
   ]
  },
  {
   "cell_type": "code",
   "execution_count": null,
   "id": "b4bacba9-95ae-4947-9368-20143a315dd2",
   "metadata": {
    "tags": []
   },
   "outputs": [],
   "source": [
    "splunk_query = f'''search index=linux su: {query_common_args}\n",
    "| stats count by host,message'''\n",
    "df_su = splunk_prov.exec_query(splunk_query)\n",
    "df_su.head(10)"
   ]
  },
  {
   "cell_type": "code",
   "execution_count": null,
   "id": "b2f64c71-b8b2-4090-8ffe-4f0803589b66",
   "metadata": {},
   "outputs": [],
   "source": [
    "splunk_query = f'''search index=linux session {query_common_args}\n",
    "| stats count by host,message'''\n",
    "df_session = splunk_prov.exec_query(splunk_query)\n",
    "df_session.head(10)"
   ]
  },
  {
   "cell_type": "markdown",
   "id": "e1aff3b9-4936-41de-8d80-e7e9197acf96",
   "metadata": {},
   "source": [
    "### Remote access"
   ]
  },
  {
   "cell_type": "code",
   "execution_count": null,
   "id": "5c44e6c6-a082-4e9b-aa74-ff3d3fbbccf9",
   "metadata": {
    "tags": []
   },
   "outputs": [],
   "source": [
    "splunk_query = f'''search index=linux sshd (accepted OR failed) {query_common_args}\n",
    "| stats count by host,message'''\n",
    "df_ssh = splunk_prov.exec_query(splunk_query)"
   ]
  },
  {
   "cell_type": "code",
   "execution_count": null,
   "id": "666c7d04-1d04-4cdc-8b09-416c150a84e6",
   "metadata": {
    "tags": []
   },
   "outputs": [],
   "source": [
    "df_ssh[['host', 'message']].head(10)\n",
    "# df_ssh.head(10)"
   ]
  },
  {
   "cell_type": "code",
   "execution_count": null,
   "id": "a57336c4-e1c8-462b-b690-a12746a6ac16",
   "metadata": {
    "tags": []
   },
   "outputs": [],
   "source": [
    "# sshd[1234]: Starting session: subsystem 'sftp' for USER from 10.x.y.z port 55098 id 1\n",
    "splunk_query = f'''search index=linux sshd subsystem {query_common_args}\n",
    "| stats count by host,message'''\n",
    "df_sftp = splunk_prov.exec_query(splunk_query)"
   ]
  },
  {
   "cell_type": "code",
   "execution_count": null,
   "id": "d96c78f8-71c9-4c02-9276-2bca9648a07e",
   "metadata": {},
   "outputs": [],
   "source": []
  },
  {
   "cell_type": "code",
   "execution_count": null,
   "id": "02bc5bbe-7540-4082-a1a6-8504df641e4d",
   "metadata": {
    "tags": []
   },
   "outputs": [],
   "source": [
    "splunk_query = f'''search index=osquery {query_common_args}\n",
    "| spath input=message\n",
    "| search name=\"pack_osquery-custom-pack_authorized_keys\"'''\n",
    "df_ssh_authorized_keys = splunk_prov.exec_query(splunk_query)\n",
    "df_ssh_authorized_keys.head(10)"
   ]
  },
  {
   "cell_type": "markdown",
   "id": "c037835d-5750-4ce4-b450-d9e14ab7a1ea",
   "metadata": {},
   "source": [
    "### Privilege Escalation"
   ]
  },
  {
   "cell_type": "code",
   "execution_count": null,
   "id": "dff1b29e-9d5c-4344-a357-42a770accba1",
   "metadata": {
    "tags": []
   },
   "outputs": [],
   "source": [
    "splunk_query = f'''search index=linux sudo {query_common_args}\n",
    "| stats count by host,message'''\n",
    "df_sudo = splunk_prov.exec_query(splunk_query)\n",
    "df_sudo.head(10)"
   ]
  },
  {
   "cell_type": "markdown",
   "id": "693a6387-7225-46cc-87b7-1c8862ece740",
   "metadata": {},
   "source": [
    "### Services activities"
   ]
  },
  {
   "cell_type": "code",
   "execution_count": null,
   "id": "368064f8-1cb2-4c11-b449-838d37413e6e",
   "metadata": {
    "tags": []
   },
   "outputs": [],
   "source": [
    "splunk_query = f'''search index=linux \"journald.process.name\"=systemd (start OR stop OR Deactivated) {query_common_args}\n",
    "| stats count by host,message'''\n",
    "df_services = splunk_prov.exec_query(splunk_query)\n",
    "df_services.head(10)"
   ]
  },
  {
   "cell_type": "code",
   "execution_count": null,
   "id": "d1ecddf7-9771-492a-82f8-b4aa43353199",
   "metadata": {},
   "outputs": [],
   "source": [
    "splunk_query = f'''search index=linux \"journald.process.name\"=systemd (ntpd OR openntpd OR ntpdate OR rdate OR chrony) {query_common_args}\n",
    "| stats count by host,message'''\n",
    "df_service_time = splunk_prov.exec_query(splunk_query)\n",
    "df_service_time.head(10)"
   ]
  },
  {
   "cell_type": "code",
   "execution_count": null,
   "id": "a5a7065f-8373-4d5e-89b9-ae0550f765c1",
   "metadata": {},
   "outputs": [],
   "source": [
    "splunk_query = f'''search index=linux \"journald.process.name\"=systemd (journald OR rsyslog OR syslog-ng) {query_common_args}\n",
    "| stats count by host,message'''\n",
    "df_service_logging = splunk_prov.exec_query(splunk_query)\n",
    "df_service_logging.head(10)"
   ]
  },
  {
   "cell_type": "code",
   "execution_count": null,
   "id": "082a06d7-8255-4b4a-a419-71dfa8451fe9",
   "metadata": {},
   "outputs": [],
   "source": [
    "splunk_query = f'''search index=linux \"journald.process.name\"=systemd (cron OR at OR systemd-timers) {query_common_args}\n",
    "| stats count by host,message'''\n",
    "df_service_scheduledtasks = splunk_prov.exec_query(splunk_query)\n",
    "df_service_scheduledtasks.head(10)"
   ]
  },
  {
   "cell_type": "code",
   "execution_count": null,
   "id": "23fd9af9-49e7-4138-83b4-ca0eaa6929db",
   "metadata": {},
   "outputs": [],
   "source": []
  },
  {
   "cell_type": "code",
   "execution_count": null,
   "id": "b6daf3ca-4787-4e4e-b1f7-21737cf5c083",
   "metadata": {
    "tags": []
   },
   "outputs": [],
   "source": [
    "splunk_query = f'''search index=linux \"input.type\"!=journald (start OR stop OR Deactivated) {query_common_args}\n",
    "| stats count by host,agent.type,input.type,message'''\n",
    "df_services2 = splunk_prov.exec_query(splunk_query)\n",
    "df_services2.head(10)"
   ]
  },
  {
   "cell_type": "code",
   "execution_count": null,
   "id": "ac5460d8-1db3-4d6d-9697-5b7dc74a4e59",
   "metadata": {
    "tags": []
   },
   "outputs": [],
   "source": [
    "splunk_query = f'''search index=linux \"journald.process.name\"=systemd systemd-resolved {query_common_args}\n",
    "| stats count by host,agent.type,input.type,message'''\n",
    "df_systemdresolved1 = splunk_prov.exec_query(splunk_query)\n",
    "df_systemdresolved1.head(10)"
   ]
  },
  {
   "cell_type": "code",
   "execution_count": null,
   "id": "e1129835-880e-494d-ad34-08aab01dbe9b",
   "metadata": {
    "tags": []
   },
   "outputs": [],
   "source": [
    "splunk_query = f'''search index=linux systemd-resolved {query_common_args}\n",
    "| stats count by host,agent.type,log.file.path,message'''\n",
    "df_systemdresolved2 = splunk_prov.exec_query(splunk_query)\n",
    "df_systemdresolved2.head(10)"
   ]
  },
  {
   "cell_type": "code",
   "execution_count": null,
   "id": "dfedb4bb-606c-41ac-87e7-0975514a050b",
   "metadata": {},
   "outputs": [],
   "source": []
  },
  {
   "cell_type": "markdown",
   "id": "e194a321-9b15-4714-9ef5-7304fbb70acb",
   "metadata": {},
   "source": [
    "### System boot, on/off"
   ]
  },
  {
   "cell_type": "code",
   "execution_count": null,
   "id": "8afa1807-b92a-4ca1-9bb4-2cd4a8c66b66",
   "metadata": {},
   "outputs": [],
   "source": [
    "splunk_query = f'''search index=linux \"journald.process.name\"=systemd (halt OR shutdown???) {query_common_args}\n",
    "| stats count by host,message'''\n",
    "df_system_onoff = splunk_prov.exec_query(splunk_query)\n",
    "if not df_system_onoff or df_system_onoff.empty:\n",
    "    print(\"No results\")\n",
    "else:\n",
    "    df_system_onoff.head(10)"
   ]
  },
  {
   "cell_type": "code",
   "execution_count": null,
   "id": "6a0cff88-d02d-4da7-9d3e-c21f42dcf1d8",
   "metadata": {},
   "outputs": [],
   "source": []
  },
  {
   "cell_type": "markdown",
   "id": "48fd701b-8930-411b-b191-e82ba04802f7",
   "metadata": {},
   "source": [
    "### Error, warnings"
   ]
  },
  {
   "cell_type": "code",
   "execution_count": null,
   "id": "1e7f29bd-460f-428c-ac67-06d4faf87946",
   "metadata": {
    "tags": []
   },
   "outputs": [],
   "source": [
    "splunk_query = f'''search index=linux error {query_common_args}\n",
    "| head 10'''\n",
    "df_errors = splunk_prov.exec_query(splunk_query)\n",
    "df_errors.head(5)"
   ]
  },
  {
   "cell_type": "code",
   "execution_count": null,
   "id": "d9445f3e-ab30-4b60-a75c-378e9b39d44f",
   "metadata": {
    "tags": []
   },
   "outputs": [],
   "source": [
    "splunk_query = f'''search index=linux warn {query_common_args}\n",
    "| head 10'''\n",
    "df_warn = splunk_prov.exec_query(splunk_query)\n",
    "df_warn.head(5)"
   ]
  },
  {
   "cell_type": "markdown",
   "id": "4b952ff4-eef2-43e5-897b-a2f3d64f7eac",
   "metadata": {},
   "source": [
    "### Process activities"
   ]
  },
  {
   "cell_type": "code",
   "execution_count": null,
   "id": "962747e6-8d12-46e9-99c7-110513f53154",
   "metadata": {
    "tags": []
   },
   "outputs": [],
   "source": [
    "splunk_query = f'''search index=sysmonforlinux {query_common_args}\n",
    "| stats count by RuleName,User,Image,CommandLine,ParentCommandLine'''\n",
    "df_process = splunk_prov.exec_query(splunk_query)\n",
    "df_process.head(10)"
   ]
  },
  {
   "cell_type": "code",
   "execution_count": null,
   "id": "c97818e4-3110-4396-9523-a37e5f3abbbb",
   "metadata": {
    "tags": []
   },
   "outputs": [],
   "source": [
    "splunk_query = f'''search index=sysmonforlinux {query_common_args} (kebrute OR crackmapexec OR curl OR wget OR pip3 OR git)\n",
    "| stats count by RuleName,User,Image,CommandLine,ParentCommandLine'''\n",
    "df_process2 = splunk_prov.exec_query(splunk_query)\n",
    "df_process2.head(20)"
   ]
  },
  {
   "cell_type": "code",
   "execution_count": null,
   "id": "7bd3ca74-06ab-42f9-be43-3a13873c024e",
   "metadata": {},
   "outputs": [],
   "source": []
  },
  {
   "cell_type": "code",
   "execution_count": null,
   "id": "7520a129-41f7-487d-993d-ee1f1e595d99",
   "metadata": {
    "tags": []
   },
   "outputs": [],
   "source": [
    "splunk_query = f'''search index=sysmonforlinux {query_common_args} (kebrute OR crackmapexec OR curl OR wget OR pip3 OR git OR 11317)\n",
    "| stats count by host,RuleName,UtcTime,User,Image,ProcessId,CommandLine,ParentProcessId,ParentCommandLine'''\n",
    "df_process_tree = splunk_prov.exec_query(splunk_query)"
   ]
  },
  {
   "cell_type": "code",
   "execution_count": null,
   "id": "f4eaadfa-408b-4faf-9f9f-6abf9c7375f8",
   "metadata": {
    "tags": []
   },
   "outputs": [],
   "source": [
    "df_process_tree.head(5)"
   ]
  },
  {
   "cell_type": "code",
   "execution_count": null,
   "id": "19199290-abe8-4ec4-a05a-e88765bc34da",
   "metadata": {
    "tags": []
   },
   "outputs": [],
   "source": [
    "df_process_tree[df_process_tree['ProcessId'] == 11317]"
   ]
  },
  {
   "cell_type": "code",
   "execution_count": null,
   "id": "ec6bb43f-e7d4-4b57-9651-ecb8cd1125ed",
   "metadata": {
    "tags": []
   },
   "outputs": [],
   "source": [
    "# Process tree\n",
    "from msticpy.transform.proc_tree_builder import LX_EVENT_SCH\n",
    "from copy import copy\n",
    "cust_lx_schema = copy(LX_EVENT_SCH)\n",
    "\n",
    "cust_lx_schema.time_stamp = \"UtcTime\"\n",
    "cust_lx_schema.host_name_column = \"host\"\n",
    "cust_lx_schema.cmd_line = \"CommandLine\"\n",
    "cust_lx_schema.process_name = \"Image\"\n",
    "cust_lx_schema.process_id = \"ProcessId\"\n",
    "cust_lx_schema.parent_id = \"ParentProcessId\"\n",
    "cust_lx_schema.user_name = \"User\"\n",
    "cust_lx_schema.event_id_column = None\n",
    "cust_lx_schema.event_id_identifier = None\n",
    "\n",
    "# now supply the schema as the schema parameter\n",
    "#process_tree.build_process_tree(df_process_tree, schema=cust_lx_schema)\n",
    "df_process_tree.mp_plot.process_tree(schema=cust_lx_schema)"
   ]
  },
  {
   "cell_type": "code",
   "execution_count": null,
   "id": "7c9563a4-6ece-4357-b399-e89b006f3a04",
   "metadata": {},
   "outputs": [],
   "source": []
  },
  {
   "cell_type": "code",
   "execution_count": null,
   "id": "c08e80d2-67bf-4c4d-a1ed-6df8a5f0a687",
   "metadata": {},
   "outputs": [],
   "source": [
    "splunk_query = f'''search index=osquery pack_osquery-custom-pack_processes {query_common_args}\n",
    "| spath input=message\n",
    "| where name=\"pack_osquery-custom-pack_outbound_connections\"\n",
    "| stats count by name,action,columns.pid,columns.cmdline,columns.ppid,columns.pcmdline'''\n",
    "df_process9 = splunk_prov.exec_query(splunk_query)\n",
    "if not df_process9 or df_process9.empty:\n",
    "    print(\"No results\")\n",
    "else:\n",
    "    df_process9.head(10)"
   ]
  },
  {
   "cell_type": "code",
   "execution_count": null,
   "id": "bd93c9e1-ddf1-40a1-89c1-660480de9b63",
   "metadata": {},
   "outputs": [],
   "source": []
  },
  {
   "cell_type": "markdown",
   "id": "cc255aca-37ed-41b5-a717-7de0f4cd6035",
   "metadata": {},
   "source": [
    "### Network activities"
   ]
  },
  {
   "cell_type": "code",
   "execution_count": null,
   "id": "6ab35027-3ac3-4c56-8f1d-a0b60ce0cb04",
   "metadata": {},
   "outputs": [],
   "source": []
  },
  {
   "cell_type": "code",
   "execution_count": null,
   "id": "cb92c382-8a5b-4c5c-961d-a24ea950651d",
   "metadata": {
    "tags": []
   },
   "outputs": [],
   "source": [
    "splunk_query = f'''search index=osquery pack_osquery-custom-pack_dns_resolvers {query_common_args}\n",
    "| spath input=message\n",
    "| where name=\"pack_osquery-custom-pack_dns_resolvers\"\n",
    "| stats count by name,action,columns.address,columns.type'''\n",
    "df_dns = splunk_prov.exec_query(splunk_query)"
   ]
  },
  {
   "cell_type": "code",
   "execution_count": null,
   "id": "27538903-d0db-46d8-9db2-b9c1d3040c3d",
   "metadata": {
    "tags": []
   },
   "outputs": [],
   "source": [
    " df_dns.head(10)"
   ]
  },
  {
   "cell_type": "code",
   "execution_count": null,
   "id": "af81baf9-c2f4-4e8f-9a67-5c609448bc2b",
   "metadata": {},
   "outputs": [],
   "source": [
    "splunk_query = f'''search index=osquery pack_osquery-custom-pack_outbound_connections {query_common_args}\n",
    "| spath input=message\n",
    "| where name=\"pack_osquery-custom-pack_outbound_connections\"\n",
    "| stats count by name,action,columns.username,columns.name,columns.path,columns.cmdline,columns.remote_address'''\n",
    "df_outbound = splunk_prov.exec_query(splunk_query)"
   ]
  },
  {
   "cell_type": "code",
   "execution_count": null,
   "id": "8213d917-e19d-475d-bbce-027fdb000583",
   "metadata": {
    "tags": []
   },
   "outputs": [],
   "source": [
    "if not df_outbound or df_outbound.empty:\n",
    "    print(\"No results\")\n",
    "else:\n",
    "    df_outbound.head(10)"
   ]
  },
  {
   "cell_type": "code",
   "execution_count": null,
   "id": "039dfddd-34a0-4806-9250-7d04857dab9e",
   "metadata": {},
   "outputs": [],
   "source": []
  },
  {
   "cell_type": "markdown",
   "id": "946d7b1d-713a-455e-83f5-97d76d53b540",
   "metadata": {},
   "source": [
    "### File Integrity Monitoring"
   ]
  },
  {
   "cell_type": "code",
   "execution_count": null,
   "id": "6753fe90-ee91-414c-a35c-5aea94aefda8",
   "metadata": {
    "tags": []
   },
   "outputs": [],
   "source": [
    "splunk_query = f'''search index=osquery fim {query_common_args}\n",
    "| spath input=message\n",
    "| where name=\"fim\"\n",
    "| stats count by name,columns.target_path,columns.action'''\n",
    "df_fim = splunk_prov.exec_query(splunk_query)\n",
    "if not df_fim or df_fim.empty:\n",
    "    print(\"No results\")\n",
    "else:\n",
    "    df_fim.head(10)"
   ]
  },
  {
   "cell_type": "markdown",
   "id": "69249dcc-22f9-4828-af80-7d1cc9f63a4d",
   "metadata": {},
   "source": [
    "### Auditd"
   ]
  },
  {
   "cell_type": "markdown",
   "id": "52f5203e-e9cf-4c69-ace4-fe437c2dd527",
   "metadata": {},
   "source": [
    "by type, keywords, exe"
   ]
  },
  {
   "cell_type": "markdown",
   "id": "831f1c02-db7e-4606-8ad9-0bf83db06564",
   "metadata": {},
   "source": [
    "### Selinux"
   ]
  },
  {
   "cell_type": "markdown",
   "id": "fe9a3ab2-e463-4f55-be2d-0d1de68e5434",
   "metadata": {},
   "source": [
    "### Local AV, EDR"
   ]
  },
  {
   "cell_type": "markdown",
   "id": "718435c9-a268-4189-82aa-56e75fa31171",
   "metadata": {},
   "source": [
    "### Misc"
   ]
  },
  {
   "cell_type": "code",
   "execution_count": null,
   "id": "4d55c6f0-9a05-44be-934b-efe146208cf5",
   "metadata": {},
   "outputs": [],
   "source": [
    "splunk_prov.list_queries()"
   ]
  },
  {
   "cell_type": "code",
   "execution_count": null,
   "id": "a900d649-c6a9-4d42-b364-12aced6690f7",
   "metadata": {
    "tags": []
   },
   "outputs": [],
   "source": [
    "splunk_query = f'''search index=osquery pack_osquery-custom-pack_python_packages {query_common_args}\n",
    "| search name=\"pack_osquery-custom-pack_python_packages\"\n",
    "| stats count by name,action,columns.name,columns.summary,columns.version'''\n",
    "df_python = splunk_prov.exec_query(splunk_query)"
   ]
  },
  {
   "cell_type": "code",
   "execution_count": null,
   "id": "c9a22bfe-0afb-4c26-8300-22213d59677b",
   "metadata": {},
   "outputs": [],
   "source": [
    "if not df_python or df_python.empty:\n",
    "    print(\"No results\")\n",
    "else:\n",
    "    df_python.head(10)"
   ]
  },
  {
   "cell_type": "code",
   "execution_count": null,
   "id": "f570f06a-2a09-4c68-b346-498f5b4694ff",
   "metadata": {},
   "outputs": [],
   "source": []
  },
  {
   "cell_type": "code",
   "execution_count": null,
   "id": "87053001-2f23-4606-83b6-1cedec2ea976",
   "metadata": {},
   "outputs": [],
   "source": []
  }
 ],
 "metadata": {
  "kernelspec": {
   "display_name": "Python 3 (ipykernel)",
   "language": "python",
   "name": "python3"
  },
  "language_info": {
   "codemirror_mode": {
    "name": "ipython",
    "version": 3
   },
   "file_extension": ".py",
   "mimetype": "text/x-python",
   "name": "python",
   "nbconvert_exporter": "python",
   "pygments_lexer": "ipython3",
   "version": "3.10.11"
  }
 },
 "nbformat": 4,
 "nbformat_minor": 5
}
