{
 "cells": [
  {
   "cell_type": "markdown",
   "id": "689f1ab1-5346-4bea-b858-fe55a946ed22",
   "metadata": {
    "tags": []
   },
   "source": [
    "# IaaS Windows Logs Review Template - Sentinel\n",
    "BTV Project Obsidian, 2023.\n",
    "\n",
    "Author: juju43, https://blueteamvillage.org/programs/project-obsidian/ https://discord.gg/blueteamvillage\n",
    "<img align=\"right\" width=\"100\" height=\"100\" src=\"https://cfc.blueteamvillage.org/media/call-for-content-2021/img/20200622_BTVillage_logos_RGB_pos_hcOC7Qx.png\">"
   ]
  },
  {
   "cell_type": "markdown",
   "id": "a0d398e9-22a4-4b9a-a710-b62b7a4d2d6a",
   "metadata": {},
   "source": [
    "This playbook is to help validating available logs\n",
    "It helps to baseline environment, identify gaps and control points.\n",
    "\n",
    "It targets Defcon31 BlueTeamVillage Project obsidian environment and splunk platform but it can be adapt to other logging platforms.\n",
    "\n",
    "Possible sources\n",
    "* Windows Event logs\n",
    "* sysmon\n",
    "\n",
    "External sources like EDR or network are intentionally not covered here."
   ]
  },
  {
   "cell_type": "markdown",
   "id": "17fefc06-6e6b-44fa-8faa-24b29e051caa",
   "metadata": {
    "tags": []
   },
   "source": [
    "## Resources"
   ]
  },
  {
   "cell_type": "markdown",
   "id": "2d80df5c-331e-4471-8f2d-b7056a486657",
   "metadata": {},
   "source": [
    "* https://github.com/microsoft/msticpy/\n",
    "* https://infosecjupyterthon.com/\n",
    "* https://dropbox.tech/security/how-dropbox-security-builds-better-tools-for-threat-detection-and-incident-response\n",
    "* https://www.malwarearchaeology.com/cheat-sheets\n",
    "* https://what2log.com/\n",
    "* https://github.com/SigmaHQ/sigma\n",
    "* cli usage\n",
    "  * as is `jupyter run notebook.ipynb --allow-errors` - https://docs.jupyter.org/en/latest/running.html#using-a-command-line-interface\n",
    "  * with parameters `papermill input.ipynb output.ipynb -p alpha 0.6 -p l1_ratio 0.1` - https://papermill.readthedocs.io/en/latest/usage-workflow.html \n",
    "\n",
    "(Win)\n",
    "* https://github.com/Azure/Azure-Sentinel-Notebooks/blob/master/Entity%20Explorer%20-%20Windows%20Host.ipynb\n",
    "* https://github.com/OTRF/ThreatHunter-Playbook/tree/master/docs/hunts/windows\n",
    "* https://securitydatasets.com/notebooks/atomic/windows/intro.html\n",
    "* https://docs.microsoft.com/en-us/windows/security/threat-protection/auditing/audit-user-account-management\n",
    "* https://learn.microsoft.com/en-us/windows-server/identity/ad-ds/plan/appendix-l--events-to-monitor\n",
    "* https://learn.microsoft.com/en-us/windows/security/threat-protection/use-windows-event-forwarding-to-assist-in-intrusion-detection\n",
    "* jpcert: https://jpcertcc.github.io/ToolAnalysisResultSheet/, https://github.com/JPCERTCC/LogonTracer\n",
    "* https://github.com/mdecrevoisier/Splunk-input-windows-baseline\n",
    "* https://www.13cubed.com/downloads/windows_event_log_cheat_sheet.pdf"
   ]
  },
  {
   "cell_type": "markdown",
   "id": "31c43650-df05-4f75-ada5-6d9fb0bae5a1",
   "metadata": {},
   "source": [
    "## Findings"
   ]
  },
  {s
   "cell_type": "markdown",
   "id": "baed51b2-0602-4bc7-b3b4-5e4c36d18e49",
   "metadata": {},
   "source": [
    "_TBD_\n",
    "\n",
    "* eventid 4688 gave no output. not enabled?\n",
    "* Privileged users seems to be seth.morgan and iotadmin (outside of usual SYSTEM and Administrator).\n",
    "  * From multiple operations, seth.morgan is likely an IT admin.\n",
    "  * seth.morgan authentication logs show two different source IP addresses: 172.16.10.9 (mostly) and 172.16.40.100 (outlier)\n",
    "* iot-eng-wkst used to check some documents, download and run nmap (sysmon processes)\n",
    "* nmap used also iot-jumpbox (sysmon processes)\n",
    "* sysmon processes visibility is partial on the two iot-* windows. bug, misconfiguration, tampering?"
   ]
  },
  {
   "cell_type": "markdown",
   "id": "a9c365dc-9d3e-48ab-b1fe-951230d61f99",
   "metadata": {},
   "source": [
    "## Table of Contents\n",
    "\n",
    "* Import\n",
    "* Configuration\n",
    "* Queries\n",
    "  * Authentication\n",
    "    * fail\n",
    "    * success\n",
    "  * Remote access\n",
    "  * Privilege escalation\n",
    "  * Privileged users activities? root, Administrator...\n",
    "  * Service activities\n",
    "    * Time\n",
    "    * Logging\n",
    "    * Scheduled tasks\n",
    "  * System boot, on/off\n",
    "  * Process activities\n",
    "  * Network activities\n",
    "  * File Integrity Monitoring (FIM)\n",
    "  * AV logs?\n",
    "  * Web logs?\n",
    "  * Misc"
   ]
  },
  {
   "cell_type": "markdown",
   "id": "ea86fac3-20d7-4bfd-843a-93c1b5da3f96",
   "metadata": {
    "tags": []
   },
   "source": [
    "## Import"
   ]
  },
  {
   "cell_type": "code",
   "execution_count": null,
   "id": "dbec5036-8b12-4de1-8842-a902f2f738d7",
   "metadata": {
    "tags": []
   },
   "outputs": [],
   "source": [
    "# Check we are running Python 3.6\n",
    "import sys\n",
    "MIN_REQ_PYTHON = (3,6)\n",
    "if sys.version_info < MIN_REQ_PYTHON:\n",
    "    print('Check the Kernel->Change Kernel menu and ensure that Python 3.6')\n",
    "    print('or later is selected as the active kernel.')\n",
    "    sys.exit(\"Python %s.%s or later is required.\\n\" % MIN_REQ_PYTHON)"
   ]
  },
  {
   "cell_type": "code",
   "execution_count": null,
   "id": "972a3f5b-7f0e-4382-bef8-0138be162437",
   "metadata": {
    "tags": []
   },
   "outputs": [],
   "source": [
    "# Imports\n",
    "import pandas as pd\n",
    "import msticpy.nbtools as nbtools\n",
    "from datetime import datetime,timedelta\n",
    "import os"
   ]
  },
  {
   "cell_type": "code",
   "execution_count": null,
   "id": "f3897813-4fb8-46ff-8e1d-bcb31c4ebca9",
   "metadata": {
    "tags": []
   },
   "outputs": [],
   "source": [
    "# path to config file\n",
    "os.environ['MSTICPYCONFIG'] = '/home/ubuntu/msticpyconfig.yaml'\n",
    "from msticpy.nbtools import *\n",
    "from msticpy.data.data_providers import QueryProvider\n",
    "from msticpy.common.wsconfig import WorkspaceConfig\n",
    "from msticpy.nbtools.data_viewer import DataViewer\n",
    "from msticpy.vis.matrix_plot import plot_matrix\n",
    "from msticpy.nbtools import process_tree as ptree\n",
    "print('Imports Complete')"
   ]
  },
  {
   "cell_type": "markdown",
   "id": "72e27508-6923-4c98-a159-cd1ec7a53e62",
   "metadata": {},
   "source": [
    "## Configuration"
   ]
  },
  {
   "cell_type": "code",
   "execution_count": null,
   "id": "cdfc6d45-a3d1-4940-8890-c2b294f97500",
   "metadata": {
    "tags": []
   },
   "outputs": [],
   "source": [
    "# Interactive settings edit\n",
    "# https://msticpy.readthedocs.io/en/latest/getting_started/SettingsEditor.html#using-mpconfigfile-to-check-and-manage-your-msticpyconfig-yaml\n",
    "from msticpy.config import MpConfigFile, MpConfigEdit, MpConfigControls\n",
    "mpconfig = MpConfigFile()\n",
    "# mpconfig.load_default()\n",
    "# mpconfig.view_settings()\n",
    "mpconfig"
   ]
  },
  {
   "cell_type": "code",
   "execution_count": null,
   "id": "c7c1b946-2df5-4a2c-9b16-29fad87f2635",
   "metadata": {
    "tags": []
   },
   "outputs": [],
   "source": [
    "# q_times = nbwidgets.QueryTime(units='hours', max_before=72, before=1, max_after=0)\n",
    "q_times = nbwidgets.QueryTime(origin_time=datetime(2023, 4, 29), units='days', max_before=3, before=1, max_after=0)\n",
    "q_times.display()"
   ]
  },
  {
   "cell_type": "code",
   "execution_count": null,
   "id": "cfe36521-d2f1-431b-ba85-0fa897c5f21a",
   "metadata": {
    "tags": []
   },
   "outputs": [],
   "source": [
    "query_common_args = '''earliest=\"04/29/2023:01:00:00\" latest=\"04/29/2023:23:00:00\"'''"
   ]
  },
  {
   "cell_type": "code",
   "execution_count": null,
   "id": "5393a5d6-5c94-4e8d-8eab-85385e02752c",
   "metadata": {
    "tags": []
   },
   "outputs": [],
   "source": [
    "# Configuration\n",
    "# if free splunk, \n",
    "#  * enable the 'allowRemoteLogin' setting in your server.conf file - /opt/splunk/etc/system/local/server.conf\n",
    "splunk_prov = QueryProvider('Splunk')\n",
    "splunk_prov.connect()"
   ]
  },
  {
   "cell_type": "code",
   "execution_count": null,
   "id": "1a3ffc2c-867d-445b-9b03-c1edc8de60bc",
   "metadata": {
    "tags": []
   },
   "outputs": [],
   "source": [
    "# pandas\n",
    "pd.set_option('display.max_colwidth', 500)"
   ]
  },
  {
   "cell_type": "markdown",
   "id": "d96e60a4-0194-428d-bddc-485614c0b9c0",
   "metadata": {},
   "source": [
    "## Queries"
   ]
  },
  {
   "cell_type": "markdown",
   "id": "cc9b17e4-9ee4-4897-b505-414f365933f1",
   "metadata": {},
   "source": [
    "### Timeperiod"
   ]
  },
  {
   "cell_type": "markdown",
   "id": "a275c7ed-e96e-494d-90a0-92c10bbce8d9",
   "metadata": {},
   "source": [
    "Let's confirm that we have logs for the targeted timeperiod."
   ]
  },
  {
   "cell_type": "code",
   "execution_count": null,
   "id": "6bae14b4-007d-4e8a-99c5-42e1b917f1a0",
   "metadata": {
    "tags": []
   },
   "outputs": [],
   "source": [
    "q_times.start"
   ]
  },
  {
   "cell_type": "code",
   "execution_count": null,
   "id": "52f60370-a33e-4c86-a182-fb10a1a1efbc",
   "metadata": {
    "tags": []
   },
   "outputs": [],
   "source": [
    "q_times.end"
   ]
  },
  {
   "cell_type": "code",
   "execution_count": null,
   "id": "d013d668-df3c-4e1f-995c-680e22f2d13b",
   "metadata": {
    "tags": []
   },
   "outputs": [],
   "source": [
    "query = f'''SecurityEvent {query_common_args}\n",
    "| union Event\n",
    "| summarize max(TimeGenerated),min(TimeGenerated)\n",
    "'''\n",
    "df_timeperiod = qry_prov.exec_query(query)\n",
    "df_timeperiod.head(results_limit)"
   ]
  },
  {
   "cell_type": "code",
   "execution_count": null,
   "id": "c3f97d31-4a47-4c71-8d75-351fbbf75a00",
   "metadata": {},
   "outputs": [],
   "source": []
  },
  {
   "cell_type": "markdown",
   "id": "00492dac-0de7-43a5-90a1-635f9c679347",
   "metadata": {},
   "source": [
    "### Authentication"
   ]
  },
  {
   "cell_type": "code",
   "execution_count": null,
   "id": "b4bacba9-95ae-4947-9368-20143a315dd2",
   "metadata": {
    "tags": []
   },
   "outputs": [],
   "source": [
    "splunk_query = f'''search index=windows event.code IN (4624, 4634, 4625, 4635) {query_common_args}\n",
    "| stats count by event.code,event.provider,winlog.event_data.LogonType, winlog.event_data.IpAddress, winlog.event_data.SubjectUserName, winlog.event_data.TargetUserName'''\n",
    "df_auth1 = splunk_prov.exec_query(splunk_query)\n",
    "df_auth1.head(10)"
   ]
  },
  {
   "cell_type": "code",
   "execution_count": null,
   "id": "b2f64c71-b8b2-4090-8ffe-4f0803589b66",
   "metadata": {},
   "outputs": [],
   "source": []
  },
  {
   "cell_type": "markdown",
   "id": "e1aff3b9-4936-41de-8d80-e7e9197acf96",
   "metadata": {},
   "source": [
    "### Remote access"
   ]
  },
  {
   "cell_type": "code",
   "execution_count": null,
   "id": "5c44e6c6-a082-4e9b-aa74-ff3d3fbbccf9",
   "metadata": {
    "tags": []
   },
   "outputs": [],
   "source": [
    "splunk_query = f'''search index=windows event.code IN (4624, 4634, 4625, 4635) winlog.event_data.LogonType=3 {query_common_args}\n",
    "| stats count by event.code,event.provider,winlog.event_data.LogonType, winlog.event_data.IpAddress, winlog.event_data.SubjectUserName, winlog.event_data.TargetUserName'''\n",
    "df_logontype3 = splunk_prov.exec_query(splunk_query)\n",
    "df_logontype3.head(10)"
   ]
  },
  {
   "cell_type": "code",
   "execution_count": null,
   "id": "666c7d04-1d04-4cdc-8b09-416c150a84e6",
   "metadata": {
    "tags": []
   },
   "outputs": [],
   "source": [
    "splunk_query = f'''search index=windows event.code IN (4624, 4634, 4625, 4635) winlog.event_data.LogonType=10 {query_common_args}\n",
    "| stats count by event.code,event.provider,winlog.event_data.LogonType, winlog.event_data.IpAddress, winlog.event_data.SubjectUserName, winlog.event_data.TargetUserName'''\n",
    "df_logontype10 = splunk_prov.exec_query(splunk_query)\n",
    "df_logontype10.head(10)"
   ]
  },
  {
   "cell_type": "code",
   "execution_count": null,
   "id": "9e5814a4-8df9-40e3-a325-bcc349686de4",
   "metadata": {
    "tags": []
   },
   "outputs": [],
   "source": [
    "df_logontype10.size"
   ]
  },
  {
   "cell_type": "code",
   "execution_count": null,
   "id": "0b6a1417-9818-45b8-8e70-dcc5db827f01",
   "metadata": {
    "tags": []
   },
   "outputs": [],
   "source": [
    "# 172.16.10.93 teleport jumphost?\n",
    "df_logontype10[df_logontype10['winlog.event_data.IpAddress'] != '172.16.10.93']"
   ]
  },
  {
   "cell_type": "code",
   "execution_count": null,
   "id": "6bb40015-ba3b-442d-be51-496ebb96df42",
   "metadata": {
    "tags": []
   },
   "outputs": [],
   "source": [
    "df_logontype10[df_logontype10['winlog.event_data.TargetUserName'] == 'seth.morgan']"
   ]
  },
  {
   "cell_type": "code",
   "execution_count": null,
   "id": "a57336c4-e1c8-462b-b690-a12746a6ac16",
   "metadata": {
    "tags": []
   },
   "outputs": [],
   "source": [
    "splunk_query = f'''search index=windows event.code IN (4624, 4634, 4625, 4635) winlog.event_data.LogonType=8 {query_common_args}\n",
    "| stats count by event.code,event.provider,winlog.event_data.LogonType, winlog.event_data.IpAddress, winlog.event_data.SubjectUserName, winlog.event_data.TargetUserName'''\n",
    "df_logontype8 = splunk_prov.exec_query(splunk_query)\n",
    "# df_logontype8.head(10)"
   ]
  },
  {
   "cell_type": "code",
   "execution_count": null,
   "id": "d96c78f8-71c9-4c02-9276-2bca9648a07e",
   "metadata": {},
   "outputs": [],
   "source": []
  },
  {
   "cell_type": "code",
   "execution_count": null,
   "id": "e806b99e-e01a-4ed0-b56b-1ae05db57c40",
   "metadata": {
    "tags": []
   },
   "outputs": [],
   "source": [
    "df_logontype3[df_logontype3['winlog.event_data.TargetUserName'] == 'seth.morgan']"
   ]
  },
  {
   "cell_type": "code",
   "execution_count": null,
   "id": "3fff1081-84d1-4d93-9797-e2092282b7d5",
   "metadata": {
    "tags": []
   },
   "outputs": [],
   "source": [
    "df_logontype3[df_logontype3['winlog.event_data.TargetUserName'] == 'iotadmin']"
   ]
  },
  {
   "cell_type": "code",
   "execution_count": null,
   "id": "0c0e9218-2a3b-447e-ab68-312f992fe0dc",
   "metadata": {
    "tags": []
   },
   "outputs": [],
   "source": [
    "df_logontype10[df_logontype10['winlog.event_data.TargetUserName'] == 'iotadmin']"
   ]
  },
  {
   "cell_type": "code",
   "execution_count": null,
   "id": "fc3ddb5d-8f51-47e4-851b-d54308b3fa3b",
   "metadata": {},
   "outputs": [],
   "source": []
  },
  {
   "cell_type": "markdown",
   "id": "c037835d-5750-4ce4-b450-d9e14ab7a1ea",
   "metadata": {},
   "source": [
    "### Privilege Escalation"
   ]
  },
  {
   "cell_type": "code",
   "execution_count": null,
   "id": "dff1b29e-9d5c-4344-a357-42a770accba1",
   "metadata": {
    "tags": []
   },
   "outputs": [],
   "source": [
    "splunk_query = f'''search index=windows event.code IN (4688, 4672, 4673, 4674) winlog.event_data.SubjectUserName!=*$ winlog.event_data.SubjectUserName!=DWM-* {query_common_args}\n",
    "| stats count by event.code,event.provider, winlog.event_data.SubjectDomainName, winlog.event_data.SubjectUserName, winlog.event_data.PrivilegeList'''\n",
    "df_priv = splunk_prov.exec_query(splunk_query)\n",
    "df_priv.head(10)"
   ]
  },
  {
   "cell_type": "code",
   "execution_count": null,
   "id": "19e2d9b2-4cae-4c74-97e8-7cf4d7470c6f",
   "metadata": {},
   "outputs": [],
   "source": []
  },
  {
   "cell_type": "markdown",
   "id": "693a6387-7225-46cc-87b7-1c8862ece740",
   "metadata": {},
   "source": [
    "### Services activities"
   ]
  },
  {
   "cell_type": "code",
   "execution_count": null,
   "id": "368064f8-1cb2-4c11-b449-838d37413e6e",
   "metadata": {
    "tags": []
   },
   "outputs": [],
   "source": [
    "splunk_query = f'''search index=windows winlog.channel=System event.provider=\"Service Control Manager\" {query_common_args}\n",
    "| stats count by event.code,event.provider,winlog.event_data.param1,winlog.event_data.param2'''\n",
    "df_services = splunk_prov.exec_query(splunk_query)\n",
    "df_services.head(10)"
   ]
  },
  {
   "cell_type": "code",
   "execution_count": null,
   "id": "2feda78c-772c-4254-b808-ef7c3d4f0ca7",
   "metadata": {
    "tags": []
   },
   "outputs": [],
   "source": [
    "# start, stop\n",
    "splunk_query = f'''search index=windows winlog.channel=System event.provider=\"Service Control Manager\"  event.code IN (7035, 7036) {query_common_args}\n",
    "| stats count by event.code,event.provider,winlog.event_data.param1,winlog.event_data.param2'''\n",
    "df_services2 = splunk_prov.exec_query(splunk_query)\n",
    "df_services2.head(10)"
   ]
  },
  {
   "cell_type": "code",
   "execution_count": null,
   "id": "d1ecddf7-9771-492a-82f8-b4aa43353199",
   "metadata": {},
   "outputs": [],
   "source": [
    "# time\n",
    "splunk_query = f'''search index=windows event.code IN (4616, 1, 257, 258, 259, 260, 261, 262, 263, 264, 265, 266) event.provider!=Microsoft-Windows-TerminalServices-RemoteConnectionManager event.provider!=tvnserver {query_common_args}\n",
    "| stats count by event.code,event.provider'''\n",
    "df_service_time = splunk_prov.exec_query(splunk_query)\n",
    "df_service_time.head(10)"
   ]
  },
  {
   "cell_type": "code",
   "execution_count": null,
   "id": "a5a7065f-8373-4d5e-89b9-ae0550f765c1",
   "metadata": {},
   "outputs": [],
   "source": [
    "# scheduled tasks\n",
    "# https://learn.microsoft.com/en-us/windows/security/threat-protection/auditing/event-4698\n",
    "splunk_query = f'''search index=windows event.code IN (4698,4699, 4700, 4701, 4702) {query_common_args}\n",
    "| stats count by event.code,event.provider'''\n",
    "df_service_scheduledtasks = splunk_prov.exec_query(splunk_query)\n",
    "# df_service_scheduledtasks.head(10)"
   ]
  },
  {
   "cell_type": "code",
   "execution_count": null,
   "id": "082a06d7-8255-4b4a-a419-71dfa8451fe9",
   "metadata": {},
   "outputs": [],
   "source": [
    "splunk_query = f'''index=windows Microsoft-Windows-TaskScheduler {query_common_args}\n",
    "| stats count by event.code,event.provider'''\n",
    "df_service_scheduledtasks2 = splunk_prov.exec_query(splunk_query)\n",
    "df_service_scheduledtasks2.head(10)"
   ]
  },
  {
   "cell_type": "code",
   "execution_count": null,
   "id": "23fd9af9-49e7-4138-83b4-ca0eaa6929db",
   "metadata": {},
   "outputs": [],
   "source": []
  },
  {
   "cell_type": "code",
   "execution_count": null,
   "id": "b6daf3ca-4787-4e4e-b1f7-21737cf5c083",
   "metadata": {
    "tags": []
   },
   "outputs": [],
   "source": [
    "# clear logs?\n",
    "splunk_query = f'''search index=windows event.code IN (1102) {query_common_args}\n",
    "| stats count by event.code,event.provider'''\n",
    "df_clear_logs = splunk_prov.exec_query(splunk_query)\n",
    "# df_clear_logs.head(10)"
   ]
  },
  {
   "cell_type": "code",
   "execution_count": null,
   "id": "dfedb4bb-606c-41ac-87e7-0975514a050b",
   "metadata": {},
   "outputs": [],
   "source": []
  },
  {
   "cell_type": "markdown",
   "id": "e194a321-9b15-4714-9ef5-7304fbb70acb",
   "metadata": {},
   "source": [
    "### System boot, on/off"
   ]
  },
  {
   "cell_type": "code",
   "execution_count": null,
   "id": "8afa1807-b92a-4ca1-9bb4-2cd4a8c66b66",
   "metadata": {},
   "outputs": [],
   "source": [
    "# https://www.windowscentral.com/how-find-reason-pc-shutdown-no-reason-windows-10\n",
    "# https://www.shellhacks.com/windows-shutdown-reboot-event-ids-get-logs/\n",
    "# https://serverfault.com/questions/885601/windows-event-codes-for-startup-shutdown-lock-unlock\n",
    "splunk_query = f'''search index=windows event.code IN (12, 13, 41, 42, 107, 1074, 1076, 6005, 6006, 6008, 6009, 6013) event.provider!=Microsoft-Windows-TerminalServices-LocalSessionManager {query_common_args}\n",
    "| stats count by event.code,event.provider,message'''\n",
    "df_system_onoff = splunk_prov.exec_query(splunk_query)\n",
    "df_system_onoff.head(10)"
   ]
  },
  {
   "cell_type": "code",
   "execution_count": null,
   "id": "6a0cff88-d02d-4da7-9d3e-c21f42dcf1d8",
   "metadata": {},
   "outputs": [],
   "source": []
  },
  {
   "cell_type": "markdown",
   "id": "48fd701b-8930-411b-b191-e82ba04802f7",
   "metadata": {},
   "source": [
    "### Error, warnings"
   ]
  },
  {
   "cell_type": "code",
   "execution_count": null,
   "id": "1e7f29bd-460f-428c-ac67-06d4faf87946",
   "metadata": {
    "tags": []
   },
   "outputs": [],
   "source": [
    "splunk_query = f'''search index=windows log.level=error {query_common_args}\n",
    "| stats count by event.code,event.provider,winlog.opcode,log.level,message\n",
    "| sort - count'''\n",
    "df_errors = splunk_prov.exec_query(splunk_query)\n",
    "df_errors.head(5)"
   ]
  },
  {
   "cell_type": "code",
   "execution_count": null,
   "id": "d9445f3e-ab30-4b60-a75c-378e9b39d44f",
   "metadata": {
    "tags": []
   },
   "outputs": [],
   "source": [
    "splunk_query = f'''search index=windows log.level=warning {query_common_args}\n",
    "| stats count by event.code,event.provider,winlog.opcode,log.level,message\n",
    "| sort - count'''\n",
    "df_warn = splunk_prov.exec_query(splunk_query)\n",
    "df_warn.head(5)"
   ]
  },
  {
   "cell_type": "markdown",
   "id": "4b952ff4-eef2-43e5-897b-a2f3d64f7eac",
   "metadata": {},
   "source": [
    "### Process activities"
   ]
  },
  {
   "cell_type": "code",
   "execution_count": null,
   "id": "962747e6-8d12-46e9-99c7-110513f53154",
   "metadata": {
    "tags": []
   },
   "outputs": [],
   "source": [
    "splunk_query = f'''search index=windows event.code=4688 {query_common_args}\n",
    "| stats count by event.code,event.provider'''\n",
    "df_process = splunk_prov.exec_query(splunk_query)\n",
    "# df_process.head(10)"
   ]
  },
  {
   "cell_type": "code",
   "execution_count": null,
   "id": "c97818e4-3110-4396-9523-a37e5f3abbbb",
   "metadata": {
    "tags": []
   },
   "outputs": [],
   "source": [
    "splunk_query = f'''search index=sysmon event.code=1 {query_common_args}\n",
    "| stats count by event.code,event.provider,winlog.event_data.RuleName, winlog.event_data.User, winlog.event_data.CommandLine, winlog.event_data.ParentCommandLine\n",
    "| sort - count'''\n",
    "df_process2 = splunk_prov.exec_query(splunk_query)\n",
    "df_process2.head(20)"
   ]
  },
  {
   "cell_type": "code",
   "execution_count": null,
   "id": "7bd3ca74-06ab-42f9-be43-3a13873c024e",
   "metadata": {},
   "outputs": [],
   "source": []
  },
  {
   "cell_type": "code",
   "execution_count": null,
   "id": "7520a129-41f7-487d-993d-ee1f1e595d99",
   "metadata": {
    "tags": []
   },
   "outputs": [],
   "source": [
    "splunk_query = f'''search index=sysmon event.code=1 host=iot-eng-wkst* {query_common_args}\n",
    "| rename winlog.event_data.UtcTime as UtcTime\n",
    "| rename winlog.event_data.RuleName as RuleName\n",
    "| rename winlog.event_data.User as User\n",
    "| rename winlog.event_data.Image as Image\n",
    "| rename winlog.event_data.CommandLine as CommandLine\n",
    "| rename winlog.event_data.ParentImage as ParentImage\n",
    "| rename winlog.event_data.ParentCommandLine as ParentCommandLine\n",
    "| rename winlog.event_data.ProcessId as ProcessId\n",
    "| rename winlog.event_data.ParentProcessId as ParentProcessId\n",
    "| stats count by host,event.code,event.provider,UtcTime,RuleName, User, Image, CommandLine, ParentCommandLine, ProcessId, ParentProcessId, ParentImage'''\n",
    "df_process_tree_iotengwkst = splunk_prov.exec_query(splunk_query)"
   ]
  },
  {
   "cell_type": "code",
   "execution_count": null,
   "id": "f4eaadfa-408b-4faf-9f9f-6abf9c7375f8",
   "metadata": {
    "tags": []
   },
   "outputs": [],
   "source": [
    "df_process_tree_iotengwkst.head(5)"
   ]
  },
  {
   "cell_type": "code",
   "execution_count": null,
   "id": "ec6bb43f-e7d4-4b57-9651-ecb8cd1125ed",
   "metadata": {
    "tags": []
   },
   "outputs": [],
   "source": [
    "# Process tree\n",
    "from msticpy.transform.proc_tree_builder import WIN_EVENT_SCH\n",
    "from copy import copy\n",
    "cust_win_schema = copy(WIN_EVENT_SCH)\n",
    "\n",
    "cust_win_schema.time_stamp = \"UtcTime\"\n",
    "cust_win_schema.host_name_column = \"host\"\n",
    "cust_win_schema.cmd_line = \"CommandLine\"\n",
    "cust_win_schema.process_name = \"Image\"\n",
    "cust_win_schema.process_id = \"ProcessId\"\n",
    "cust_win_schema.parent_id = \"ParentProcessId\"\n",
    "cust_win_schema.parent_name = \"ParentImage\"\n",
    "cust_win_schema.user_name = \"User\"\n",
    "cust_win_schema.event_id_column = None\n",
    "cust_win_schema.event_id_identifier = None\n",
    "\n",
    "# now supply the schema as the schema parameter\n",
    "#process_tree.build_process_tree(df_process_tree, schema=cust_lx_schema)\n",
    "df_process_tree_iotengwkst.mp_plot.process_tree(schema=cust_win_schema)"
   ]
  },
  {
   "cell_type": "code",
   "execution_count": null,
   "id": "7c9563a4-6ece-4357-b399-e89b006f3a04",
   "metadata": {},
   "outputs": [],
   "source": []
  },
  {
   "cell_type": "code",
   "execution_count": null,
   "id": "cf5dc947-55e4-4d59-a7fa-3db75072cf90",
   "metadata": {
    "tags": []
   },
   "outputs": [],
   "source": [
    "splunk_query = f'''search index=sysmon event.code=1 host=iot-jumpbox* {query_common_args}\n",
    "| rename winlog.event_data.UtcTime as UtcTime\n",
    "| rename winlog.event_data.RuleName as RuleName\n",
    "| rename winlog.event_data.User as User\n",
    "| rename winlog.event_data.Image as Image\n",
    "| rename winlog.event_data.CommandLine as CommandLine\n",
    "| rename winlog.event_data.ParentImage as ParentImage\n",
    "| rename winlog.event_data.ParentCommandLine as ParentCommandLine\n",
    "| rename winlog.event_data.ProcessId as ProcessId\n",
    "| rename winlog.event_data.ParentProcessId as ParentProcessId\n",
    "| stats count by host,event.code,event.provider,UtcTime,RuleName, User, Image, CommandLine, ParentCommandLine, ProcessId, ParentProcessId, ParentImage'''\n",
    "df_process_tree_iotjumpbox = splunk_prov.exec_query(splunk_query)"
   ]
  },
  {
   "cell_type": "code",
   "execution_count": null,
   "id": "c3cc490a-8e1d-4629-91e5-441020d37123",
   "metadata": {
    "tags": []
   },
   "outputs": [],
   "source": [
    "df_process_tree_iotjumpbox.head(5)"
   ]
  },
  {
   "cell_type": "code",
   "execution_count": null,
   "id": "bd93c9e1-ddf1-40a1-89c1-660480de9b63",
   "metadata": {},
   "outputs": [],
   "source": [
    "df_process_tree_iotjumpbox.mp_plot.process_tree(schema=cust_win_schema)"
   ]
  },
  {
   "cell_type": "code",
   "execution_count": null,
   "id": "6a9878c2-f605-4427-a448-2074645aedc3",
   "metadata": {},
   "outputs": [],
   "source": []
  },
  {
   "cell_type": "code",
   "execution_count": null,
   "id": "5524c843-2c8a-4194-975b-50ca5679b36f",
   "metadata": {},
   "outputs": [],
   "source": []
  },
  {
   "cell_type": "markdown",
   "id": "cc255aca-37ed-41b5-a717-7de0f4cd6035",
   "metadata": {},
   "source": [
    "### Network activities"
   ]
  },
  {
   "cell_type": "code",
   "execution_count": null,
   "id": "6ab35027-3ac3-4c56-8f1d-a0b60ce0cb04",
   "metadata": {},
   "outputs": [],
   "source": []
  },
  {
   "cell_type": "code",
   "execution_count": null,
   "id": "cb92c382-8a5b-4c5c-961d-a24ea950651d",
   "metadata": {
    "tags": []
   },
   "outputs": [],
   "source": [
    "splunk_query = f'''search index=sysmon event.code=3 {query_common_args}\n",
    "| stats count by event.code,event.provider,winlog.event_data.RuleName, winlog.event_data.User, winlog.event_data.Image, winlog.event_data.DestinationIp, winlog.event_data.DestinationPort\n",
    "| sort - count'''\n",
    "df_network = splunk_prov.exec_query(splunk_query)\n",
    "df_network.head(10)"
   ]
  },
  {
   "cell_type": "code",
   "execution_count": null,
   "id": "27538903-d0db-46d8-9db2-b9c1d3040c3d",
   "metadata": {
    "tags": []
   },
   "outputs": [],
   "source": []
  },
  {
   "cell_type": "code",
   "execution_count": null,
   "id": "9a4bf523-3f59-4fc2-8416-faa576d58b75",
   "metadata": {},
   "outputs": [],
   "source": []
  },
  {
   "cell_type": "markdown",
   "id": "946d7b1d-713a-455e-83f5-97d76d53b540",
   "metadata": {},
   "source": [
    "### File Integrity Monitoring"
   ]
  },
  {
   "cell_type": "code",
   "execution_count": null,
   "id": "6753fe90-ee91-414c-a35c-5aea94aefda8",
   "metadata": {
    "tags": []
   },
   "outputs": [],
   "source": [
    "# https://learn.microsoft.com/en-us/windows/security/threat-protection/auditing/basic-audit-object-access\n",
    "# https://learn.microsoft.com/en-us/windows/security/threat-protection/auditing/event-4660\n",
    "# https://learn.microsoft.com/en-us/windows/security/threat-protection/auditing/event-4663\n",
    "splunk_query = f'''search index=windows event.code IN (4656, 4658, 4659, 4660, 4661, 4663, 4715, 4907) {query_common_args}\n",
    "| stats count by event.code,event.provider,winlog.task, winlog.event_data.ProcessName, winlog.event_data.ObjectName\n",
    "| sort - count'''\n",
    "df_auditing = splunk_prov.exec_query(splunk_query)\n",
    "df_auditing.head(10)"
   ]
  },
  {
   "cell_type": "markdown",
   "id": "718435c9-a268-4189-82aa-56e75fa31171",
   "metadata": {},
   "source": [
    "### Misc"
   ]
  },
  {
   "cell_type": "code",
   "execution_count": null,
   "id": "4d55c6f0-9a05-44be-934b-efe146208cf5",
   "metadata": {},
   "outputs": [],
   "source": [
    "splunk_prov.list_queries()"
   ]
  },
  {
   "cell_type": "code",
   "execution_count": null,
   "id": "7911b5af-86e7-453c-aade-329f2a33522c",
   "metadata": {},
   "outputs": [],
   "source": []
  },
  {
   "cell_type": "code",
   "execution_count": null,
   "id": "a900d649-c6a9-4d42-b364-12aced6690f7",
   "metadata": {
    "tags": []
   },
   "outputs": [],
   "source": [
    "# Noise\n",
    "splunk_query = f'''search index=windows {query_common_args}\n",
    "| stats count by event.code,event.provider\n",
    "| sort - count'''\n",
    "df_volume = splunk_prov.exec_query(splunk_query)\n",
    "df_volume.head(10)"
   ]
  },
  {
   "cell_type": "code",
   "execution_count": null,
   "id": "f570f06a-2a09-4c68-b346-498f5b4694ff",
   "metadata": {},
   "outputs": [],
   "source": []
  }
  {
   "cell_type": "code",
   "execution_count": null,
   "id": "5b24167b-6088-400f-806e-a33277f24c9c",
   "metadata": {
    "tags": []
   },
   "outputs": [],
   "source": [
    "# PII, credentials detection? many more variants...\n",
    "# sysmon and powershell logging likely to catch many cli creds.\n",
    "query = f'''search in (Event, SecurityEvent) (\"--password\" or \"password=\" or \"_PASSWORD\" or \"PASSWORD_\" or \"credentials=\" or \"pin=\" or \"cvv=\" or \"hl7-org\") {query_common_args}\n",
    "| summarize count() by _SubscriptionId,$table,EventID\n",
    "| sort by count_ desc \n",
    "| limit {results_limit}'''\n",
    "df_sensitivedata = qry_prov.exec_query(query)\n",
    "df_sensitivedata.head(results_limit)"
   ]
  },
 ],
 "metadata": {
  "kernelspec": {
   "display_name": "Python 3 (ipykernel)",
   "language": "python",
   "name": "python3"
  },
  "language_info": {
   "codemirror_mode": {
    "name": "ipython",
    "version": 3
   },
   "file_extension": ".py",
   "mimetype": "text/x-python",
   "name": "python",
   "nbconvert_exporter": "python",
   "pygments_lexer": "ipython3",
   "version": "3.10.6"
  }
 },
 "nbformat": 4,
 "nbformat_minor": 5
}
