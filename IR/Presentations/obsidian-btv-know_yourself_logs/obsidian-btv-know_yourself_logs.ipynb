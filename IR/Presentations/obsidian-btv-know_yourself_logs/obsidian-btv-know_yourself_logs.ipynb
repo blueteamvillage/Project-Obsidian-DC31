{
 "cells": [
  {
   "cell_type": "markdown",
   "id": "a52ae18d-0b9d-49bb-96aa-6dca196b7fbc",
   "metadata": {
    "slideshow": {
     "slide_type": "skip"
    },
    "tags": []
   },
   "source": [
    "# Know yourself, Know your logs aka Baselining\n",
    "BTV Project Obsidian, 2023\n",
    "\n",
    "Author: juju43, https://blueteamvillage.org/programs/project-obsidian/ https://discord.gg/blueteamvillage\n",
    "<img align=\"right\" width=\"100\" height=\"100\" src=\"https://cfc.blueteamvillage.org/media/call-for-content-2021/img/20200622_BTVillage_logos_RGB_pos_hcOC7Qx.png\">"
   ]
  },
  {
   "cell_type": "markdown",
   "id": "37a02002-5ae8-435e-a68e-6c41d090693f",
   "metadata": {
    "slideshow": {
     "slide_type": "slide"
    },
    "tags": []
   },
   "source": [
    "![BTV Know yourself Know your logs title slide](BTV-Know_yourself_logs.png)"
   ]
  },
  {
   "cell_type": "markdown",
   "id": "3f5ad15d-b81a-4c8b-b2ae-861c56aeb385",
   "metadata": {
    "slideshow": {
     "slide_type": "skip"
    },
    "tags": []
   },
   "source": [
    "## FIXME!\n",
    "* `TypeError: int() argument must be a string, a bytes-like object or a real number, not 'NotImplementedError'` in /usr/local/lib/python3.10/dist-packages/msticpy/data/drivers/splunk_driver.py:168 + msticpy 2.5.2/2.5.0\n",
    "* 2.4.0 deprecation warning for some queries `/usr/local/lib/python3.10/dist-packages/msticpy/data/drivers/splunk_driver.py:234: DeprecationWarning: ResultsReader is a deprecated function. Use the JSONResultsReader function instead in conjuction with the 'output_mode' query param set to 'json'`"
   ]
  },
  {
   "cell_type": "markdown",
   "id": "78b50fb3-81c0-4159-a20e-e129a6e8abf3",
   "metadata": {
    "slideshow": {
     "slide_type": "slide"
    },
    "tags": []
   },
   "source": [
    "## Agenda\n",
    "\n",
    "* Why understanding your environment is Critical\n",
    "* Key Questions\n",
    "* Obsidian 2023 logs\n",
    "  * What is in the environment?\n",
    "  * What applications?\n",
    "  * What matters?"
   ]
  },
  {
   "cell_type": "markdown",
   "id": "8185e5c6-a527-4594-b7a0-a2b40a424796",
   "metadata": {
    "slideshow": {
     "slide_type": "slide"
    },
    "tags": []
   },
   "source": [
    "## Introduction\n",
    "* At time of EDR, SIEM and logs may seem too complex and costly.\n",
    "* I believe it is still part of the permanent journey to protect an environment.\n",
    "* Most EDR are blind if exploitation at only application level (ex: MoveIt) or for PaaS (simply not existing).\n",
    "* Applications logs are usually not standardized and complex.\n",
    "* Many options: SIEM, data lake, buckets/storage..."
   ]
  },
  {
   "cell_type": "markdown",
   "id": "c5a975c8-c547-4aef-91ee-316cc17de66c",
   "metadata": {
    "slideshow": {
     "slide_type": "slide"
    },
    "tags": []
   },
   "source": [
    "## Why understanding your environment is Critical\n",
    "* And why it often goes through logs among other things, but not only.\n",
    "* Also documentation... which often is not loved.\n",
    "\n",
    "<div align=\"center\" style=\"font-weight: bold\">\n",
    "Relentlessy documenting your environment is critical.<br />\n",
    "Share knowledge and ensure no single point of failure.\n",
    "</div>\n"
   ]
  },
  {
   "cell_type": "markdown",
   "id": "7a45c052-b6db-43b8-ab19-3f93b3e5ff8e",
   "metadata": {
    "slideshow": {
     "slide_type": "slide"
    },
    "tags": []
   },
   "source": [
    "## Key questions\n",
    "* What happens in my environment\n",
    "* What's normal\n",
    "* What's abnormal\n",
    "* How I would know"
   ]
  },
  {
   "cell_type": "markdown",
   "id": "dae07f65-b596-41b3-84fa-1e3028409026",
   "metadata": {
    "slideshow": {
     "slide_type": "slide"
    },
    "tags": []
   },
   "source": [
    "## Obsidian 2023 logs"
   ]
  },
  {
   "cell_type": "markdown",
   "id": "c8f43cee-e575-4f78-903d-29d1b8b7a304",
   "metadata": {
    "slideshow": {
     "slide_type": "skip"
    },
    "tags": []
   },
   "source": [
    "### Code initialization"
   ]
  },
  {
   "cell_type": "code",
   "execution_count": 1,
   "id": "16f803fa-9b74-43a6-a996-c24eacfa18d2",
   "metadata": {
    "slideshow": {
     "slide_type": "skip"
    },
    "tags": []
   },
   "outputs": [],
   "source": [
    "# Check we are running Python 3.6\n",
    "import sys\n",
    "\n",
    "MIN_REQ_PYTHON = (3, 6)\n",
    "if sys.version_info < MIN_REQ_PYTHON:\n",
    "    print(\"Check the Kernel->Change Kernel menu and ensure that Python 3.6\")\n",
    "    print(\"or later is selected as the active kernel.\")\n",
    "    sys.exit(\"Python %s.%s or later is required.\\n\" % MIN_REQ_PYTHON)"
   ]
  },
  {
   "cell_type": "code",
   "execution_count": 2,
   "id": "32547404-4e6e-4ae7-9bd4-30c529057a12",
   "metadata": {
    "slideshow": {
     "slide_type": "skip"
    },
    "tags": []
   },
   "outputs": [],
   "source": [
    "# Imports\n",
    "import pandas as pd\n",
    "import msticpy.nbtools as nbtools\n",
    "from datetime import datetime, timedelta\n",
    "import os"
   ]
  },
  {
   "cell_type": "code",
   "execution_count": 3,
   "id": "2aa9719b-8bee-4a4f-890f-4d52310262cd",
   "metadata": {
    "slideshow": {
     "slide_type": "skip"
    },
    "tags": []
   },
   "outputs": [
    {
     "name": "stdout",
     "output_type": "stream",
     "text": [
      "Imports Complete\n"
     ]
    }
   ],
   "source": [
    "# path to config file\n",
    "os.environ[\"MSTICPYCONFIG\"] = \"/home/ubuntu/msticpyconfig.yaml\"\n",
    "from msticpy.nbtools import *\n",
    "from msticpy.data.data_providers import QueryProvider\n",
    "from msticpy.common.wsconfig import WorkspaceConfig\n",
    "from msticpy.nbtools.data_viewer import DataViewer\n",
    "from msticpy.vis.matrix_plot import plot_matrix\n",
    "from msticpy.nbtools import process_tree as ptree\n",
    "from msticpy.context.geoip import GeoLiteLookup, IPStackLookup\n",
    "\n",
    "print(\"Imports Complete\")"
   ]
  },
  {
   "cell_type": "code",
   "execution_count": 4,
   "id": "5c75c9a5-c82a-488d-92be-de095ad5e1ec",
   "metadata": {
    "slideshow": {
     "slide_type": "skip"
    },
    "tags": []
   },
   "outputs": [
    {
     "data": {
      "application/vnd.jupyter.widget-view+json": {
       "model_id": "2b42c1a0f5aa4e6ca4c6929612ec073a",
       "version_major": 2,
       "version_minor": 0
      },
      "text/plain": [
       "VBox(children=(HTML(value='<h3>MSTICPy settings</h3>'), VBox(children=(VBox(children=(Label(value='Operations'…"
      ]
     },
     "metadata": {},
     "output_type": "display_data"
    }
   ],
   "source": [
    "# Interactive settings edit\n",
    "# https://msticpy.readthedocs.io/en/latest/getting_started/SettingsEditor.html#using-mpconfigfile-to-check-and-manage-your-msticpyconfig-yaml\n",
    "from msticpy.config import MpConfigFile, MpConfigEdit, MpConfigControls\n",
    "\n",
    "mpconfig = MpConfigFile()\n",
    "# mpconfig.load_default()\n",
    "# mpconfig.view_settings()\n",
    "mpconfig"
   ]
  },
  {
   "cell_type": "code",
   "execution_count": 5,
   "id": "edc7a8de-549e-41cc-88bb-6bb4c58dfc1c",
   "metadata": {
    "slideshow": {
     "slide_type": "skip"
    },
    "tags": []
   },
   "outputs": [
    {
     "data": {
      "application/vnd.jupyter.widget-view+json": {
       "model_id": "c4ef0884665940ed8887809ac7ef352e",
       "version_major": 2,
       "version_minor": 0
      },
      "text/plain": [
       "VBox(children=(HTML(value='<h4>Set query time boundaries</h4>'), HBox(children=(DatePicker(value=datetime.date…"
      ]
     },
     "metadata": {},
     "output_type": "display_data"
    }
   ],
   "source": [
    "# q_times = nbwidgets.QueryTime(units='hours', max_before=72, before=1, max_after=0)\n",
    "q_times = nbwidgets.QueryTime(\n",
    "    origin_time=datetime(2023, 4, 29), units=\"days\", max_before=3, before=1, max_after=0\n",
    ")\n",
    "\n",
    "q_times.display()"
   ]
  },
  {
   "cell_type": "code",
   "execution_count": 6,
   "id": "96e3009a-502c-4d43-bcb7-88e99ed9da21",
   "metadata": {
    "slideshow": {
     "slide_type": "skip"
    },
    "tags": []
   },
   "outputs": [],
   "source": [
    "# Ensure to use appropriate filters\n",
    "query_common_args = '''earliest=\"04/29/2023:01:00:00\" latest=\"04/29/2023:23:00:00\"'''\n",
    "results_limit = 10"
   ]
  },
  {
   "cell_type": "code",
   "execution_count": 7,
   "id": "1269c7d2-353f-41eb-8586-19d8def2a9b2",
   "metadata": {
    "slideshow": {
     "slide_type": "skip"
    },
    "tags": []
   },
   "outputs": [],
   "source": [
    "query_common_args = query_common_args.strip()"
   ]
  },
  {
   "cell_type": "code",
   "execution_count": 8,
   "id": "0e624bae-6a7c-44cd-8a56-1c1dc861cbfe",
   "metadata": {
    "slideshow": {
     "slide_type": "skip"
    },
    "tags": []
   },
   "outputs": [
    {
     "name": "stdout",
     "output_type": "stream",
     "text": [
      "connected\n"
     ]
    }
   ],
   "source": [
    "# Configuration\n",
    "# if free splunk,\n",
    "#  * enable the 'allowRemoteLogin' setting in your server.conf file - /opt/splunk/etc/system/local/server.conf\n",
    "qry_prov = QueryProvider(\"Splunk\")\n",
    "qry_prov.connect()"
   ]
  },
  {
   "cell_type": "code",
   "execution_count": 9,
   "id": "a4d05913-b1e9-44bf-a0a9-1d361d7cfed8",
   "metadata": {
    "slideshow": {
     "slide_type": "skip"
    },
    "tags": []
   },
   "outputs": [],
   "source": [
    "# pandas\n",
    "pd.set_option(\"display.max_colwidth\", 500)"
   ]
  },
  {
   "cell_type": "markdown",
   "id": "1e138f37-825f-473c-a776-594f64571dfe",
   "metadata": {
    "slideshow": {
     "slide_type": "slide"
    },
    "tags": []
   },
   "source": [
    "### What is in the environment?\n",
    "* Linux\n",
    "* Windows\n",
    "* Others"
   ]
  },
  {
   "cell_type": "code",
   "execution_count": 10,
   "id": "7f99dc0d-9962-47c0-8b07-2b1dc3bf622b",
   "metadata": {
    "slideshow": {
     "slide_type": "subslide"
    },
    "tags": []
   },
   "outputs": [
    {
     "name": "stderr",
     "output_type": "stream",
     "text": [
      "Waiting Splunk job to complete: 100%|██████████| 100.0/100 [00:01<00:00, 97.00it/s]\n"
     ]
    },
    {
     "data": {
      "text/html": [
       "<div>\n",
       "<style scoped>\n",
       "    .dataframe tbody tr th:only-of-type {\n",
       "        vertical-align: middle;\n",
       "    }\n",
       "\n",
       "    .dataframe tbody tr th {\n",
       "        vertical-align: top;\n",
       "    }\n",
       "\n",
       "    .dataframe thead th {\n",
       "        text-align: right;\n",
       "    }\n",
       "</style>\n",
       "<table border=\"1\" class=\"dataframe\">\n",
       "  <thead>\n",
       "    <tr style=\"text-align: right;\">\n",
       "      <th></th>\n",
       "      <th>index</th>\n",
       "      <th>count</th>\n",
       "    </tr>\n",
       "  </thead>\n",
       "  <tbody>\n",
       "    <tr>\n",
       "      <th>0</th>\n",
       "      <td>_audit</td>\n",
       "      <td>59357</td>\n",
       "    </tr>\n",
       "    <tr>\n",
       "      <th>1</th>\n",
       "      <td>_telemetry</td>\n",
       "      <td>9</td>\n",
       "    </tr>\n",
       "    <tr>\n",
       "      <th>2</th>\n",
       "      <td>linux</td>\n",
       "      <td>517912</td>\n",
       "    </tr>\n",
       "    <tr>\n",
       "      <th>3</th>\n",
       "      <td>main</td>\n",
       "      <td>258365</td>\n",
       "    </tr>\n",
       "    <tr>\n",
       "      <th>4</th>\n",
       "      <td>nginx</td>\n",
       "      <td>2</td>\n",
       "    </tr>\n",
       "    <tr>\n",
       "      <th>5</th>\n",
       "      <td>osquery</td>\n",
       "      <td>7728</td>\n",
       "    </tr>\n",
       "    <tr>\n",
       "      <th>6</th>\n",
       "      <td>sysmon</td>\n",
       "      <td>108442</td>\n",
       "    </tr>\n",
       "    <tr>\n",
       "      <th>7</th>\n",
       "      <td>sysmonforlinux</td>\n",
       "      <td>74236</td>\n",
       "    </tr>\n",
       "    <tr>\n",
       "      <th>8</th>\n",
       "      <td>windows</td>\n",
       "      <td>15413</td>\n",
       "    </tr>\n",
       "  </tbody>\n",
       "</table>\n",
       "</div>"
      ],
      "text/plain": [
       "            index   count\n",
       "0          _audit   59357\n",
       "1      _telemetry       9\n",
       "2           linux  517912\n",
       "3            main  258365\n",
       "4           nginx       2\n",
       "5         osquery    7728\n",
       "6          sysmon  108442\n",
       "7  sysmonforlinux   74236\n",
       "8         windows   15413"
      ]
     },
     "execution_count": 10,
     "metadata": {},
     "output_type": "execute_result"
    }
   ],
   "source": [
    "query = f\"\"\"| tstats count WHERE ((index=* OR index=_*) {query_common_args}) BY index\n",
    "\"\"\"\n",
    "df_index = qry_prov.exec_query(query)\n",
    "df_index.head(results_limit)"
   ]
  },
  {
   "cell_type": "code",
   "execution_count": 11,
   "id": "d1b47678-1203-4734-b0bc-8691e482670b",
   "metadata": {
    "slideshow": {
     "slide_type": "subslide"
    },
    "tags": []
   },
   "outputs": [
    {
     "name": "stderr",
     "output_type": "stream",
     "text": [
      "Waiting Splunk job to complete: 100%|██████████| 100.0/100 [00:01<00:00, 95.41it/s]\n",
      "/usr/local/lib/python3.10/dist-packages/msticpy/data/drivers/splunk_driver.py:234: DeprecationWarning: ResultsReader is a deprecated function. Use the JSONResultsReader function instead in conjuction with the 'output_mode' query param set to 'json'\n",
      "  reader = sp_results.ResultsReader(query_job.results())\n"
     ]
    },
    {
     "data": {
      "text/html": [
       "<div>\n",
       "<style scoped>\n",
       "    .dataframe tbody tr th:only-of-type {\n",
       "        vertical-align: middle;\n",
       "    }\n",
       "\n",
       "    .dataframe tbody tr th {\n",
       "        vertical-align: top;\n",
       "    }\n",
       "\n",
       "    .dataframe thead th {\n",
       "        text-align: right;\n",
       "    }\n",
       "</style>\n",
       "<table border=\"1\" class=\"dataframe\">\n",
       "  <thead>\n",
       "    <tr style=\"text-align: right;\">\n",
       "      <th></th>\n",
       "      <th>index</th>\n",
       "      <th>host</th>\n",
       "      <th>source</th>\n",
       "      <th>sourcetype</th>\n",
       "      <th>last_seen</th>\n",
       "      <th>first_seen</th>\n",
       "    </tr>\n",
       "  </thead>\n",
       "  <tbody>\n",
       "    <tr>\n",
       "      <th>0</th>\n",
       "      <td>linux</td>\n",
       "      <td>ip-172-16-40-100</td>\n",
       "      <td>linux</td>\n",
       "      <td>filebeat</td>\n",
       "      <td>04/29/2023 22:59:52</td>\n",
       "      <td>04/29/2023 17:46:12</td>\n",
       "    </tr>\n",
       "    <tr>\n",
       "      <th>1</th>\n",
       "      <td>linux</td>\n",
       "      <td>ip-172-16-50-101</td>\n",
       "      <td>linux</td>\n",
       "      <td>filebeat</td>\n",
       "      <td>04/29/2023 22:34:12</td>\n",
       "      <td>04/29/2023 17:46:41</td>\n",
       "    </tr>\n",
       "    <tr>\n",
       "      <th>2</th>\n",
       "      <td>linux</td>\n",
       "      <td>ip-172-16-60-11</td>\n",
       "      <td>linux</td>\n",
       "      <td>filebeat</td>\n",
       "      <td>04/29/2023 22:34:34</td>\n",
       "      <td>04/29/2023 17:46:24</td>\n",
       "    </tr>\n",
       "    <tr>\n",
       "      <th>3</th>\n",
       "      <td>linux</td>\n",
       "      <td>ip-172-16-60-12</td>\n",
       "      <td>linux</td>\n",
       "      <td>filebeat</td>\n",
       "      <td>04/29/2023 22:34:24</td>\n",
       "      <td>04/29/2023 17:46:28</td>\n",
       "    </tr>\n",
       "    <tr>\n",
       "      <th>4</th>\n",
       "      <td>linux</td>\n",
       "      <td>ip-172-16-60-13</td>\n",
       "      <td>linux</td>\n",
       "      <td>filebeat</td>\n",
       "      <td>04/29/2023 22:34:33</td>\n",
       "      <td>04/29/2023 17:46:20</td>\n",
       "    </tr>\n",
       "    <tr>\n",
       "      <th>...</th>\n",
       "      <td>...</td>\n",
       "      <td>...</td>\n",
       "      <td>...</td>\n",
       "      <td>...</td>\n",
       "      <td>...</td>\n",
       "      <td>...</td>\n",
       "    </tr>\n",
       "    <tr>\n",
       "      <th>87</th>\n",
       "      <td>windows</td>\n",
       "      <td>wkst16.magnumtempus.financial</td>\n",
       "      <td>windows</td>\n",
       "      <td>winlogbeat</td>\n",
       "      <td>04/29/2023 22:55:29</td>\n",
       "      <td>04/29/2023 17:52:30</td>\n",
       "    </tr>\n",
       "    <tr>\n",
       "      <th>88</th>\n",
       "      <td>windows</td>\n",
       "      <td>wkst17.magnumtempus.financial</td>\n",
       "      <td>windows</td>\n",
       "      <td>winlogbeat</td>\n",
       "      <td>04/29/2023 22:34:42</td>\n",
       "      <td>04/29/2023 17:51:46</td>\n",
       "    </tr>\n",
       "    <tr>\n",
       "      <th>89</th>\n",
       "      <td>windows</td>\n",
       "      <td>wkst18.magnumtempus.financial</td>\n",
       "      <td>windows</td>\n",
       "      <td>winlogbeat</td>\n",
       "      <td>04/29/2023 22:34:46</td>\n",
       "      <td>04/29/2023 17:52:26</td>\n",
       "    </tr>\n",
       "    <tr>\n",
       "      <th>90</th>\n",
       "      <td>windows</td>\n",
       "      <td>wkst19.magnumtempus.financial</td>\n",
       "      <td>windows</td>\n",
       "      <td>winlogbeat</td>\n",
       "      <td>04/29/2023 22:34:47</td>\n",
       "      <td>04/29/2023 17:52:16</td>\n",
       "    </tr>\n",
       "    <tr>\n",
       "      <th>91</th>\n",
       "      <td>windows</td>\n",
       "      <td>wkst20.magnumtempus.financial</td>\n",
       "      <td>windows</td>\n",
       "      <td>winlogbeat</td>\n",
       "      <td>04/29/2023 22:34:44</td>\n",
       "      <td>04/29/2023 17:52:25</td>\n",
       "    </tr>\n",
       "  </tbody>\n",
       "</table>\n",
       "<p>92 rows × 6 columns</p>\n",
       "</div>"
      ],
      "text/plain": [
       "      index                           host   source  sourcetype  \\\n",
       "0     linux               ip-172-16-40-100    linux    filebeat   \n",
       "1     linux               ip-172-16-50-101    linux    filebeat   \n",
       "2     linux                ip-172-16-60-11    linux    filebeat   \n",
       "3     linux                ip-172-16-60-12    linux    filebeat   \n",
       "4     linux                ip-172-16-60-13    linux    filebeat   \n",
       "..      ...                            ...      ...         ...   \n",
       "87  windows  wkst16.magnumtempus.financial  windows  winlogbeat   \n",
       "88  windows  wkst17.magnumtempus.financial  windows  winlogbeat   \n",
       "89  windows  wkst18.magnumtempus.financial  windows  winlogbeat   \n",
       "90  windows  wkst19.magnumtempus.financial  windows  winlogbeat   \n",
       "91  windows  wkst20.magnumtempus.financial  windows  winlogbeat   \n",
       "\n",
       "              last_seen           first_seen  \n",
       "0   04/29/2023 22:59:52  04/29/2023 17:46:12  \n",
       "1   04/29/2023 22:34:12  04/29/2023 17:46:41  \n",
       "2   04/29/2023 22:34:34  04/29/2023 17:46:24  \n",
       "3   04/29/2023 22:34:24  04/29/2023 17:46:28  \n",
       "4   04/29/2023 22:34:33  04/29/2023 17:46:20  \n",
       "..                  ...                  ...  \n",
       "87  04/29/2023 22:55:29  04/29/2023 17:52:30  \n",
       "88  04/29/2023 22:34:42  04/29/2023 17:51:46  \n",
       "89  04/29/2023 22:34:46  04/29/2023 17:52:26  \n",
       "90  04/29/2023 22:34:47  04/29/2023 17:52:16  \n",
       "91  04/29/2023 22:34:44  04/29/2023 17:52:25  \n",
       "\n",
       "[92 rows x 6 columns]"
      ]
     },
     "execution_count": 11,
     "metadata": {},
     "output_type": "execute_result"
    }
   ],
   "source": [
    "query = f\"\"\"| tstats latest(_time) as last_seen, earliest(_time) as first_seen where (index=* {query_common_args}) by index host source sourcetype | convert ctime(last_seen), ctime(first_seen)\n",
    "\"\"\"\n",
    "df_timeperiod = qry_prov.exec_query(query)\n",
    "# df_timeperiod.head(results_limit)\n",
    "df_timeperiod"
   ]
  },
  {
   "cell_type": "code",
   "execution_count": 12,
   "id": "aa695f9f-1c68-4e22-b54d-d52dacde8479",
   "metadata": {
    "slideshow": {
     "slide_type": "subslide"
    },
    "tags": []
   },
   "outputs": [
    {
     "name": "stderr",
     "output_type": "stream",
     "text": [
      "Waiting Splunk job to complete: 100%|██████████| 100.0/100 [00:01<00:00, 95.94it/s]\n",
      "/usr/local/lib/python3.10/dist-packages/msticpy/data/drivers/splunk_driver.py:234: DeprecationWarning: ResultsReader is a deprecated function. Use the JSONResultsReader function instead in conjuction with the 'output_mode' query param set to 'json'\n",
      "  reader = sp_results.ResultsReader(query_job.results())\n"
     ]
    },
    {
     "data": {
      "text/html": [
       "<div>\n",
       "<style scoped>\n",
       "    .dataframe tbody tr th:only-of-type {\n",
       "        vertical-align: middle;\n",
       "    }\n",
       "\n",
       "    .dataframe tbody tr th {\n",
       "        vertical-align: top;\n",
       "    }\n",
       "\n",
       "    .dataframe thead th {\n",
       "        text-align: right;\n",
       "    }\n",
       "</style>\n",
       "<table border=\"1\" class=\"dataframe\">\n",
       "  <thead>\n",
       "    <tr style=\"text-align: right;\">\n",
       "      <th></th>\n",
       "      <th>host</th>\n",
       "      <th>indexes</th>\n",
       "    </tr>\n",
       "  </thead>\n",
       "  <tbody>\n",
       "    <tr>\n",
       "      <th>0</th>\n",
       "      <td>WKST13</td>\n",
       "      <td>windows</td>\n",
       "    </tr>\n",
       "    <tr>\n",
       "      <th>1</th>\n",
       "      <td>dc.magnumtempus.financial</td>\n",
       "      <td>[sysmon, windows]</td>\n",
       "    </tr>\n",
       "    <tr>\n",
       "      <th>2</th>\n",
       "      <td>hmail</td>\n",
       "      <td>[sysmon, windows]</td>\n",
       "    </tr>\n",
       "    <tr>\n",
       "      <th>3</th>\n",
       "      <td>hmialpha</td>\n",
       "      <td>sysmon</td>\n",
       "    </tr>\n",
       "    <tr>\n",
       "      <th>4</th>\n",
       "      <td>hmibeta</td>\n",
       "      <td>sysmon</td>\n",
       "    </tr>\n",
       "    <tr>\n",
       "      <th>5</th>\n",
       "      <td>hmicharlie</td>\n",
       "      <td>[sysmon, windows]</td>\n",
       "    </tr>\n",
       "    <tr>\n",
       "      <th>6</th>\n",
       "      <td>hmidelta</td>\n",
       "      <td>sysmon</td>\n",
       "    </tr>\n",
       "    <tr>\n",
       "      <th>7</th>\n",
       "      <td>iot-eng-wkst.magnumtempus.financial</td>\n",
       "      <td>[sysmon, windows]</td>\n",
       "    </tr>\n",
       "    <tr>\n",
       "      <th>8</th>\n",
       "      <td>iot-jumpbox</td>\n",
       "      <td>[sysmon, windows]</td>\n",
       "    </tr>\n",
       "    <tr>\n",
       "      <th>9</th>\n",
       "      <td>ip-172-16-22-10</td>\n",
       "      <td>main</td>\n",
       "    </tr>\n",
       "  </tbody>\n",
       "</table>\n",
       "</div>"
      ],
      "text/plain": [
       "                                  host            indexes\n",
       "0                               WKST13            windows\n",
       "1            dc.magnumtempus.financial  [sysmon, windows]\n",
       "2                                hmail  [sysmon, windows]\n",
       "3                             hmialpha             sysmon\n",
       "4                              hmibeta             sysmon\n",
       "5                           hmicharlie  [sysmon, windows]\n",
       "6                             hmidelta             sysmon\n",
       "7  iot-eng-wkst.magnumtempus.financial  [sysmon, windows]\n",
       "8                          iot-jumpbox  [sysmon, windows]\n",
       "9                      ip-172-16-22-10               main"
      ]
     },
     "execution_count": 12,
     "metadata": {},
     "output_type": "execute_result"
    }
   ],
   "source": [
    "query = f\"\"\"| tstats count WHERE ((index=*) {query_common_args}) BY index, host\n",
    "| stats values(index) as indexes by host\n",
    "\"\"\"\n",
    "df_assets = qry_prov.exec_query(query)\n",
    "df_assets.head(results_limit)"
   ]
  },
  {
   "cell_type": "markdown",
   "id": "7f264c5f-41e7-4ce5-9289-e99ca1971ecf",
   "metadata": {
    "slideshow": {
     "slide_type": "slide"
    },
    "tags": []
   },
   "source": [
    "### What applications?\n",
    "* Linux ProcessName\n",
    "* Windows Event Channel or Source"
   ]
  },
  {
   "cell_type": "code",
   "execution_count": 14,
   "id": "7a7af699-41be-4baa-8d2b-83fbffc35560",
   "metadata": {
    "slideshow": {
     "slide_type": "subslide"
    },
    "tags": []
   },
   "outputs": [
    {
     "name": "stderr",
     "output_type": "stream",
     "text": [
      "Waiting Splunk job to complete: 384.692it [00:06, 62.43it/s]                       \n",
      "/usr/local/lib/python3.10/dist-packages/msticpy/data/drivers/splunk_driver.py:234: DeprecationWarning: ResultsReader is a deprecated function. Use the JSONResultsReader function instead in conjuction with the 'output_mode' query param set to 'json'\n",
      "  reader = sp_results.ResultsReader(query_job.results())\n"
     ]
    },
    {
     "data": {
      "text/html": [
       "<div>\n",
       "<style scoped>\n",
       "    .dataframe tbody tr th:only-of-type {\n",
       "        vertical-align: middle;\n",
       "    }\n",
       "\n",
       "    .dataframe tbody tr th {\n",
       "        vertical-align: top;\n",
       "    }\n",
       "\n",
       "    .dataframe thead th {\n",
       "        text-align: right;\n",
       "    }\n",
       "</style>\n",
       "<table border=\"1\" class=\"dataframe\">\n",
       "  <thead>\n",
       "    <tr style=\"text-align: right;\">\n",
       "      <th></th>\n",
       "      <th>journald.process.name</th>\n",
       "      <th>count</th>\n",
       "    </tr>\n",
       "  </thead>\n",
       "  <tbody>\n",
       "    <tr>\n",
       "      <th>0</th>\n",
       "      <td>(systemd)</td>\n",
       "      <td>3</td>\n",
       "    </tr>\n",
       "    <tr>\n",
       "      <th>1</th>\n",
       "      <td>chronyd</td>\n",
       "      <td>7</td>\n",
       "    </tr>\n",
       "    <tr>\n",
       "      <th>2</th>\n",
       "      <td>cron</td>\n",
       "      <td>28</td>\n",
       "    </tr>\n",
       "    <tr>\n",
       "      <th>3</th>\n",
       "      <td>dbus-daemon</td>\n",
       "      <td>1</td>\n",
       "    </tr>\n",
       "    <tr>\n",
       "      <th>4</th>\n",
       "      <td>filebeat</td>\n",
       "      <td>4476</td>\n",
       "    </tr>\n",
       "    <tr>\n",
       "      <th>5</th>\n",
       "      <td>java</td>\n",
       "      <td>95</td>\n",
       "    </tr>\n",
       "    <tr>\n",
       "      <th>6</th>\n",
       "      <td>multipathd</td>\n",
       "      <td>5</td>\n",
       "    </tr>\n",
       "    <tr>\n",
       "      <th>7</th>\n",
       "      <td>openplc</td>\n",
       "      <td>230182</td>\n",
       "    </tr>\n",
       "    <tr>\n",
       "      <th>8</th>\n",
       "      <td>osqueryd</td>\n",
       "      <td>19</td>\n",
       "    </tr>\n",
       "    <tr>\n",
       "      <th>9</th>\n",
       "      <td>packagekitd</td>\n",
       "      <td>1</td>\n",
       "    </tr>\n",
       "  </tbody>\n",
       "</table>\n",
       "</div>"
      ],
      "text/plain": [
       "  journald.process.name   count\n",
       "0             (systemd)       3\n",
       "1               chronyd       7\n",
       "2                  cron      28\n",
       "3           dbus-daemon       1\n",
       "4              filebeat    4476\n",
       "5                  java      95\n",
       "6            multipathd       5\n",
       "7               openplc  230182\n",
       "8              osqueryd      19\n",
       "9           packagekitd       1"
      ]
     },
     "execution_count": 14,
     "metadata": {},
     "output_type": "execute_result"
    }
   ],
   "source": [
    "# process name extracted only for journald collection, not for log file with default filebeat. as such, results may be incomplete\n",
    "query = f\"\"\"search index=linux {query_common_args}\n",
    "| stats count by journald.process.name\n",
    "\"\"\"\n",
    "df_linux_apps = qry_prov.exec_query(query)\n",
    "df_linux_apps.head(results_limit)"
   ]
  },
  {
   "cell_type": "code",
   "execution_count": 16,
   "id": "dd792891-bca5-407b-b5e4-7b071df5df8a",
   "metadata": {
    "slideshow": {
     "slide_type": "subslide"
    },
    "tags": []
   },
   "outputs": [
    {
     "name": "stderr",
     "output_type": "stream",
     "text": [
      "Waiting Splunk job to complete: 100%|██████████| 100.0/100 [00:01<00:00, 96.95it/s]\n",
      "/usr/local/lib/python3.10/dist-packages/msticpy/data/drivers/splunk_driver.py:234: DeprecationWarning: ResultsReader is a deprecated function. Use the JSONResultsReader function instead in conjuction with the 'output_mode' query param set to 'json'\n",
      "  reader = sp_results.ResultsReader(query_job.results())\n"
     ]
    },
    {
     "data": {
      "text/html": [
       "<div>\n",
       "<style scoped>\n",
       "    .dataframe tbody tr th:only-of-type {\n",
       "        vertical-align: middle;\n",
       "    }\n",
       "\n",
       "    .dataframe tbody tr th {\n",
       "        vertical-align: top;\n",
       "    }\n",
       "\n",
       "    .dataframe thead th {\n",
       "        text-align: right;\n",
       "    }\n",
       "</style>\n",
       "<table border=\"1\" class=\"dataframe\">\n",
       "  <thead>\n",
       "    <tr style=\"text-align: right;\">\n",
       "      <th></th>\n",
       "      <th>winlog.provider_name</th>\n",
       "      <th>winlog.channel</th>\n",
       "      <th>count</th>\n",
       "    </tr>\n",
       "  </thead>\n",
       "  <tbody>\n",
       "    <tr>\n",
       "      <th>0</th>\n",
       "      <td>Desktop Window Manager</td>\n",
       "      <td>Application</td>\n",
       "      <td>68</td>\n",
       "    </tr>\n",
       "    <tr>\n",
       "      <th>1</th>\n",
       "      <td>EventLog</td>\n",
       "      <td>System</td>\n",
       "      <td>1</td>\n",
       "    </tr>\n",
       "    <tr>\n",
       "      <th>2</th>\n",
       "      <td>LsaSrv</td>\n",
       "      <td>System</td>\n",
       "      <td>1</td>\n",
       "    </tr>\n",
       "    <tr>\n",
       "      <th>3</th>\n",
       "      <td>Microsoft-Windows-CAPI2</td>\n",
       "      <td>Application</td>\n",
       "      <td>6</td>\n",
       "    </tr>\n",
       "    <tr>\n",
       "      <th>4</th>\n",
       "      <td>Microsoft-Windows-DHCPv6-Client</td>\n",
       "      <td>System</td>\n",
       "      <td>2</td>\n",
       "    </tr>\n",
       "    <tr>\n",
       "      <th>5</th>\n",
       "      <td>Microsoft-Windows-DNS-Client</td>\n",
       "      <td>System</td>\n",
       "      <td>1</td>\n",
       "    </tr>\n",
       "    <tr>\n",
       "      <th>6</th>\n",
       "      <td>Microsoft-Windows-Dhcp-Client</td>\n",
       "      <td>System</td>\n",
       "      <td>4</td>\n",
       "    </tr>\n",
       "    <tr>\n",
       "      <th>7</th>\n",
       "      <td>Microsoft-Windows-DistributedCOM</td>\n",
       "      <td>System</td>\n",
       "      <td>64</td>\n",
       "    </tr>\n",
       "    <tr>\n",
       "      <th>8</th>\n",
       "      <td>Microsoft-Windows-DriverFrameworks-UserMode</td>\n",
       "      <td>System</td>\n",
       "      <td>2</td>\n",
       "    </tr>\n",
       "    <tr>\n",
       "      <th>9</th>\n",
       "      <td>Microsoft-Windows-Eventlog</td>\n",
       "      <td>Security</td>\n",
       "      <td>1</td>\n",
       "    </tr>\n",
       "  </tbody>\n",
       "</table>\n",
       "</div>"
      ],
      "text/plain": [
       "                          winlog.provider_name winlog.channel count\n",
       "0                       Desktop Window Manager    Application    68\n",
       "1                                     EventLog         System     1\n",
       "2                                       LsaSrv         System     1\n",
       "3                      Microsoft-Windows-CAPI2    Application     6\n",
       "4              Microsoft-Windows-DHCPv6-Client         System     2\n",
       "5                 Microsoft-Windows-DNS-Client         System     1\n",
       "6                Microsoft-Windows-Dhcp-Client         System     4\n",
       "7             Microsoft-Windows-DistributedCOM         System    64\n",
       "8  Microsoft-Windows-DriverFrameworks-UserMode         System     2\n",
       "9                   Microsoft-Windows-Eventlog       Security     1"
      ]
     },
     "execution_count": 16,
     "metadata": {},
     "output_type": "execute_result"
    }
   ],
   "source": [
    "query = f\"\"\"search index=windows {query_common_args}\n",
    "| stats count by winlog.provider_name,winlog.channel\n",
    "\"\"\"\n",
    "df_win_apps = qry_prov.exec_query(query)\n",
    "df_win_apps.head(results_limit)"
   ]
  },
  {
   "cell_type": "markdown",
   "id": "05cdd40c-2572-4518-bb3d-a1cef9a52c82",
   "metadata": {
    "slideshow": {
     "slide_type": "slide"
    },
    "tags": []
   },
   "source": [
    "### Log Level?\n",
    "* Some logs have a categorization\n",
    "  * critical, error, warning, information, debug...\n",
    "  * authentication, data dump/takeout/download, privileged/administrative activities, security..."
   ]
  },
  {
   "cell_type": "code",
   "execution_count": 19,
   "id": "7203d243-7de9-4402-ae68-6b8b9ec0fd2d",
   "metadata": {
    "slideshow": {
     "slide_type": "subslide"
    },
    "tags": []
   },
   "outputs": [
    {
     "name": "stderr",
     "output_type": "stream",
     "text": [
      "Waiting Splunk job to complete: 100%|██████████| 100.0/100 [00:01<00:00, 93.75it/s]\n",
      "/usr/local/lib/python3.10/dist-packages/msticpy/data/drivers/splunk_driver.py:234: DeprecationWarning: ResultsReader is a deprecated function. Use the JSONResultsReader function instead in conjuction with the 'output_mode' query param set to 'json'\n",
      "  reader = sp_results.ResultsReader(query_job.results())\n"
     ]
    },
    {
     "data": {
      "text/html": [
       "<div>\n",
       "<style scoped>\n",
       "    .dataframe tbody tr th:only-of-type {\n",
       "        vertical-align: middle;\n",
       "    }\n",
       "\n",
       "    .dataframe tbody tr th {\n",
       "        vertical-align: top;\n",
       "    }\n",
       "\n",
       "    .dataframe thead th {\n",
       "        text-align: right;\n",
       "    }\n",
       "</style>\n",
       "<table border=\"1\" class=\"dataframe\">\n",
       "  <thead>\n",
       "    <tr style=\"text-align: right;\">\n",
       "      <th></th>\n",
       "      <th>event.code</th>\n",
       "      <th>event.provider</th>\n",
       "      <th>message</th>\n",
       "      <th>count</th>\n",
       "    </tr>\n",
       "  </thead>\n",
       "  <tbody>\n",
       "    <tr>\n",
       "      <th>0</th>\n",
       "      <td>10010</td>\n",
       "      <td>Microsoft-Windows-DistributedCOM</td>\n",
       "      <td>The server {AB8902B4-09CA-4BB6-B78D-A8F59079A8D5} did not register with DCOM within the required timeout.</td>\n",
       "      <td>92</td>\n",
       "    </tr>\n",
       "    <tr>\n",
       "      <th>1</th>\n",
       "      <td>10010</td>\n",
       "      <td>Microsoft-Windows-DistributedCOM</td>\n",
       "      <td>The server {AAC1009F-AB33-48F9-9A21-7F5B88426A2E} did not register with DCOM within the required timeout.</td>\n",
       "      <td>20</td>\n",
       "    </tr>\n",
       "    <tr>\n",
       "      <th>2</th>\n",
       "      <td>5858</td>\n",
       "      <td>Microsoft-Windows-WMI-Activity</td>\n",
       "      <td>Id = {00000000-0000-0000-0000-000000000000}; ClientMachine = WKST08; User = NT AUTHORITY\\NETWORK SERVICE; ClientProcessId = 4072; Component = Unknown; Operation = Start IWbemServices::DeleteInstance - Root\\Rsop : __Namespace.name=\"NSS_1_5_21_2369732838_3797832421_459094119_1129\"; ResultCode = 0x80041002; PossibleCause = Unknown</td>\n",
       "      <td>4</td>\n",
       "    </tr>\n",
       "    <tr>\n",
       "      <th>3</th>\n",
       "      <td>5858</td>\n",
       "      <td>Microsoft-Windows-WMI-Activity</td>\n",
       "      <td>Id = {00000000-0000-0000-0000-000000000000}; ClientMachine = IOT-ENG-WKST; User = MAGNUMTEMPUS\\seth.morgan; ClientProcessId = 7924; Component = Unknown; Operation = Start IWbemServices::ExecQuery - ROOT\\CIMV2 : SELECT HypervisorPresent FROM Win32_ComputerSystem; ResultCode = 0x80041032; PossibleCause = Unknown</td>\n",
       "      <td>2</td>\n",
       "    </tr>\n",
       "    <tr>\n",
       "      <th>4</th>\n",
       "      <td>5858</td>\n",
       "      <td>Microsoft-Windows-WMI-Activity</td>\n",
       "      <td>Id = {00000000-0000-0000-0000-000000000000}; ClientMachine = WKST02; User = NT AUTHORITY\\NETWORK SERVICE; ClientProcessId = 5000; Component = Unknown; Operation = Start IWbemServices::ExecQuery - ROOT\\CIMV2 : SELECT Manufacturer, Product FROM Win32_BaseBoard; ResultCode = 0x80041032; PossibleCause = Unknown</td>\n",
       "      <td>2</td>\n",
       "    </tr>\n",
       "    <tr>\n",
       "      <th>5</th>\n",
       "      <td>5858</td>\n",
       "      <td>Microsoft-Windows-WMI-Activity</td>\n",
       "      <td>Id = {00000000-0000-0000-0000-000000000000}; ClientMachine = WKST08; User = NT AUTHORITY\\SYSTEM; ClientProcessId = 6628; Component = Unknown; Operation = Start IWbemServices::ExecQuery - ROOT\\CIMV2 : SELECT * FROM Win32_OptionalFeature WHERE name = 'NetFX3'; ResultCode = 0x80041032; PossibleCause = Unknown</td>\n",
       "      <td>2</td>\n",
       "    </tr>\n",
       "    <tr>\n",
       "      <th>6</th>\n",
       "      <td>5858</td>\n",
       "      <td>Microsoft-Windows-WMI-Activity</td>\n",
       "      <td>Id = {00000000-0000-0000-0000-000000000000}; ClientMachine = WKST08; User = NT AUTHORITY\\SYSTEM; ClientProcessId = 6628; Component = Unknown; Operation = Start IWbemServices::ExecQuery - ROOT\\CIMV2 : SELECT * FROM Win32_OptionalFeature WHERE name = 'WAS-NetFxEnvironment'; ResultCode = 0x80041032; PossibleCause = Unknown</td>\n",
       "      <td>2</td>\n",
       "    </tr>\n",
       "    <tr>\n",
       "      <th>7</th>\n",
       "      <td>5858</td>\n",
       "      <td>Microsoft-Windows-WMI-Activity</td>\n",
       "      <td>Id = {00000000-0000-0000-0000-000000000000}; ClientMachine = WKST09; User = NT AUTHORITY\\NETWORK SERVICE; ClientProcessId = 10996; Component = Unknown; Operation = Start IWbemServices::ExecQuery - ROOT\\CIMV2 : SELECT Manufacturer, Product FROM Win32_BaseBoard; ResultCode = 0x80041032; PossibleCause = Unknown</td>\n",
       "      <td>2</td>\n",
       "    </tr>\n",
       "    <tr>\n",
       "      <th>8</th>\n",
       "      <td>5858</td>\n",
       "      <td>Microsoft-Windows-WMI-Activity</td>\n",
       "      <td>Id = {00000000-0000-0000-0000-000000000000}; ClientMachine = WKST09; User = NT AUTHORITY\\NETWORK SERVICE; ClientProcessId = 7524; Component = Unknown; Operation = Start IWbemServices::ExecQuery - ROOT\\CIMV2 : SELECT Manufacturer, Product FROM Win32_BaseBoard; ResultCode = 0x80041032; PossibleCause = Unknown</td>\n",
       "      <td>2</td>\n",
       "    </tr>\n",
       "    <tr>\n",
       "      <th>9</th>\n",
       "      <td>5858</td>\n",
       "      <td>Microsoft-Windows-WMI-Activity</td>\n",
       "      <td>Id = {00000000-0000-0000-0000-000000000000}; ClientMachine = WKST10; User = MAGNUMTEMPUS\\reese.juvo; ClientProcessId = 5436; Component = Unknown; Operation = Start IWbemServices::ExecQuery - ROOT\\CIMV2 : SELECT HypervisorPresent FROM Win32_ComputerSystem; ResultCode = 0x80041032; PossibleCause = Unknown</td>\n",
       "      <td>2</td>\n",
       "    </tr>\n",
       "  </tbody>\n",
       "</table>\n",
       "</div>"
      ],
      "text/plain": [
       "  event.code                    event.provider  \\\n",
       "0      10010  Microsoft-Windows-DistributedCOM   \n",
       "1      10010  Microsoft-Windows-DistributedCOM   \n",
       "2       5858    Microsoft-Windows-WMI-Activity   \n",
       "3       5858    Microsoft-Windows-WMI-Activity   \n",
       "4       5858    Microsoft-Windows-WMI-Activity   \n",
       "5       5858    Microsoft-Windows-WMI-Activity   \n",
       "6       5858    Microsoft-Windows-WMI-Activity   \n",
       "7       5858    Microsoft-Windows-WMI-Activity   \n",
       "8       5858    Microsoft-Windows-WMI-Activity   \n",
       "9       5858    Microsoft-Windows-WMI-Activity   \n",
       "\n",
       "                                                                                                                                                                                                                                                                                                                                     message  \\\n",
       "0                                                                                                                                                                                                                                  The server {AB8902B4-09CA-4BB6-B78D-A8F59079A8D5} did not register with DCOM within the required timeout.   \n",
       "1                                                                                                                                                                                                                                  The server {AAC1009F-AB33-48F9-9A21-7F5B88426A2E} did not register with DCOM within the required timeout.   \n",
       "2  Id = {00000000-0000-0000-0000-000000000000}; ClientMachine = WKST08; User = NT AUTHORITY\\NETWORK SERVICE; ClientProcessId = 4072; Component = Unknown; Operation = Start IWbemServices::DeleteInstance - Root\\Rsop : __Namespace.name=\"NSS_1_5_21_2369732838_3797832421_459094119_1129\"; ResultCode = 0x80041002; PossibleCause = Unknown   \n",
       "3                    Id = {00000000-0000-0000-0000-000000000000}; ClientMachine = IOT-ENG-WKST; User = MAGNUMTEMPUS\\seth.morgan; ClientProcessId = 7924; Component = Unknown; Operation = Start IWbemServices::ExecQuery - ROOT\\CIMV2 : SELECT HypervisorPresent FROM Win32_ComputerSystem; ResultCode = 0x80041032; PossibleCause = Unknown   \n",
       "4                       Id = {00000000-0000-0000-0000-000000000000}; ClientMachine = WKST02; User = NT AUTHORITY\\NETWORK SERVICE; ClientProcessId = 5000; Component = Unknown; Operation = Start IWbemServices::ExecQuery - ROOT\\CIMV2 : SELECT Manufacturer, Product FROM Win32_BaseBoard; ResultCode = 0x80041032; PossibleCause = Unknown   \n",
       "5                        Id = {00000000-0000-0000-0000-000000000000}; ClientMachine = WKST08; User = NT AUTHORITY\\SYSTEM; ClientProcessId = 6628; Component = Unknown; Operation = Start IWbemServices::ExecQuery - ROOT\\CIMV2 : SELECT * FROM Win32_OptionalFeature WHERE name = 'NetFX3'; ResultCode = 0x80041032; PossibleCause = Unknown   \n",
       "6          Id = {00000000-0000-0000-0000-000000000000}; ClientMachine = WKST08; User = NT AUTHORITY\\SYSTEM; ClientProcessId = 6628; Component = Unknown; Operation = Start IWbemServices::ExecQuery - ROOT\\CIMV2 : SELECT * FROM Win32_OptionalFeature WHERE name = 'WAS-NetFxEnvironment'; ResultCode = 0x80041032; PossibleCause = Unknown   \n",
       "7                      Id = {00000000-0000-0000-0000-000000000000}; ClientMachine = WKST09; User = NT AUTHORITY\\NETWORK SERVICE; ClientProcessId = 10996; Component = Unknown; Operation = Start IWbemServices::ExecQuery - ROOT\\CIMV2 : SELECT Manufacturer, Product FROM Win32_BaseBoard; ResultCode = 0x80041032; PossibleCause = Unknown   \n",
       "8                       Id = {00000000-0000-0000-0000-000000000000}; ClientMachine = WKST09; User = NT AUTHORITY\\NETWORK SERVICE; ClientProcessId = 7524; Component = Unknown; Operation = Start IWbemServices::ExecQuery - ROOT\\CIMV2 : SELECT Manufacturer, Product FROM Win32_BaseBoard; ResultCode = 0x80041032; PossibleCause = Unknown   \n",
       "9                           Id = {00000000-0000-0000-0000-000000000000}; ClientMachine = WKST10; User = MAGNUMTEMPUS\\reese.juvo; ClientProcessId = 5436; Component = Unknown; Operation = Start IWbemServices::ExecQuery - ROOT\\CIMV2 : SELECT HypervisorPresent FROM Win32_ComputerSystem; ResultCode = 0x80041032; PossibleCause = Unknown   \n",
       "\n",
       "  count  \n",
       "0    92  \n",
       "1    20  \n",
       "2     4  \n",
       "3     2  \n",
       "4     2  \n",
       "5     2  \n",
       "6     2  \n",
       "7     2  \n",
       "8     2  \n",
       "9     2  "
      ]
     },
     "execution_count": 19,
     "metadata": {},
     "output_type": "execute_result"
    }
   ],
   "source": [
    "query = f\"\"\"search index=windows log.level=\"error\" {query_common_args}\n",
    "| stats count by event.code,event.provider,message\n",
    "| sort - count\n",
    "\"\"\"\n",
    "df_errors = qry_prov.exec_query(query)\n",
    "df_errors.head(results_limit)"
   ]
  },
  {
   "cell_type": "markdown",
   "id": "980253d6-8201-4506-8a95-cb2b85b8f1f0",
   "metadata": {
    "slideshow": {
     "slide_type": "slide"
    },
    "tags": []
   },
   "source": [
    "### What matters?\n",
    "* Sometimes people knows, sometimes not\n",
    "* Providing view of what you see may help to identify things\n",
    "* May identify other information\n",
    "  * Non-security operational issues (disk full...)\n",
    "  * Data that should be there - gap\n",
    "  * Data that should not be there (low value, risky like passwords, tokens, PHI, PCI...)\n",
    "  * Be selective. No point to collect logs without value."
   ]
  },
  {
   "cell_type": "markdown",
   "id": "6967f2f9-a2b5-4e5a-bc7a-b9c3a28882af",
   "metadata": {
    "slideshow": {
     "slide_type": "slide"
    },
    "tags": []
   },
   "source": [
    "### Share and Report!\n",
    "* Written documentation\n",
    "* Working controls\n",
    "* Identified gaps, eventually with possible remediations"
   ]
  },
  {
   "cell_type": "markdown",
   "id": "39f9d122-c5d0-4832-8845-c9602b28fac2",
   "metadata": {
    "slideshow": {
     "slide_type": "slide"
    },
    "tags": []
   },
   "source": [
    "## That's all folks!\n",
    "Thanks to\n",
    "* [BTV project obsidian](https://www.blueteamvillage.org/programs/project-obsidian/) contributors\n",
    "* Projects jupyter notebook, pandas, msticpy, OTRF / [Infosec Jupyterthon](https://infosecjupyterthon.com)"
   ]
  },
  {
   "cell_type": "markdown",
   "id": "6264230f-cd26-453b-83d8-1ec5b0785ef2",
   "metadata": {
    "slideshow": {
     "slide_type": "slide"
    },
    "tags": []
   },
   "source": [
    "<h1 align=\"center\" style=\"font-weight: bold;\">Thank you</h1>\n",
    "\n",
    "<div align=\"center\">\n",
    "Join the conversation<br />\n",
    "https://discord.blueteamvillage.org<br />\n",
    "Please Provide Feedback<br />\n",
    "feedback-obsidian@blueteamvillage.org<br />\n",
    "</div>"
   ]
  },
  {
   "cell_type": "markdown",
   "id": "70597a6b-7135-4fc9-9897-bc8d92310e48",
   "metadata": {
    "slideshow": {
     "slide_type": "notes"
    },
    "tags": []
   },
   "source": [
    "## References"
   ]
  },
  {
   "cell_type": "markdown",
   "id": "7c7b79a3-5e78-4a56-99fb-8d082d260143",
   "metadata": {
    "slideshow": {
     "slide_type": "notes"
    },
    "tags": []
   },
   "source": [
    "* Logs\n",
    "  * https://www.honeynet.org/challenges/forensic-challenge-5-2010-log-mysteries/\n",
    "  * https://chuvakin.blogspot.com/2010/03/simple-log-review-checklist-released.html\n",
    "  * https://www.sans.org/brochure/course/log-management-in-depth/6\n",
    "  * Strategy 7: Select and Collect the Right Data, [11 Strategies of a World-Class Cybersecurity Operations Center, MITRE](https://www.mitre.org/sites/default/files/2022-04/11-strategies-of-a-world-class-cybersecurity-operations-center.pdf)\n",
    "  * [LogLevel Enum - Microsoft](https://learn.microsoft.com/en-us/dotnet/api/microsoft.extensions.logging.loglevel?view=dotnet-plat-ext-7.0)\n",
    "  * https://www.malwarearchaeology.com/cheat-sheets\n",
    "  * https://what2log.com/\n",
    "  * https://github.com/SigmaHQ/sigma\n",
    "  * [MITRE Assistant - Stats by Datasources](https://docs-ma.vercel.app/docs/project/Data%20Samples/V9%20Enterprise/Stats_By_Datasources)\n",
    "* Detect PII\n",
    "  * https://microsoft.github.io/presidio/; https://github.com/microsoft/presidio\n",
    "  * https://pypi.org/project/piicatcher/; https://github.com/tokern/piicatcher\n",
    "  * https://learn.microsoft.com/en-us/azure/cognitive-services/language-service/personally-identifiable-information/how-to-call\n",
    "  * https://github.com/Azure/azure-sdk-for-python/tree/main/sdk/textanalytics/azure-ai-textanalytics/samples\n",
    "  * https://lantern.splunk.com/Security/Use_Cases/Compliance/Detecting_Personally_Identifiable_Information_(PII)_in_log_data_for_GDPR_compliance\n",
    "  * https://www.bindb.com/bin-database\n",
    "  * https://www.paypalobjects.com/en_GB/vhelp/paypalmanager_help/credit_card_numbers.htm\n",
    "  * https://en.wikipedia.org/wiki/Health_Level_7"
   ]
  },
  {
   "cell_type": "code",
   "execution_count": null,
   "id": "271fe637-cc34-4ab9-ac24-bdafbb300014",
   "metadata": {
    "slideshow": {
     "slide_type": "notes"
    },
    "tags": []
   },
   "outputs": [],
   "source": []
  }
 ],
 "metadata": {
  "kernelspec": {
   "display_name": "Python 3 (ipykernel)",
   "language": "python",
   "name": "python3"
  },
  "language_info": {
   "codemirror_mode": {
    "name": "ipython",
    "version": 3
   },
   "file_extension": ".py",
   "mimetype": "text/x-python",
   "name": "python",
   "nbconvert_exporter": "python",
   "pygments_lexer": "ipython3",
   "version": "3.11.4"
  }
 },
 "nbformat": 4,
 "nbformat_minor": 5
}
