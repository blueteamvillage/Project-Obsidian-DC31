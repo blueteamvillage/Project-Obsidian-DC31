{
 "cells": [
  {
   "cell_type": "markdown",
   "id": "689f1ab1-5346-4bea-b858-fe55a946ed22",
   "metadata": {
    "tags": []
   },
   "source": [
    "# IaaS Windows Logs Review Template - Sentinel\n",
    "BTV Project Obsidian, 2023.\n",
    "\n",
    "Author: juju43, https://blueteamvillage.org/programs/project-obsidian/ https://discord.gg/blueteamvillage\n",
    "<img align=\"right\" width=\"100\" height=\"100\" src=\"https://cfc.blueteamvillage.org/media/call-for-content-2021/img/20200622_BTVillage_logos_RGB_pos_hcOC7Qx.png\">"
   ]
  },
  {
   "cell_type": "markdown",
   "id": "a0d398e9-22a4-4b9a-a710-b62b7a4d2d6a",
   "metadata": {},
   "source": [
    "This playbook is to help validating available logs\n",
    "It helps to baseline environment, identify gaps and control points.\n",
    "\n",
    "It targets Defcon31 BlueTeamVillage Project obsidian environment and splunk platform but it can be adapt to other logging platforms.\n",
    "\n",
    "Possible sources\n",
    "* Windows Event logs\n",
    "* sysmon\n",
    "\n",
    "External sources like EDR or network are intentionally not covered here."
   ]
  },
  {
   "cell_type": "markdown",
   "id": "17fefc06-6e6b-44fa-8faa-24b29e051caa",
   "metadata": {
    "tags": []
   },
   "source": [
    "## Resources"
   ]
  },
  {
   "cell_type": "markdown",
   "id": "2d80df5c-331e-4471-8f2d-b7056a486657",
   "metadata": {},
   "source": [
    "* https://github.com/microsoft/msticpy/\n",
    "* https://infosecjupyterthon.com/\n",
    "* https://dropbox.tech/security/how-dropbox-security-builds-better-tools-for-threat-detection-and-incident-response\n",
    "* https://www.malwarearchaeology.com/cheat-sheets\n",
    "* https://what2log.com/\n",
    "* https://github.com/SigmaHQ/sigma\n",
    "* cli usage\n",
    "  * as is `jupyter run notebook.ipynb --allow-errors` - https://docs.jupyter.org/en/latest/running.html#using-a-command-line-interface\n",
    "  * with parameters `papermill input.ipynb output.ipynb -p alpha 0.6 -p l1_ratio 0.1` - https://papermill.readthedocs.io/en/latest/usage-workflow.html \n",
    "\n",
    "(Win)\n",
    "* https://github.com/Azure/Azure-Sentinel-Notebooks/blob/master/Entity%20Explorer%20-%20Windows%20Host.ipynb\n",
    "* https://github.com/OTRF/ThreatHunter-Playbook/tree/master/docs/hunts/windows\n",
    "* https://securitydatasets.com/notebooks/atomic/windows/intro.html\n",
    "* https://docs.microsoft.com/en-us/windows/security/threat-protection/auditing/audit-user-account-management\n",
    "* https://learn.microsoft.com/en-us/windows-server/identity/ad-ds/plan/appendix-l--events-to-monitor\n",
    "* https://learn.microsoft.com/en-us/windows/security/threat-protection/use-windows-event-forwarding-to-assist-in-intrusion-detection\n",
    "* jpcert: https://jpcertcc.github.io/ToolAnalysisResultSheet/, https://github.com/JPCERTCC/LogonTracer\n",
    "* https://github.com/mdecrevoisier/Splunk-input-windows-baseline\n",
    "* https://www.13cubed.com/downloads/windows_event_log_cheat_sheet.pdf"
   ]
  },
  {
   "cell_type": "markdown",
   "id": "c339bbf6-8d5c-40cc-a4e2-de4bed8acebd",
   "metadata": {},
   "source": [
    "## Findings"
   ]
  },
  {
   "cell_type": "markdown",
   "id": "a469ca55-9493-4362-b956-ca755aa9da14",
   "metadata": {},
   "source": [
    "_Put your findings here_"
   ]
  },
  {
   "cell_type": "markdown",
   "id": "a9c365dc-9d3e-48ab-b1fe-951230d61f99",
   "metadata": {},
   "source": [
    "## Table of Contents\n",
    "\n",
    "* Import\n",
    "* Configuration\n",
    "* Queries\n",
    "  * Authentication\n",
    "    * fail\n",
    "    * success\n",
    "  * Remote access\n",
    "  * Privilege escalation\n",
    "  * Privileged users activities? root, Administrator...\n",
    "  * Service activities\n",
    "    * Time\n",
    "    * Logging\n",
    "    * Scheduled tasks\n",
    "  * System boot, on/off\n",
    "  * Process activities\n",
    "  * Network activities\n",
    "  * File Integrity Monitoring (FIM)\n",
    "  * AV logs?\n",
    "  * Web logs?\n",
    "  * Misc"
   ]
  },
  {
   "cell_type": "markdown",
   "id": "ea86fac3-20d7-4bfd-843a-93c1b5da3f96",
   "metadata": {
    "tags": []
   },
   "source": [
    "## Import"
   ]
  },
  {
   "cell_type": "code",
   "execution_count": null,
   "id": "dbec5036-8b12-4de1-8842-a902f2f738d7",
   "metadata": {
    "tags": []
   },
   "outputs": [],
   "source": [
    "# Check we are running Python 3.6\n",
    "import sys\n",
    "MIN_REQ_PYTHON = (3,6)\n",
    "if sys.version_info < MIN_REQ_PYTHON:\n",
    "    print('Check the Kernel->Change Kernel menu and ensure that Python 3.6')\n",
    "    print('or later is selected as the active kernel.')\n",
    "    sys.exit(\"Python %s.%s or later is required.\\n\" % MIN_REQ_PYTHON)"
   ]
  },
  {
   "cell_type": "code",
   "execution_count": null,
   "id": "972a3f5b-7f0e-4382-bef8-0138be162437",
   "metadata": {
    "tags": []
   },
   "outputs": [],
   "source": [
    "# Imports\n",
    "import pandas as pd\n",
    "import msticpy.nbtools as nbtools\n",
    "from datetime import datetime,timedelta\n",
    "import os"
   ]
  },
  {
   "cell_type": "code",
   "execution_count": null,
   "id": "f3897813-4fb8-46ff-8e1d-bcb31c4ebca9",
   "metadata": {
    "tags": []
   },
   "outputs": [],
   "source": [
    "# path to config file\n",
    "os.environ['MSTICPYCONFIG'] = '/home/ubuntu/msticpyconfig.yaml'\n",
    "from msticpy.nbtools import *\n",
    "from msticpy.data.data_providers import QueryProvider\n",
    "from msticpy.common.wsconfig import WorkspaceConfig\n",
    "from msticpy.nbtools.data_viewer import DataViewer\n",
    "from msticpy.vis.matrix_plot import plot_matrix\n",
    "from msticpy.nbtools import process_tree as ptree\n",
    "print('Imports Complete')"
   ]
  },
  {
   "cell_type": "markdown",
   "id": "72e27508-6923-4c98-a159-cd1ec7a53e62",
   "metadata": {},
   "source": [
    "## Configuration"
   ]
  },
  {
   "cell_type": "code",
   "execution_count": null,
   "id": "cdfc6d45-a3d1-4940-8890-c2b294f97500",
   "metadata": {
    "tags": []
   },
   "outputs": [],
   "source": [
    "# Interactive settings edit\n",
    "# https://msticpy.readthedocs.io/en/latest/getting_started/SettingsEditor.html#using-mpconfigfile-to-check-and-manage-your-msticpyconfig-yaml\n",
    "from msticpy.config import MpConfigFile, MpConfigEdit, MpConfigControls\n",
    "mpconfig = MpConfigFile()\n",
    "# mpconfig.load_default()\n",
    "# mpconfig.view_settings()\n",
    "mpconfig"
   ]
  },
  {
   "cell_type": "code",
   "execution_count": null,
   "id": "c7c1b946-2df5-4a2c-9b16-29fad87f2635",
   "metadata": {
    "tags": []
   },
   "outputs": [],
   "source": [
    "# q_times = nbwidgets.QueryTime(units='hours', max_before=72, before=1, max_after=0)\n",
    "#q_times = nbwidgets.QueryTime(origin_time=datetime(2023, 6, 15), units='days', max_before=1, before=0, max_after=0)\n",
    "q_times = nbwidgets.QueryTime(origin_time=datetime(2023, 6, 15), units='hours', max_before=4, before=0, max_after=0)\n",
    "q_times.display()"
   ]
  },
  {
   "cell_type": "code",
   "execution_count": null,
   "id": "cfe36521-d2f1-431b-ba85-0fa897c5f21a",
   "metadata": {
    "tags": [
     "parameters"
    ]
   },
   "outputs": [],
   "source": [
    "# If your environment footpring is very large or timeperiod too big, queries not optimized enough may return 'ADX query timed out' or 'Unknown query error' when done through msticpy.\n",
    "# Ensure to use appropriate filters\n",
    "query_common_args = ''\n",
    "# query_common_args = f'''| where _SubscriptionId in (\"12345\", \"67890\")'''\n",
    "results_limit = 10"
   ]
  },
  {
   "cell_type": "code",
   "execution_count": null,
   "id": "98e8cc50-0f39-4122-87fc-019b9fd94e3e",
   "metadata": {
    "tags": []
   },
   "outputs": [],
   "source": [
    "query_common_args = query_common_args.strip()\n",
    "query_common_args = query_common_args + f'''| where TimeGenerated >= datetime({q_times.start})\n",
    "| where TimeGenerated <= datetime({q_times.end})'''"
   ]
  },
  {
   "cell_type": "code",
   "execution_count": null,
   "id": "5393a5d6-5c94-4e8d-8eab-85385e02752c",
   "metadata": {
    "tags": []
   },
   "outputs": [],
   "source": [
    "# Configuration\n",
    "qry_prov = QueryProvider(\"AzureSentinel\")"
   ]
  },
  {
   "cell_type": "code",
   "execution_count": null,
   "id": "37a483a5-e437-4b17-b6a1-6b9c67ea0289",
   "metadata": {
    "tags": []
   },
   "outputs": [],
   "source": [
    "# Get the default Microsoft Sentinel workspace details from msticpyconfig.yaml\n",
    "ws_config = WorkspaceConfig()\n",
    "\n",
    "# Connect to Microsoft Sentinel with our QueryProvider and config details\n",
    "qry_prov.connect(ws_config)"
   ]
  },
  {
   "cell_type": "code",
   "execution_count": null,
   "id": "1a3ffc2c-867d-445b-9b03-c1edc8de60bc",
   "metadata": {
    "tags": []
   },
   "outputs": [],
   "source": [
    "# pandas\n",
    "pd.set_option('display.max_colwidth', 500)"
   ]
  },
  {
   "cell_type": "markdown",
   "id": "d96e60a4-0194-428d-bddc-485614c0b9c0",
   "metadata": {},
   "source": [
    "## Queries"
   ]
  },
  {
   "cell_type": "markdown",
   "id": "cc9b17e4-9ee4-4897-b505-414f365933f1",
   "metadata": {},
   "source": [
    "### Timeperiod"
   ]
  },
  {
   "cell_type": "markdown",
   "id": "a275c7ed-e96e-494d-90a0-92c10bbce8d9",
   "metadata": {},
   "source": [
    "Let's confirm that we have logs for the targeted timeperiod."
   ]
  },
  {
   "cell_type": "code",
   "execution_count": null,
   "id": "6bae14b4-007d-4e8a-99c5-42e1b917f1a0",
   "metadata": {
    "tags": []
   },
   "outputs": [],
   "source": [
    "q_times.start"
   ]
  },
  {
   "cell_type": "code",
   "execution_count": null,
   "id": "52f60370-a33e-4c86-a182-fb10a1a1efbc",
   "metadata": {
    "tags": []
   },
   "outputs": [],
   "source": [
    "q_times.end"
   ]
  },
  {
   "cell_type": "code",
   "execution_count": null,
   "id": "d013d668-df3c-4e1f-995c-680e22f2d13b",
   "metadata": {
    "tags": []
   },
   "outputs": [],
   "source": [
    "query = f'''SecurityEvent {query_common_args}\n",
    "| union Event\n",
    "| summarize max(TimeGenerated),min(TimeGenerated)\n",
    "'''\n",
    "df_timeperiod = qry_prov.exec_query(query)\n",
    "df_timeperiod.head(results_limit)"
   ]
  },
  {
   "cell_type": "code",
   "execution_count": null,
   "id": "c3f97d31-4a47-4c71-8d75-351fbbf75a00",
   "metadata": {},
   "outputs": [],
   "source": []
  },
  {
   "cell_type": "markdown",
   "id": "00492dac-0de7-43a5-90a1-635f9c679347",
   "metadata": {},
   "source": [
    "### Authentication"
   ]
  },
  {
   "cell_type": "code",
   "execution_count": null,
   "id": "b4bacba9-95ae-4947-9368-20143a315dd2",
   "metadata": {
    "tags": []
   },
   "outputs": [],
   "source": [
    "query = f'''SecurityEvent {query_common_args}\n",
    "| where EventID in (4624, 4625, 4634, 4635)\n",
    "| summarize count() by Computer,EventID\n",
    "| limit {results_limit}'''\n",
    "df_auth = qry_prov.exec_query(query)\n",
    "df_auth.head(results_limit)"
   ]
  },
  {
   "cell_type": "code",
   "execution_count": null,
   "id": "b2f64c71-b8b2-4090-8ffe-4f0803589b66",
   "metadata": {},
   "outputs": [],
   "source": []
  },
  {
   "cell_type": "markdown",
   "id": "e1aff3b9-4936-41de-8d80-e7e9197acf96",
   "metadata": {},
   "source": [
    "### Remote access"
   ]
  },
  {
   "cell_type": "code",
   "execution_count": null,
   "id": "5c44e6c6-a082-4e9b-aa74-ff3d3fbbccf9",
   "metadata": {
    "tags": []
   },
   "outputs": [],
   "source": [
    "query = f'''SecurityEvent {query_common_args}\n",
    "| where EventID in (4624, 4625, 4634, 4635) and LogonType in (3)\n",
    "| summarize count() by Computer,EventID,TargetDomainName,LogonType,LogonTypeName\n",
    "| limit {results_limit}'''\n",
    "df_auth = qry_prov.exec_query(query)\n",
    "df_auth.head(results_limit)"
   ]
  },
  {
   "cell_type": "code",
   "execution_count": null,
   "id": "666c7d04-1d04-4cdc-8b09-416c150a84e6",
   "metadata": {
    "tags": []
   },
   "outputs": [],
   "source": [
    "query = f'''SecurityEvent {query_common_args}\n",
    "| where EventID in (4624, 4625, 4634, 4635) and LogonType in (8, 10)\n",
    "| summarize count() by Computer,EventID,TargetDomainName,TargetUserName,LogonType,LogonTypeName\n",
    "| limit {results_limit}'''\n",
    "df_auth = qry_prov.exec_query(query)\n",
    "df_auth.head(results_limit)"
   ]
  },
  {
   "cell_type": "code",
   "execution_count": null,
   "id": "ec4570d7-9353-4d4e-ab02-072805c098b8",
   "metadata": {},
   "outputs": [],
   "source": []
  },
  {
   "cell_type": "code",
   "execution_count": null,
   "id": "ec89e0a1-bd89-44a1-bf59-8dfc9d0b2260",
   "metadata": {},
   "outputs": [],
   "source": []
  },
  {
   "cell_type": "markdown",
   "id": "c037835d-5750-4ce4-b450-d9e14ab7a1ea",
   "metadata": {},
   "source": [
    "### Privilege Escalation"
   ]
  },
  {
   "cell_type": "code",
   "execution_count": null,
   "id": "dff1b29e-9d5c-4344-a357-42a770accba1",
   "metadata": {
    "tags": []
   },
   "outputs": [],
   "source": [
    "# https://social.technet.microsoft.com/Forums/en-US/bf693b49-1dd5-45ee-84cf-4a417e5b35ec/run-as-admin-event-log\n",
    "query = f'''SecurityEvent {query_common_args}\n",
    "| where EventID in (4688) and TokenElevationType has_any (\"1936\", \"1937\", \"1938\")\n",
    "| summarize count() by Computer,EventID,TargetDomainName,TokenElevationType,SubjectUserName,TargetUserName,CommandLine,ParentProcessName\n",
    "| limit {results_limit}'''\n",
    "df_privesc_cli = qry_prov.exec_query(query)\n",
    "df_privesc_cli.head(results_limit)"
   ]
  },
  {
   "cell_type": "code",
   "execution_count": null,
   "id": "7b35d1f5-56f0-4d7f-95d5-9f4d915513ab",
   "metadata": {
    "tags": []
   },
   "outputs": [],
   "source": [
    "# Privilege functions: (eventid=4672 or eventid=4673 or eventid=4674)\n",
    "query = f'''SecurityEvent {query_common_args}\n",
    "| where EventID in (4672, 4673, 4674)\n",
    "| summarize count() by Computer,EventID,Activity,SubjectDomainName,SubjectUserName\n",
    "| limit {results_limit}'''\n",
    "df_priv_functions = qry_prov.exec_query(query)\n",
    "df_priv_functions.head(results_limit)"
   ]
  },
  {
   "cell_type": "code",
   "execution_count": null,
   "id": "76838815-6812-4a5a-baa4-1df46a3a8322",
   "metadata": {},
   "outputs": [],
   "source": []
  },
  {
   "cell_type": "markdown",
   "id": "693a6387-7225-46cc-87b7-1c8862ece740",
   "metadata": {},
   "source": [
    "### Services activities"
   ]
  },
  {
   "cell_type": "code",
   "execution_count": null,
   "id": "368064f8-1cb2-4c11-b449-838d37413e6e",
   "metadata": {
    "tags": []
   },
   "outputs": [],
   "source": [
    "# general service\n",
    "query = f'''Event {query_common_args}\n",
    "| where Source == \"Service Control Manager\"\n",
    "| summarize count() by EventID,EventLevel,EventLevelName,RenderedDescription\n",
    "| sort by EventLevel asc,count_ desc\n",
    "| limit {results_limit}'''\n",
    "df_services = qry_prov.exec_query(query)\n",
    "df_services.head(results_limit)"
   ]
  },
  {
   "cell_type": "code",
   "execution_count": null,
   "id": "81053e56-687e-48cd-9615-437cf70ee8d4",
   "metadata": {
    "tags": []
   },
   "outputs": [],
   "source": [
    "# service start/stop\n",
    "query = f'''Event {query_common_args}\n",
    "| where Source == \"Service Control Manager\" and EventID in (7035, 7036)\n",
    "| summarize count() by EventID,EventLevel,EventLevelName,RenderedDescription\n",
    "| sort by EventLevel asc,count_ desc\n",
    "| limit {results_limit}'''\n",
    "df_services = qry_prov.exec_query(query)\n",
    "df_services.head(results_limit)"
   ]
  },
  {
   "cell_type": "code",
   "execution_count": null,
   "id": "d1ecddf7-9771-492a-82f8-b4aa43353199",
   "metadata": {
    "tags": []
   },
   "outputs": [],
   "source": [
    "# time service\n",
    "# https://learn.microsoft.com/en-us/windows/security/threat-protection/auditing/event-4616\n",
    "# https://learn.microsoft.com/en-us/windows-server/networking/windows-time-service/windows-time-for-traceability?tabs=257\n",
    "# https://stackoverflow.com/questions/7852209/is-there-a-way-to-detect-if-the-system-clock-has-been-changed-backwards-in-windo\n",
    "query = f'''Event {query_common_args}\n",
    "| where EventID in (4616, 1, \n",
    "    257, 258, 259, 260, 261, 262, 263, 264, 265, 266\n",
    ") and Source != \"Microsoft-Windows-Sysmon\"\n",
    "// Source in (\"Microsoft-Windows-Kernel-General\", \"System\", \"Microsoft-Windows-Time-Service\")\n",
    "| summarize count() by Source,EventLog,EventID,EventLevel,EventLevelName,RenderedDescription\n",
    "| sort by EventLevel asc,count_ desc\n",
    "| limit {results_limit}'''\n",
    "df_services_time = qry_prov.exec_query(query)\n",
    "df_services_time.head(results_limit)"
   ]
  },
  {
   "cell_type": "code",
   "execution_count": null,
   "id": "a5a7065f-8373-4d5e-89b9-ae0550f765c1",
   "metadata": {},
   "outputs": [],
   "source": []
  },
  {
   "cell_type": "code",
   "execution_count": null,
   "id": "082a06d7-8255-4b4a-a419-71dfa8451fe9",
   "metadata": {
    "tags": []
   },
   "outputs": [],
   "source": [
    "# Scheduled Tasks\n",
    "# https://learn.microsoft.com/en-us/windows/security/threat-protection/auditing/event-4698\n",
    "query = f'''SecurityEvent {query_common_args}\n",
    "| where EventID in (4698,4699, 4700, 4701, 4702)\n",
    "| summarize count() by EventSourceName,EventID,Activity\n",
    "| sort by count_ desc\n",
    "| limit {results_limit}'''\n",
    "df_service_scheduledtasks = qry_prov.exec_query(query)\n",
    "df_service_scheduledtasks.head(10)"
   ]
  },
  {
   "cell_type": "code",
   "execution_count": null,
   "id": "dab25da0-3b9d-4021-8251-86b6b70195d6",
   "metadata": {
    "tags": []
   },
   "outputs": [],
   "source": [
    "query = f'''Event {query_common_args}\n",
    "| where Source == \"Microsoft-Windows-TaskScheduler\"\n",
    "| summarize count() by EventLog,EventID,EventLevel,EventLevelName\n",
    "| limit {results_limit}'''\n",
    "df_service_scheduledtasks2 = qry_prov.exec_query(query)\n",
    "df_service_scheduledtasks2.head(10)"
   ]
  },
  {
   "cell_type": "code",
   "execution_count": null,
   "id": "23fd9af9-49e7-4138-83b4-ca0eaa6929db",
   "metadata": {},
   "outputs": [],
   "source": []
  },
  {
   "cell_type": "code",
   "execution_count": null,
   "id": "f3cd8a7a-5a7d-4765-be0d-048217b04527",
   "metadata": {
    "tags": []
   },
   "outputs": [],
   "source": [
    "query = f'''Event {query_common_args}\n",
    "| where EventID == 1102\n",
    "| summarize count() by EventLog,Source,EventID,EventLevelName,RenderedDescription\n",
    "| limit {results_limit}'''\n",
    "df_clearlogs1 = qry_prov.exec_query(query)\n",
    "df_clearlogs1.head(10)"
   ]
  },
  {
   "cell_type": "code",
   "execution_count": null,
   "id": "2623d38e-7812-4421-b641-ca4728f5b1d3",
   "metadata": {
    "tags": []
   },
   "outputs": [],
   "source": [
    "query = f'''SecurityEvent {query_common_args}\n",
    "| where EventID == 1102\n",
    "| summarize count() by Channel,EventSourceName,EventID,Activity\n",
    "| limit {results_limit}'''\n",
    "df_clearlogs2 = qry_prov.exec_query(query)\n",
    "df_clearlogs2.head(10)"
   ]
  },
  {
   "cell_type": "code",
   "execution_count": null,
   "id": "0becb87a-7d07-4753-9be4-35182f284543",
   "metadata": {},
   "outputs": [],
   "source": []
  },
  {
   "cell_type": "markdown",
   "id": "e194a321-9b15-4714-9ef5-7304fbb70acb",
   "metadata": {},
   "source": [
    "### System boot, on/off"
   ]
  },
  {
   "cell_type": "code",
   "execution_count": null,
   "id": "8afa1807-b92a-4ca1-9bb4-2cd4a8c66b66",
   "metadata": {
    "tags": []
   },
   "outputs": [],
   "source": [
    "# https://www.windowscentral.com/how-find-reason-pc-shutdown-no-reason-windows-10\n",
    "# https://www.shellhacks.com/windows-shutdown-reboot-event-ids-get-logs/\n",
    "# https://serverfault.com/questions/885601/windows-event-codes-for-startup-shutdown-lock-unlock\n",
    "query = f'''Event {query_common_args}\n",
    "| where EventID in (12, 13, 41, 42, 107, 1074, 1076, 6005, 6006, 6008, 6009, 6013)\n",
    "| summarize count() by EventLog,EventID,EventLevel,EventLevelName\n",
    "| limit {results_limit}'''\n",
    "df_system_onoff = qry_prov.exec_query(query)\n",
    "df_system_onoff.head(10)"
   ]
  },
  {
   "cell_type": "code",
   "execution_count": null,
   "id": "6a0cff88-d02d-4da7-9d3e-c21f42dcf1d8",
   "metadata": {},
   "outputs": [],
   "source": []
  },
  {
   "cell_type": "markdown",
   "id": "48fd701b-8930-411b-b191-e82ba04802f7",
   "metadata": {},
   "source": [
    "### Error, warnings"
   ]
  },
  {
   "cell_type": "code",
   "execution_count": null,
   "id": "1e7f29bd-460f-428c-ac67-06d4faf87946",
   "metadata": {
    "tags": []
   },
   "outputs": [],
   "source": [
    "query = f'''Event {query_common_args}\n",
    "| where EventLevelName in (\"Error\")\n",
    "| summarize count() by Source,EventID,EventLevel,EventLevelName\n",
    "| sort by count_ desc\n",
    "| limit {results_limit}\n",
    "'''\n",
    "df_errors = qry_prov.exec_query(query)\n",
    "df_errors.head(results_limit)"
   ]
  },
  {
   "cell_type": "code",
   "execution_count": null,
   "id": "d9445f3e-ab30-4b60-a75c-378e9b39d44f",
   "metadata": {
    "tags": []
   },
   "outputs": [],
   "source": [
    "query = f'''Event {query_common_args}\n",
    "| where EventLevelName in (\"Warning\")\n",
    "| summarize count() by Source,EventID,EventLevel,EventLevelName\n",
    "| sort by count_ desc\n",
    "| limit {results_limit}\n",
    "'''\n",
    "df_warn = qry_prov.exec_query(query)\n",
    "df_warn.head(results_limit)"
   ]
  },
  {
   "cell_type": "code",
   "execution_count": null,
   "id": "c4df0257-6b74-476f-b399-04dea3057c62",
   "metadata": {},
   "outputs": [],
   "source": []
  },
  {
   "cell_type": "markdown",
   "id": "4b952ff4-eef2-43e5-897b-a2f3d64f7eac",
   "metadata": {},
   "source": [
    "### Process activities"
   ]
  },
  {
   "cell_type": "code",
   "execution_count": null,
   "id": "962747e6-8d12-46e9-99c7-110513f53154",
   "metadata": {
    "tags": []
   },
   "outputs": [],
   "source": [
    "query = f'''SecurityEvent {query_common_args}\n",
    "| where EventID==4688\n",
    "| summarize count() by EventSourceName,EventID,SubjectDomainName,SubjectUserName,CommandLine\n",
    "| sort by count_ desc\n",
    "| limit {results_limit}\n",
    "'''\n",
    "df_process4688 = qry_prov.exec_query(query)\n",
    "df_process4688.head(results_limit)"
   ]
  },
  {
   "cell_type": "code",
   "execution_count": null,
   "id": "cbb66cb0-8753-45cd-bacc-2a70f53083d0",
   "metadata": {
    "tags": []
   },
   "outputs": [],
   "source": [
    "query = f'''Event {query_common_args}\n",
    "| where Source == \"Microsoft-Windows-Sysmon\" and EventID==1\n",
    "| summarize count() by EventLog,EventID'''\n",
    "df_process1 = qry_prov.exec_query(query)\n",
    "df_process1.head(10)"
   ]
  },
  {
   "cell_type": "code",
   "execution_count": null,
   "id": "e63c741f-a94f-41e2-a76a-5a983fdad640",
   "metadata": {},
   "outputs": [],
   "source": []
  },
  {
   "cell_type": "code",
   "execution_count": null,
   "id": "bd93c9e1-ddf1-40a1-89c1-660480de9b63",
   "metadata": {},
   "outputs": [],
   "source": []
  },
  {
   "cell_type": "markdown",
   "id": "cc255aca-37ed-41b5-a717-7de0f4cd6035",
   "metadata": {},
   "source": [
    "### Network activities"
   ]
  },
  {
   "cell_type": "code",
   "execution_count": null,
   "id": "6ab35027-3ac3-4c56-8f1d-a0b60ce0cb04",
   "metadata": {
    "tags": []
   },
   "outputs": [],
   "source": [
    "query = f'''Event {query_common_args}\n",
    "| where Source == \"Microsoft-Windows-Sysmon\" and EventID==3\n",
    "| summarize count() by EventLog,EventID'''\n",
    "df_network1 = qry_prov.exec_query(query)\n",
    "df_network1.head(10)"
   ]
  },
  {
   "cell_type": "code",
   "execution_count": null,
   "id": "039dfddd-34a0-4806-9250-7d04857dab9e",
   "metadata": {},
   "outputs": [],
   "source": []
  },
  {
   "cell_type": "markdown",
   "id": "946d7b1d-713a-455e-83f5-97d76d53b540",
   "metadata": {},
   "source": [
    "### File Integrity Monitoring"
   ]
  },
  {
   "cell_type": "code",
   "execution_count": null,
   "id": "6753fe90-ee91-414c-a35c-5aea94aefda8",
   "metadata": {
    "tags": []
   },
   "outputs": [],
   "source": [
    "# https://learn.microsoft.com/en-us/windows/security/threat-protection/auditing/basic-audit-object-access\n",
    "# https://learn.microsoft.com/en-us/windows/security/threat-protection/auditing/event-4660\n",
    "# https://learn.microsoft.com/en-us/windows/security/threat-protection/auditing/event-4663\n",
    "query = f'''SecurityEvent {query_common_args}\n",
    "| where EventID in (4656, 4658, 4659, 4660, 4661, 4663, 4715, 4907)\n",
    "| summarize count() by Channel,EventID,Activity,ProcessName\n",
    "| limit {results_limit}'''\n",
    "df_objectaudit = qry_prov.exec_query(query)\n",
    "df_objectaudit.head(results_limit)"
   ]
  },
  {
   "cell_type": "code",
   "execution_count": null,
   "id": "337f458b-e898-416b-8dff-68f8e7c9155d",
   "metadata": {},
   "outputs": [],
   "source": []
  },
  {
   "cell_type": "markdown",
   "id": "17cfad57-cac3-4071-ba89-de4334247e13",
   "metadata": {
    "tags": []
   },
   "source": [
    "### Web logs"
   ]
  },
  {
   "cell_type": "markdown",
   "id": "8110489b-1582-4509-bcc9-8d0dba4a54ca",
   "metadata": {},
   "source": [
    "Prefer separated notebook."
   ]
  },
  {
   "cell_type": "code",
   "execution_count": null,
   "id": "cb12832a-23c2-42c4-bbfc-4461c655266b",
   "metadata": {
    "tags": []
   },
   "outputs": [],
   "source": [
    "query = f'''W3CIISLog {query_common_args}\n",
    "| summarize count() by Computer,sSiteName,sIP,cIP,csMethod,scStatus,csUriStem\n",
    "| sort by count_ desc\n",
    "| limit {results_limit}'''\n",
    "df_iis = qry_prov.exec_query(query)\n",
    "df_iis.head(results_limit)"
   ]
  },
  {
   "cell_type": "code",
   "execution_count": null,
   "id": "35dd395b-6fb5-4967-bcf0-3be995cc7b5b",
   "metadata": {},
   "outputs": [],
   "source": []
  },
  {
   "cell_type": "markdown",
   "id": "718435c9-a268-4189-82aa-56e75fa31171",
   "metadata": {},
   "source": [
    "### Misc"
   ]
  },
  {
   "cell_type": "code",
   "execution_count": null,
   "id": "a438780e-5746-4f03-8e26-d15bc31a70ad",
   "metadata": {
    "tags": []
   },
   "outputs": [],
   "source": [
    "# heartbeat, agent and version (any outdated?)\n",
    "query = f'''Heartbeat {query_common_args}\n",
    "| summarize count() by ResourceGroup,Computer,Category,SCAgentChannel,OSType,Version\n",
    "| sort by Computer\n",
    "| render table\n",
    "| limit {results_limit}'''\n",
    "df_heartbeat = qry_prov.exec_query(query)\n",
    "df_heartbeat.head(results_limit)"
   ]
  },
  {
   "cell_type": "code",
   "execution_count": null,
   "id": "d846327c-6090-46f1-9753-89a6fce1e2eb",
   "metadata": {},
   "outputs": [],
   "source": []
  },
  {
   "cell_type": "code",
   "execution_count": null,
   "id": "19c51c65-3a39-49f9-8205-56be2a925c22",
   "metadata": {
    "tags": []
   },
   "outputs": [],
   "source": [
    "# Noise?\n",
    "# https://answers.microsoft.com/en-us/windows/forum/windows_10-performance/excessive-security-log-events-event-id-5379/8eb0c350-ce2f-4521-9cfd-f7b816d54715\n",
    "query = f'''SecurityEvent {query_common_args}\n",
    "| summarize count() by EventSourceName,EventID\n",
    "| sort by count_ desc\n",
    "| limit {results_limit}'''\n",
    "df_volume = qry_prov.exec_query(query)\n",
    "df_volume.head(results_limit)"
   ]
  },
  {
   "cell_type": "code",
   "execution_count": null,
   "id": "358fe2c5-1056-4c20-9bea-4e3339ea53cf",
   "metadata": {
    "tags": []
   },
   "outputs": [],
   "source": [
    "query = f'''Event {query_common_args}\n",
    "| summarize count() by Source,EventID\n",
    "| sort by count_ desc\n",
    "| limit {results_limit}'''\n",
    "df_volume2 = qry_prov.exec_query(query)\n",
    "df_volume2.head(results_limit)"
   ]
  },
  {
   "cell_type": "code",
   "execution_count": null,
   "id": "4b65f0c8-2da3-441a-87f6-d78eb7d18ae5",
   "metadata": {
    "tags": []
   },
   "outputs": [],
   "source": [
    "# Partly covered by above\n",
    "SecurityEventId = [\n",
    "    # auth\n",
    "    \"4624\",\n",
    "    \"4625\",\n",
    "    # sysmon\n",
    "    \"1\",\n",
    "    \"3\",\n",
    "    \"17\",\n",
    "    \"18\",\n",
    "    \"20\",\n",
    "    \"21\",\n",
    "    \"22\",\n",
    "    \"25\",\n",
    "    # process commandline\n",
    "    \"4688\",\n",
    "    # scheduled task,\n",
    "    \"4698\",\n",
    "    # https://docs.microsoft.com/en-us/windows/security/threat-protection/auditing/event-4697\n",
    "    \"4697\",\n",
    "    \"5140\",\n",
    "    \"5145\",\n",
    "    \"4672\",\n",
    "    \"4104\",\n",
    "    \"1000\",\n",
    "    # less usual ones\n",
    "    # https://docs.microsoft.com/en-us/windows/security/threat-protection/auditing/audit-user-account-management\n",
    "    \"4720\",\n",
    "    \"4722\",\n",
    "    \"4723\",\n",
    "    \"4724\",\n",
    "    \"4725\",\n",
    "    \"4726\",\n",
    "    \"4738\",\n",
    "    \"4740\",\n",
    "    \"4765\",\n",
    "    \"4766\",\n",
    "    \"4767\",\n",
    "    \"4780\",\n",
    "    \"4781\",\n",
    "    \"4794\",\n",
    "    \"4798\",\n",
    "    \"5376\",\n",
    "    \"5377\",\n",
    "    # https://docs.microsoft.com/en-us/windows-server/identity/ad-ds/plan/appendix-l--events-to-monitor\n",
    "    \"4715\",\n",
    "    \"4907\",\n",
    "    \"4656\",\n",
    "    \"4658\",\n",
    "    \"4659\",\n",
    "    \"4661\",\n",
    "    \"4660\",\n",
    "    # Policy change: eventid=4739\n",
    "    \"4739\",\n",
    "    # Privilege functions:\n",
    "    \"4672\",\n",
    "    \"4673\",\n",
    "    \"4674\",\n",
    "]"
   ]
  },
  {
   "cell_type": "code",
   "execution_count": null,
   "id": "d40a043d-2ed6-41e5-8ec3-643081cc4e35",
   "metadata": {
    "tags": []
   },
   "outputs": [],
   "source": [
    "query = f'''SecurityEvent {query_common_args}\n",
    "| where EventID in ({','.join(SecurityEventId)})\n",
    "| summarize count() by Channel,EventID,Activity,ProcessName\n",
    "| limit {results_limit}'''\n",
    "df_list_securityeventid = qry_prov.exec_query(query)\n",
    "df_list_securityeventid.head(results_limit)"
   ]
  },
  {
   "cell_type": "code",
   "execution_count": null,
   "id": "42325e9f-3c3f-41a8-bebb-306f7b6e3662",
   "metadata": {
    "tags": []
   },
   "outputs": [],
   "source": [
    "query = f'''Event {query_common_args}\n",
    "| where EventID in ({','.join(SecurityEventId)})\n",
    "| summarize count() by Source,EventID\n",
    "| limit {results_limit}'''\n",
    "df_list_eventid = qry_prov.exec_query(query)\n",
    "df_list_eventid.head(results_limit)"
   ]
  },
  {
   "cell_type": "code",
   "execution_count": null,
   "id": "fca6ed29-fdf2-425c-a977-74f7cfe01f1b",
   "metadata": {},
   "outputs": [],
   "source": []
  },
  {
   "cell_type": "code",
   "execution_count": null,
   "id": "a6ef3df7-3a1d-4308-a61d-8d422a345208",
   "metadata": {},
   "outputs": [],
   "source": [
    "# ASIM tables?\n",
    "# https://learn.microsoft.com/en-us/azure/sentinel/normalization-schema-audit\n",
    "# https://learn.microsoft.com/en-us/azure/sentinel/normalization-schema-authentication\n",
    "# and so on"
   ]
  },
  {
   "cell_type": "code",
   "execution_count": null,
   "id": "bd9499bc-8d6c-4539-91db-a2b0dae73718",
   "metadata": {},
   "outputs": [],
   "source": []
  },
  {
   "cell_type": "code",
   "execution_count": null,
   "id": "5b24167b-6088-400f-806e-a33277f24c9c",
   "metadata": {
    "tags": []
   },
   "outputs": [],
   "source": [
    "# PII, credentials detection? many more variants...\n",
    "# sysmon and powershell logging likely to catch many cli creds.\n",
    "query = f'''search in (Event, SecurityEvent) (\"--password\" or \"password=\" or \"_PASSWORD\" or \"PASSWORD_\" or \"credentials=\" or \"pin=\" or \"cvv=\" or \"hl7-org\") {query_common_args}\n",
    "| summarize count() by _SubscriptionId,$table,EventID\n",
    "| sort by count_ desc \n",
    "| limit {results_limit}'''\n",
    "df_sensitivedata = qry_prov.exec_query(query)\n",
    "df_sensitivedata.head(results_limit)"
   ]
  },
  {
   "cell_type": "code",
   "execution_count": null,
   "id": "19d6958e-61ac-408f-b4ce-fc43b1a4a208",
   "metadata": {},
   "outputs": [],
   "source": []
  }
 ],
 "metadata": {
  "kernelspec": {
   "display_name": "Python 3 (ipykernel)",
   "language": "python",
   "name": "python3"
  },
  "language_info": {
   "codemirror_mode": {
    "name": "ipython",
    "version": 3
   },
   "file_extension": ".py",
   "mimetype": "text/x-python",
   "name": "python",
   "nbconvert_exporter": "python",
   "pygments_lexer": "ipython3",
   "version": "3.10.11"
  }
 },
 "nbformat": 4,
 "nbformat_minor": 5
}
