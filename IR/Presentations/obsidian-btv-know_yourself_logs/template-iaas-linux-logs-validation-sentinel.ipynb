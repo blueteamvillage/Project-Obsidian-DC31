{
 "cells": [
  {
   "cell_type": "markdown",
   "id": "689f1ab1-5346-4bea-b858-fe55a946ed22",
   "metadata": {
    "tags": []
   },
   "source": [
    "# IaaS Linux Logs Review Template - Sentinel\n",
    "BTV Project Obsidian, 2023\n",
    "\n",
    "Author: juju43, https://blueteamvillage.org/programs/project-obsidian/ https://discord.gg/blueteamvillage\n",
    "<img align=\"right\" width=\"100\" height=\"100\" src=\"https://cfc.blueteamvillage.org/media/call-for-content-2021/img/20200622_BTVillage_logos_RGB_pos_hcOC7Qx.png\">"
   ]
  },
  {
   "cell_type": "markdown",
   "id": "a0d398e9-22a4-4b9a-a710-b62b7a4d2d6a",
   "metadata": {},
   "source": [
    "This playbook is to help validating available logs\n",
    "It helps to baseline environment, identify gaps and control points.\n",
    "\n",
    "It targets Defcon31 BlueTeamVillage Project obsidian environment and splunk platform but it can be adapt to other logging platforms.\n",
    "\n",
    "Possible sources\n",
    "* systemd, journald, su, sshd, sudo, cron, at\n",
    "* auditd\n",
    "* osquery\n",
    "* sysmonforlinux\n",
    "\n",
    "External sources like EDR or network are intentionally not covered here."
   ]
  },
  {
   "cell_type": "markdown",
   "id": "291b8e71-4d07-428d-86f2-7b585d693f30",
   "metadata": {
    "tags": []
   },
   "source": [
    "## Resources"
   ]
  },
  {
   "cell_type": "markdown",
   "id": "1536ab39-9c33-43db-ab43-48b911924c04",
   "metadata": {},
   "source": [
    "* https://github.com/microsoft/msticpy/\n",
    "* https://infosecjupyterthon.com/\n",
    "* https://dropbox.tech/security/how-dropbox-security-builds-better-tools-for-threat-detection-and-incident-response\n",
    "* https://github.com/SigmaHQ/sigma\n",
    "* cli usage\n",
    "  * as is `jupyter run notebook.ipynb --allow-errors` - https://docs.jupyter.org/en/latest/running.html#using-a-command-line-interface\n",
    "  * with parameters `papermill input.ipynb output.ipynb -p alpha 0.6 -p l1_ratio 0.1` - https://papermill.readthedocs.io/en/latest/usage-workflow.html \n",
    "\n",
    "(Linux)\n",
    "* https://github.com/Azure/Azure-Sentinel-Notebooks/blob/master/Entity%20Explorer%20-%20Linux%20Host.ipynb\n",
    "* https://securitydatasets.com/notebooks/atomic/linux/intro.html"
   ]
  },
  {
   "cell_type": "markdown",
   "id": "387c1c0e-9b90-4cc4-a2e2-38e6db4af090",
   "metadata": {},
   "source": [
    "## Findings"
   ]
  },
  {
   "cell_type": "markdown",
   "id": "85ba21b4-a33f-4fa8-a9f3-c85fd8eebdff",
   "metadata": {},
   "source": [
    "_Put your findings here_"
   ]
  },
  {
   "cell_type": "markdown",
   "id": "a9c365dc-9d3e-48ab-b1fe-951230d61f99",
   "metadata": {},
   "source": [
    "## Table of Contents\n",
    "\n",
    "* Import\n",
    "* Configuration\n",
    "* Queries\n",
    "  * Authentication\n",
    "    * fail\n",
    "    * success\n",
    "  * Remote access\n",
    "  * Privilege escalation\n",
    "  * Privileged users activities? root, Administrator...\n",
    "  * Service activities\n",
    "    * Time\n",
    "    * Logging\n",
    "    * Scheduled tasks\n",
    "  * System boot, on/off\n",
    "  * Process activities\n",
    "  * Network activities\n",
    "  * File Integrity Monitoring (FIM)\n",
    "  * Auditd\n",
    "  * AV logs?\n",
    "  * Web logs?\n",
    "  * Misc"
   ]
  },
  {
   "cell_type": "markdown",
   "id": "ea86fac3-20d7-4bfd-843a-93c1b5da3f96",
   "metadata": {
    "tags": []
   },
   "source": [
    "## Import"
   ]
  },
  {
   "cell_type": "code",
   "execution_count": null,
   "id": "dbec5036-8b12-4de1-8842-a902f2f738d7",
   "metadata": {
    "tags": []
   },
   "outputs": [],
   "source": [
    "# Check we are running Python 3.6\n",
    "import sys\n",
    "MIN_REQ_PYTHON = (3,6)\n",
    "if sys.version_info < MIN_REQ_PYTHON:\n",
    "    print('Check the Kernel->Change Kernel menu and ensure that Python 3.6')\n",
    "    print('or later is selected as the active kernel.')\n",
    "    sys.exit(\"Python %s.%s or later is required.\\n\" % MIN_REQ_PYTHON)"
   ]
  },
  {
   "cell_type": "code",
   "execution_count": null,
   "id": "972a3f5b-7f0e-4382-bef8-0138be162437",
   "metadata": {
    "tags": []
   },
   "outputs": [],
   "source": [
    "# Imports\n",
    "import pandas as pd\n",
    "import msticpy.nbtools as nbtools\n",
    "from datetime import datetime,timedelta\n",
    "import os"
   ]
  },
  {
   "cell_type": "code",
   "execution_count": null,
   "id": "f3897813-4fb8-46ff-8e1d-bcb31c4ebca9",
   "metadata": {
    "tags": []
   },
   "outputs": [],
   "source": [
    "# path to config file\n",
    "os.environ['MSTICPYCONFIG'] = '/home/ubuntu/msticpyconfig.yaml'\n",
    "from msticpy.nbtools import *\n",
    "from msticpy.data.data_providers import QueryProvider\n",
    "from msticpy.common.wsconfig import WorkspaceConfig\n",
    "from msticpy.nbtools.data_viewer import DataViewer\n",
    "from msticpy.vis.matrix_plot import plot_matrix\n",
    "from msticpy.nbtools import process_tree as ptree\n",
    "print('Imports Complete')"
   ]
  },
  {
   "cell_type": "markdown",
   "id": "72e27508-6923-4c98-a159-cd1ec7a53e62",
   "metadata": {},
   "source": [
    "## Configuration"
   ]
  },
  {
   "cell_type": "code",
   "execution_count": null,
   "id": "cdfc6d45-a3d1-4940-8890-c2b294f97500",
   "metadata": {
    "tags": []
   },
   "outputs": [],
   "source": [
    "# Interactive settings edit\n",
    "# https://msticpy.readthedocs.io/en/latest/getting_started/SettingsEditor.html#using-mpconfigfile-to-check-and-manage-your-msticpyconfig-yaml\n",
    "from msticpy.config import MpConfigFile, MpConfigEdit, MpConfigControls\n",
    "mpconfig = MpConfigFile()\n",
    "# mpconfig.load_default()\n",
    "# mpconfig.view_settings()\n",
    "mpconfig"
   ]
  },
  {
   "cell_type": "code",
   "execution_count": null,
   "id": "c7c1b946-2df5-4a2c-9b16-29fad87f2635",
   "metadata": {
    "tags": []
   },
   "outputs": [],
   "source": [
    "# q_times = nbwidgets.QueryTime(units='hours', max_before=72, before=1, max_after=0)\n",
    "q_times = nbwidgets.QueryTime(origin_time=datetime(2023, 6, 15), units='days', max_before=30, before=1, max_after=0)\n",
    "#q_times = nbwidgets.QueryTime(origin_time=datetime(2023, 6, 15), units='days', max_before=1, before=0, max_after=0)\n",
    "# q_times = nbwidgets.QueryTime(origin_time=datetime(2023, 6, 15), units='hours', max_before=4, before=0, max_after=0)\n",
    "\n",
    "q_times.display()"
   ]
  },
  {
   "cell_type": "code",
   "execution_count": null,
   "id": "cfe36521-d2f1-431b-ba85-0fa897c5f21a",
   "metadata": {
    "tags": [
     "parameters"
    ]
   },
   "outputs": [],
   "source": [
    "# If your environment footpring is very large or timeperiod too big, queries not optimized enough may return 'ADX query timed out' or 'Unknown query error' when done through msticpy.\n",
    "# Ensure to use appropriate filters\n",
    "query_common_args = ''\n",
    "# query_common_args = f'''| where _SubscriptionId in (\"12345\", \"67890\")'''\n",
    "results_limit = 10"
   ]
  },
  {
   "cell_type": "code",
   "execution_count": null,
   "id": "35070876-526d-49c0-8e92-e438dadfe4e8",
   "metadata": {},
   "outputs": [],
   "source": [
    "query_common_args = query_common_args.strip()\n",
    "query_common_args = query_common_args + f'''| where TimeGenerated >= datetime({q_times.start})\n",
    "| where TimeGenerated <= datetime({q_times.end})'''"
   ]
  },
  {
   "cell_type": "code",
   "execution_count": null,
   "id": "b454dbe5-d212-444e-a9f5-34a473df9235",
   "metadata": {
    "tags": []
   },
   "outputs": [],
   "source": [
    "query_common_args"
   ]
  },
  {
   "cell_type": "code",
   "execution_count": null,
   "id": "5393a5d6-5c94-4e8d-8eab-85385e02752c",
   "metadata": {
    "tags": []
   },
   "outputs": [],
   "source": [
    "# Configuration\n",
    "qry_prov = QueryProvider(\"AzureSentinel\")"
   ]
  },
  {
   "cell_type": "code",
   "execution_count": null,
   "id": "0f66e176-fce1-4536-ab2a-9fb7b8ac97fc",
   "metadata": {
    "tags": []
   },
   "outputs": [],
   "source": [
    "# Get the default Microsoft Sentinel workspace details from msticpyconfig.yaml\n",
    "ws_config = WorkspaceConfig()\n",
    "\n",
    "# Connect to Microsoft Sentinel with our QueryProvider and config details\n",
    "qry_prov.connect(ws_config)"
   ]
  },
  {
   "cell_type": "code",
   "execution_count": null,
   "id": "1a3ffc2c-867d-445b-9b03-c1edc8de60bc",
   "metadata": {
    "tags": []
   },
   "outputs": [],
   "source": [
    "# pandas\n",
    "pd.set_option('display.max_colwidth', 500)"
   ]
  },
  {
   "cell_type": "markdown",
   "id": "d96e60a4-0194-428d-bddc-485614c0b9c0",
   "metadata": {},
   "source": [
    "## Queries"
   ]
  },
  {
   "cell_type": "markdown",
   "id": "948e7a63-b522-47b7-987b-1625cd2873bf",
   "metadata": {},
   "source": [
    "### Timeperiod"
   ]
  },
  {
   "cell_type": "markdown",
   "id": "2191215d-e610-4e9d-bada-94f20658b639",
   "metadata": {},
   "source": [
    "Let's confirm that we have logs for the targeted timeperiod."
   ]
  },
  {
   "cell_type": "code",
   "execution_count": null,
   "id": "5b28ab0c-6ce8-470f-9780-835673c4929d",
   "metadata": {
    "tags": []
   },
   "outputs": [],
   "source": [
    "q_times.start"
   ]
  },
  {
   "cell_type": "code",
   "execution_count": null,
   "id": "5822f820-9e13-42de-bb35-0956ccceedc2",
   "metadata": {
    "tags": []
   },
   "outputs": [],
   "source": [
    "q_times.end"
   ]
  },
  {
   "cell_type": "code",
   "execution_count": null,
   "id": "3212afe1-bdbb-4844-a150-a3ddc422fc88",
   "metadata": {
    "tags": []
   },
   "outputs": [],
   "source": [
    "query = f'''Syslog {query_common_args}\n",
    "| summarize max(TimeGenerated),min(TimeGenerated)\n",
    "'''\n",
    "df_timeperiod = qry_prov.exec_query(query)\n",
    "df_timeperiod.head(results_limit)"
   ]
  },
  {
   "cell_type": "markdown",
   "id": "00492dac-0de7-43a5-90a1-635f9c679347",
   "metadata": {},
   "source": [
    "### Authentication"
   ]
  },
  {
   "cell_type": "code",
   "execution_count": null,
   "id": "b4bacba9-95ae-4947-9368-20143a315dd2",
   "metadata": {
    "tags": []
   },
   "outputs": [],
   "source": [
    "query = f'''search in (Syslog) \"su:\"  {query_common_args}\n",
    "| where Facility == \"authpriv\" and SyslogMessage contains \"su:\"\n",
    "| summarize count() by SourceSystem,ProcessName\n",
    "| limit {results_limit}'''\n",
    "# these ones work\n",
    "query = f'''Syslog {query_common_args}\n",
    "| where Facility == \"authpriv\" and ProcessName == \"su\" and SyslogMessage contains \"su:\"\n",
    "| summarize count() by ProcessName'''\n",
    "query = f'''Syslog {query_common_args}\n",
    "| where Facility == \"authpriv\" and ProcessName == \"su\" and SyslogMessage contains \"su:\"\n",
    "| summarize count() by SourceSystem,ProcessName'''\n",
    "df_auth = qry_prov.exec_query(query)\n",
    "df_auth.head(results_limit)"
   ]
  },
  {
   "cell_type": "code",
   "execution_count": null,
   "id": "3f745109-b23c-428c-9c6f-7b6305ebef53",
   "metadata": {
    "tags": []
   },
   "outputs": [],
   "source": [
    "query = f'''search in (Syslog) \"session\" {query_common_args}\n",
    "| where Facility == \"authpriv\" and SyslogMessage contains \"session\"\n",
    "| summarize count() by SourceSystem,ProcessName\n",
    "| limit {results_limit}'''\n",
    "df_session = qry_prov.exec_query(query)\n",
    "df_session.head(results_limit)"
   ]
  },
  {
   "cell_type": "code",
   "execution_count": null,
   "id": "b2f64c71-b8b2-4090-8ffe-4f0803589b66",
   "metadata": {
    "tags": []
   },
   "outputs": [],
   "source": [
    "query = f'''Syslog {query_common_args}\n",
    "| where ProcessName == \"systemd-logind\"\n",
    "| summarize count() by SourceSystem,Facility,ProcessName\n",
    "| limit {results_limit}'''\n",
    "df_systemdlogind = qry_prov.exec_query(query)\n",
    "df_systemdlogind.head(results_limit)"
   ]
  },
  {
   "cell_type": "code",
   "execution_count": null,
   "id": "1b0b68e4-914d-4a89-a249-122a601e0358",
   "metadata": {
    "tags": []
   },
   "outputs": [],
   "source": [
    "query = f'''Syslog {query_common_args}\n",
    "| where ProcessName in (\"xrdp\", \"xrdp-chansrv\", \"xrdp-sesman\")\n",
    "| summarize count() by SourceSystem,Facility,ProcessName\n",
    "| limit {results_limit}'''\n",
    "df_xrdp = qry_prov.exec_query(query)\n",
    "df_xrdp.head(results_limit)"
   ]
  },
  {
   "cell_type": "code",
   "execution_count": null,
   "id": "818c6847-81f6-4e8f-ba19-fb9128422ab5",
   "metadata": {},
   "outputs": [],
   "source": []
  },
  {
   "cell_type": "markdown",
   "id": "e1aff3b9-4936-41de-8d80-e7e9197acf96",
   "metadata": {},
   "source": [
    "### Remote access"
   ]
  },
  {
   "cell_type": "code",
   "execution_count": null,
   "id": "5c44e6c6-a082-4e9b-aa74-ff3d3fbbccf9",
   "metadata": {
    "tags": []
   },
   "outputs": [],
   "source": [
    "query = f'''Syslog {query_common_args}\n",
    "| where Facility == \"authpriv\" and ProcessName == \"sshd\"\n",
    "| limit {results_limit}'''\n",
    "df_ssh = qry_prov.exec_query(query)"
   ]
  },
  {
   "cell_type": "code",
   "execution_count": null,
   "id": "666c7d04-1d04-4cdc-8b09-416c150a84e6",
   "metadata": {
    "tags": []
   },
   "outputs": [],
   "source": [
    "df_ssh.head(results_limit)"
   ]
  },
  {
   "cell_type": "code",
   "execution_count": null,
   "id": "02bc5bbe-7540-4082-a1a6-8504df641e4d",
   "metadata": {
    "tags": []
   },
   "outputs": [],
   "source": [
    "query = f'''Osquery_CL {query_common_args}\n",
    "| extend json = parse_json(RawData)\n",
    "| extend name = tostring(json.name)\n",
    "| where name == \"pack_osquery-custom-pack_authorized_keys\"\n",
    "| summarize count() by name\n",
    "'''\n",
    "df_ssh_authorized_keys = qry_prov.exec_query(query)\n",
    "df_ssh_authorized_keys.head(10)"
   ]
  },
  {
   "cell_type": "code",
   "execution_count": null,
   "id": "599caf06-541c-48f0-a1b8-f8428866b222",
   "metadata": {},
   "outputs": [],
   "source": []
  },
  {
   "cell_type": "markdown",
   "id": "c037835d-5750-4ce4-b450-d9e14ab7a1ea",
   "metadata": {},
   "source": [
    "### Privilege Escalation"
   ]
  },
  {
   "cell_type": "code",
   "execution_count": null,
   "id": "dff1b29e-9d5c-4344-a357-42a770accba1",
   "metadata": {
    "tags": []
   },
   "outputs": [],
   "source": [
    "query = f'''Syslog {query_common_args}\n",
    "| where Facility == \"authpriv\" and ProcessName in (\"sudo\", \"doas\")\n",
    "| summarize count() by SourceSystem,ProcessName\n",
    "| limit {results_limit}'''\n",
    "df_sudo = qry_prov.exec_query(query)\n",
    "df_sudo.head(results_limit)"
   ]
  },
  {
   "cell_type": "code",
   "execution_count": null,
   "id": "5b048554-0c1d-4c8f-8a54-7b1c523092f5",
   "metadata": {},
   "outputs": [],
   "source": []
  },
  {
   "cell_type": "markdown",
   "id": "693a6387-7225-46cc-87b7-1c8862ece740",
   "metadata": {},
   "source": [
    "### Services activities"
   ]
  },
  {
   "cell_type": "code",
   "execution_count": null,
   "id": "368064f8-1cb2-4c11-b449-838d37413e6e",
   "metadata": {
    "tags": []
   },
   "outputs": [],
   "source": [
    "query = f'''Syslog {query_common_args}\n",
    "| where ProcessName == \"systemd\" and SyslogMessage has_any (\"start\", \"stop\")\n",
    "| summarize count() by Facility,SeverityLevel,SyslogMessage\n",
    "| sort by count_ desc \n",
    "| limit {results_limit}'''\n",
    "df_services = qry_prov.exec_query(query)\n",
    "df_services.head(results_limit)"
   ]
  },
  {
   "cell_type": "code",
   "execution_count": null,
   "id": "d1ecddf7-9771-492a-82f8-b4aa43353199",
   "metadata": {
    "tags": []
   },
   "outputs": [],
   "source": [
    "query = f'''Syslog {query_common_args}\n",
    "| where ProcessName == \"systemd\" and SyslogMessage has_any (\"ntpd\", \"openntpd\", \"ntpdate\", \"rdate\", \"chrony\")\n",
    "| summarize count() by Facility,SeverityLevel,SyslogMessage\n",
    "| sort by count_ desc \n",
    "| limit {results_limit}'''\n",
    "df_service_time = qry_prov.exec_query(query)\n",
    "df_service_time.head(results_limit)"
   ]
  },
  {
   "cell_type": "code",
   "execution_count": null,
   "id": "a5a7065f-8373-4d5e-89b9-ae0550f765c1",
   "metadata": {
    "tags": []
   },
   "outputs": [],
   "source": [
    "query = f'''Syslog {query_common_args}\n",
    "| where ProcessName in (\"rsyslog\", \"syslog-ng\", \"logrotate\", \"systemd-journald\")\n",
    "| summarize count() by Facility,SeverityLevel,SyslogMessage\n",
    "| sort by count_ desc \n",
    "| limit {results_limit}'''\n",
    "df_service_logging = qry_prov.exec_query(query)\n",
    "df_service_logging.head(results_limit)"
   ]
  },
  {
   "cell_type": "code",
   "execution_count": null,
   "id": "082a06d7-8255-4b4a-a419-71dfa8451fe9",
   "metadata": {
    "tags": []
   },
   "outputs": [],
   "source": [
    "query = f'''Syslog {query_common_args}\n",
    "| where ProcessName in (\"CRON\", \"crontab\", \"systemd-timers\")\n",
    "| summarize count() by Facility,SeverityLevel,SyslogMessage\n",
    "| sort by count_ desc \n",
    "| limit {results_limit}'''\n",
    "df_service_scheduledtasks = qry_prov.exec_query(query)\n",
    "df_service_scheduledtasks.head(results_limit)"
   ]
  },
  {
   "cell_type": "code",
   "execution_count": null,
   "id": "23fd9af9-49e7-4138-83b4-ca0eaa6929db",
   "metadata": {},
   "outputs": [],
   "source": []
  },
  {
   "cell_type": "markdown",
   "id": "e194a321-9b15-4714-9ef5-7304fbb70acb",
   "metadata": {},
   "source": [
    "### System boot, on/off"
   ]
  },
  {
   "cell_type": "code",
   "execution_count": null,
   "id": "8afa1807-b92a-4ca1-9bb4-2cd4a8c66b66",
   "metadata": {
    "tags": []
   },
   "outputs": [],
   "source": [
    "# FIXME! more filtering needed\n",
    "query = f'''Syslog  {query_common_args}\n",
    "| where \n",
    "    (Facility == \"daemon\" and SyslogMessage has_any (\"halt\", \"shutdown\", \"reboot\"))\n",
    "    or ProcessName in (\"systemd-shutdownd\")\n",
    "| summarize count() by Facility,SeverityLevel,SyslogMessage\n",
    "| sort by count_ desc \n",
    "| limit {results_limit}'''\n",
    "df_system_onoff = qry_prov.exec_query(query)\n",
    "df_system_onoff.head(results_limit)"
   ]
  },
  {
   "cell_type": "code",
   "execution_count": null,
   "id": "6a0cff88-d02d-4da7-9d3e-c21f42dcf1d8",
   "metadata": {},
   "outputs": [],
   "source": []
  },
  {
   "cell_type": "markdown",
   "id": "48fd701b-8930-411b-b191-e82ba04802f7",
   "metadata": {},
   "source": [
    "### Error, warnings"
   ]
  },
  {
   "cell_type": "code",
   "execution_count": null,
   "id": "1e7f29bd-460f-428c-ac67-06d4faf87946",
   "metadata": {
    "tags": []
   },
   "outputs": [],
   "source": [
    "query = f'''search in (Syslog) \"error\" {query_common_args}\n",
    "| summarize count() by Facility,SeverityLevel,ProcessName,SyslogMessage\n",
    "| sort by count_ desc\n",
    "| limit {results_limit}'''\n",
    "df_errors = qry_prov.exec_query(query)\n",
    "df_errors.head(results_limit)"
   ]
  },
  {
   "cell_type": "code",
   "execution_count": null,
   "id": "d9445f3e-ab30-4b60-a75c-378e9b39d44f",
   "metadata": {
    "tags": []
   },
   "outputs": [],
   "source": [
    "query = f'''search in (Syslog) \"warn\" {query_common_args}\n",
    "| summarize count() by Facility,SeverityLevel,ProcessName,SyslogMessage\n",
    "| sort by count_ desc\n",
    "| limit {results_limit}'''\n",
    "df_warn = qry_prov.exec_query(query)\n",
    "df_warn.head(results_limit)"
   ]
  },
  {
   "cell_type": "code",
   "execution_count": null,
   "id": "a82bfb1f-7c94-4b0c-a7f8-8e9ee2660bad",
   "metadata": {},
   "outputs": [],
   "source": []
  },
  {
   "cell_type": "markdown",
   "id": "4b952ff4-eef2-43e5-897b-a2f3d64f7eac",
   "metadata": {},
   "source": [
    "### Process activities"
   ]
  },
  {
   "cell_type": "code",
   "execution_count": null,
   "id": "962747e6-8d12-46e9-99c7-110513f53154",
   "metadata": {
    "tags": []
   },
   "outputs": [],
   "source": [
    "query = f'''Sysmonforlinux_CL {query_common_args}\n",
    "| summarize count() by RuleName,User,Image,CommandLine,ParentCommandLine\n",
    "| sort by count_ desc \n",
    "| limit {results_limit}\n",
    "'''\n",
    "# Enable if have Sysmonforlinux_CL table\n",
    "# df_process = qry_prov.exec_query(query)\n",
    "# df_process.head(results_limit)"
   ]
  },
  {
   "cell_type": "code",
   "execution_count": null,
   "id": "c08e80d2-67bf-4c4d-a1ed-6df8a5f0a687",
   "metadata": {
    "tags": []
   },
   "outputs": [],
   "source": [
    "query = f'''Osquery_CL {query_common_args}\n",
    "| extend json = parse_json(RawData)\n",
    "| extend name = tostring(json.name), action = tostring(json.action), pid = tostring(json.columns.pid), cmdline = tostring(json.columns.cmdline), ppid = tostring(json.columns.ppid), pcmdline = tostring(json.columns.pcmdline)\n",
    "| where name == \"pack_osquery-custom-pack_outbound_connections\"\n",
    "| summarize count() by name,action,cmdline,pcmdline\n",
    "| sort by count_ desc \n",
    "| limit {results_limit}'''\n",
    "df_process2 = qry_prov.exec_query(query)\n",
    "df_process2.head(results_limit)"
   ]
  },
  {
   "cell_type": "code",
   "execution_count": null,
   "id": "bd93c9e1-ddf1-40a1-89c1-660480de9b63",
   "metadata": {},
   "outputs": [],
   "source": []
  },
  {
   "cell_type": "markdown",
   "id": "cc255aca-37ed-41b5-a717-7de0f4cd6035",
   "metadata": {},
   "source": [
    "### Network activities"
   ]
  },
  {
   "cell_type": "code",
   "execution_count": null,
   "id": "cb92c382-8a5b-4c5c-961d-a24ea950651d",
   "metadata": {
    "tags": []
   },
   "outputs": [],
   "source": [
    "query = f'''Osquery_CL {query_common_args}\n",
    "| extend json = parse_json(RawData)\n",
    "| extend name = tostring(json.name), action = tostring(json.action), type = tostring(json.columns.type), address = tostring(json.columns.address)\n",
    "| where name == \"pack_osquery-custom-pack_dns_resolvers\"\n",
    "| summarize count() by name,action,type,address\n",
    "| sort by count_ desc \n",
    "| limit {results_limit}'''\n",
    "df_dns = qry_prov.exec_query(query)\n",
    "df_dns.head(results_limit)"
   ]
  },
  {
   "cell_type": "code",
   "execution_count": null,
   "id": "af81baf9-c2f4-4e8f-9a67-5c609448bc2b",
   "metadata": {
    "tags": []
   },
   "outputs": [],
   "source": [
    "query = f'''Osquery_CL {query_common_args}\n",
    "| extend json = parse_json(RawData)\n",
    "| extend name = tostring(json.name), action = tostring(json.action), username = tostring(json.columns.username), pid = tostring(json.columns.pid), cmdline = tostring(json.columns.cmdline), ppid = tostring(json.columns.ppid), pcmdline = tostring(json.columns.pcmdline), remote_address = tostring(json.columns.remote_address)\n",
    "| where name == \"pack_osquery-custom-pack_outbound_connections\"\n",
    "| summarize count() by name,action,username,cmdline,remote_address\n",
    "| sort by count_ desc \n",
    "| limit {results_limit}'''\n",
    "df_outbound = qry_prov.exec_query(query)\n",
    "df_outbound.head(results_limit)"
   ]
  },
  {
   "cell_type": "code",
   "execution_count": null,
   "id": "039dfddd-34a0-4806-9250-7d04857dab9e",
   "metadata": {},
   "outputs": [],
   "source": []
  },
  {
   "cell_type": "markdown",
   "id": "946d7b1d-713a-455e-83f5-97d76d53b540",
   "metadata": {},
   "source": [
    "### File Integrity Monitoring"
   ]
  },
  {
   "cell_type": "code",
   "execution_count": null,
   "id": "337f458b-e898-416b-8dff-68f8e7c9155d",
   "metadata": {
    "tags": []
   },
   "outputs": [],
   "source": [
    "query = f'''Osquery_CL {query_common_args}\n",
    "| extend json = parse_json(RawData)\n",
    "| extend name = tostring(json.name), target_path = tostring(json.columns.target_path), username = tostring(json.columns.username), action = tostring(json.columns.action)\n",
    "| where name == \"fim\"\n",
    "| summarize count() by name,action,username,target_path\n",
    "| sort by count_ desc \n",
    "| limit {results_limit}'''\n",
    "df_fim = qry_prov.exec_query(query)\n",
    "df_fim.head(results_limit)"
   ]
  },
  {
   "cell_type": "code",
   "execution_count": null,
   "id": "817b6e3d-4cf3-4317-a505-58ab75cfabbe",
   "metadata": {},
   "outputs": [],
   "source": []
  },
  {
   "cell_type": "markdown",
   "id": "69249dcc-22f9-4828-af80-7d1cc9f63a4d",
   "metadata": {},
   "source": [
    "### Auditd"
   ]
  },
  {
   "cell_type": "markdown",
   "id": "52f5203e-e9cf-4c69-ace4-fe437c2dd527",
   "metadata": {},
   "source": [
    "by type, keywords, exe"
   ]
  },
  {
   "cell_type": "code",
   "execution_count": null,
   "id": "64510938-f09e-437a-9c1a-33670e8946af",
   "metadata": {
    "tags": []
   },
   "outputs": [],
   "source": [
    "query = f'''Syslog {query_common_args}\n",
    "| where ProcessName in (\"audit\", \"auditd\", \"audispd\")\n",
    "| summarize count() by SeverityLevel,ProcessName,SyslogMessage\n",
    "| sort by count_ desc \n",
    "| limit {results_limit}'''\n",
    "df_auditd = qry_prov.exec_query(query)\n",
    "df_auditd.head(results_limit)"
   ]
  },
  {
   "cell_type": "code",
   "execution_count": null,
   "id": "53472377-4b3d-4f6d-a7d7-e676d79cd087",
   "metadata": {},
   "outputs": [],
   "source": []
  },
  {
   "cell_type": "markdown",
   "id": "831f1c02-db7e-4606-8ad9-0bf83db06564",
   "metadata": {},
   "source": [
    "### Selinux"
   ]
  },
  {
   "cell_type": "code",
   "execution_count": null,
   "id": "65daad6c-7acc-4940-8880-4d8f6c8dea35",
   "metadata": {
    "tags": []
   },
   "outputs": [],
   "source": [
    "# https://www.redhat.com/sysadmin/diagnose-selinux-violations\n",
    "# https://unix.stackexchange.com/questions/642876/have-selinux-allow-syslog-and-logrotate-to-handle-files-outside-of-var-log/642877#642877\n",
    "query = f'''Syslog {query_common_args}\n",
    "| where ProcessName in (\"setroubleshoot\", \"setroubleshootd\", \"sedispatch\")\n",
    "| summarize count() by SyslogMessage\n",
    "| sort by count_ desc\n",
    "| limit {results_limit}'''\n",
    "df_selinux = qry_prov.exec_query(query)\n",
    "df_selinux.head(results_limit)"
   ]
  },
  {
   "cell_type": "code",
   "execution_count": null,
   "id": "7ecb6d93-0151-4fd0-9dc6-6b6f302168d0",
   "metadata": {
    "tags": []
   },
   "outputs": [],
   "source": [
    "# `semanage fcontext -a -t var_log_t /var/opt/microsoft/azuremonitoragent/; restorecon /var/opt/microsoft/azuremonitoragent/`\n",
    "query = f'''Syslog {query_common_args}\n",
    "| where ProcessName in (\"setroubleshoot\")\n",
    "| parse SyslogMessage with * \"SELinux is preventing\" bin_path:string \" from \" action:string \" access on \" target:string \". For complete SELinux messages run:\" *\n",
    "| summarize count() by ProcessName,bin_path,action,target\n",
    "| sort by count_ desc\n",
    "| limit {results_limit}'''\n",
    "df_selinux_preventing = qry_prov.exec_query(query)\n",
    "df_selinux_preventing.head(results_limit)"
   ]
  },
  {
   "cell_type": "code",
   "execution_count": null,
   "id": "a360571f-3b13-42df-b510-207ba00dc424",
   "metadata": {},
   "outputs": [],
   "source": [
    "query = f'''Syslog {query_common_args}\n",
    "| where ProcessName in (\"setroubleshoot\")\n",
    "| parse SyslogMessage with * \"SELinux is preventing\" bin_path:string \" from \" action:string \" access on \" target:string \"Plugin catch\" *\n",
    "| summarize count() by ProcessName,bin_path,action,target\n",
    "| sort by count_ desc\n",
    "| limit {results_limit}'''\n",
    "df_selinux_preventing = qry_prov.exec_query(query)\n",
    "df_selinux_preventing.head(results_limit)"
   ]
  },
  {
   "cell_type": "code",
   "execution_count": null,
   "id": "5ff060b2-d815-44b5-bb28-464590ff2622",
   "metadata": {},
   "outputs": [],
   "source": []
  },
  {
   "cell_type": "markdown",
   "id": "fe9a3ab2-e463-4f55-be2d-0d1de68e5434",
   "metadata": {},
   "source": [
    "### Local AV, EDR"
   ]
  },
  {
   "cell_type": "code",
   "execution_count": null,
   "id": "29a56971-1de0-492c-bb04-c70f4858dcd5",
   "metadata": {
    "tags": []
   },
   "outputs": [],
   "source": [
    "# in most cases, local service logs. Usually, no EDR alerts.\n",
    "query = f'''Syslog {query_common_args}\n",
    "| where ProcessName in (\"clamd\", \"freshclam\", \"wdavdaemon\", \"microsoft-mdatp-installer\", \"microsoft-mdatp-uninstaller\", \"falcon-sensor\", \"falcond\", \"falconctl\")\n",
    "| summarize count() by SeverityLevel,ProcessName,SyslogMessage\n",
    "| sort by count_ desc \n",
    "| limit {results_limit}'''\n",
    "df_sectools = qry_prov.exec_query(query)\n",
    "df_sectools.head(results_limit)"
   ]
  },
  {
   "cell_type": "code",
   "execution_count": null,
   "id": "7be97b82-86d4-4851-a5b7-7c6f97686fa3",
   "metadata": {},
   "outputs": [],
   "source": []
  },
  {
   "cell_type": "markdown",
   "id": "718435c9-a268-4189-82aa-56e75fa31171",
   "metadata": {},
   "source": [
    "### Misc"
   ]
  },
  {
   "cell_type": "code",
   "execution_count": null,
   "id": "4d55c6f0-9a05-44be-934b-efe146208cf5",
   "metadata": {
    "tags": []
   },
   "outputs": [],
   "source": [
    "qry_prov.list_queries()"
   ]
  },
  {
   "cell_type": "code",
   "execution_count": null,
   "id": "0dae09a7-0707-43ff-bc8b-c867e3bcbf69",
   "metadata": {},
   "outputs": [],
   "source": []
  },
  {
   "cell_type": "code",
   "execution_count": null,
   "id": "745eb116-e31b-41ed-abf6-3be53177ee5e",
   "metadata": {
    "tags": []
   },
   "outputs": [],
   "source": [
    "query = f'''Osquery_CL {query_common_args}\n",
    "| extend json = parse_json(RawData)\n",
    "| extend name = tostring(json.name)\n",
    "| summarize count() by name\n",
    "| sort by count_ desc \n",
    "| limit {results_limit}'''\n",
    "df_osquery_queries = qry_prov.exec_query(query)\n",
    "df_osquery_queries.head(results_limit)"
   ]
  },
  {
   "cell_type": "code",
   "execution_count": null,
   "id": "a900d649-c6a9-4d42-b364-12aced6690f7",
   "metadata": {
    "tags": []
   },
   "outputs": [],
   "source": [
    "query = f'''Osquery_CL {query_common_args}\n",
    "| extend json = parse_json(RawData)\n",
    "| extend name = tostring(json.name), pkg_name = tostring(json.columns.name), summary = tostring(json.columns.summary), version = tostring(json.columns.version)\n",
    "| where name == \"pack_osquery-custom-pack_python_packages\"\n",
    "| summarize count() by name,pkg_name,summary,version\n",
    "| sort by count_ desc \n",
    "| limit {results_limit}'''\n",
    "df_python = qry_prov.exec_query(query)\n",
    "df_python.head(results_limit)"
   ]
  },
  {
   "cell_type": "code",
   "execution_count": null,
   "id": "c9a22bfe-0afb-4c26-8300-22213d59677b",
   "metadata": {},
   "outputs": [],
   "source": []
  },
  {
   "cell_type": "code",
   "execution_count": null,
   "id": "5605a90f-ee80-4f99-a72f-efc03a2b2763",
   "metadata": {
    "tags": []
   },
   "outputs": [],
   "source": [
    "# Noise ?\n",
    "query = f'''Syslog {query_common_args}\n",
    "| summarize count() by ProcessName\n",
    "| sort by count_ desc \n",
    "| limit {results_limit}'''\n",
    "df_volume = qry_prov.exec_query(query)\n",
    "df_volume.head(results_limit)"
   ]
  },
  {
   "cell_type": "code",
   "execution_count": null,
   "id": "c33be678-aa1c-400f-ab7c-b6973d45b9cb",
   "metadata": {
    "tags": []
   },
   "outputs": [],
   "source": [
    "# No Processname?\n",
    "# | limit {results_limit}\n",
    "query = f'''Syslog {query_common_args}\n",
    "| where ProcessName == \"\"\n",
    "| summarize count() by Facility,SeverityLevel,ProcessName,Computer,_ResourceId\n",
    "| sort by count_ desc '''\n",
    "df_anomalies1 = qry_prov.exec_query(query)\n",
    "df_anomalies1.head(results_limit)"
   ]
  },
  {
   "cell_type": "code",
   "execution_count": null,
   "id": "094fa680-2040-40e9-8310-ac9ab8a0197e",
   "metadata": {},
   "outputs": [],
   "source": [
    "# Wrong Computer name?\n",
    "query = f'''Syslog {query_common_args}\n",
    "| where Computer == \"\" or Computer == \"localhost\"\n",
    "| summarize count() by Computer,_ResourceId\n",
    "| sort by count_ desc \n",
    "| limit {results_limit}'''\n",
    "df_anomalies2 = qry_prov.exec_query(query)\n",
    "df_anomalies2.head(results_limit)"
   ]
  },
  {
   "cell_type": "code",
   "execution_count": null,
   "id": "a6c35833-41e0-45b8-8fc6-419eea863ebd",
   "metadata": {},
   "outputs": [],
   "source": []
  },
  {
   "cell_type": "code",
   "execution_count": null,
   "id": "549f5601-d268-4caf-98ad-f15b7c1f7a2e",
   "metadata": {},
   "outputs": [],
   "source": []
  },
  {
   "cell_type": "code",
   "execution_count": null,
   "id": "f570f06a-2a09-4c68-b346-498f5b4694ff",
   "metadata": {},
   "outputs": [],
   "source": [
    "# ASIM tables?\n",
    "# https://learn.microsoft.com/en-us/azure/sentinel/normalization-schema-audit\n",
    "# https://learn.microsoft.com/en-us/azure/sentinel/normalization-schema-authentication\n",
    "# and so on"
   ]
  },
  {
   "cell_type": "code",
   "execution_count": null,
   "id": "c62c281f-612a-491f-aec3-32ba112d4c5b",
   "metadata": {},
   "outputs": [],
   "source": []
  },
  {
   "cell_type": "code",
   "execution_count": null,
   "id": "f2776641-f57f-4c14-ba86-e79d94c320f9",
   "metadata": {
    "tags": []
   },
   "outputs": [],
   "source": [
    "# PII, credentials detection? many more variants...\n",
    "query = f'''search in (Syslog) (\"--password\" or \"password=\" or \"_PASSWORD\" or \"PASSWORD_\" or \"credentials=\" or \"pin=\" or \"cvv=\" or \"hl7-org\") {query_common_args}\n",
    "| where not (SyslogMessage has_any (\"PROTECTED\", \"REDACTED\", \"MASKED\"))\n",
    "| summarize count() by SyslogMessage\n",
    "| sort by count_ desc \n",
    "| limit {results_limit}'''\n",
    "df_sensitivedata = qry_prov.exec_query(query)\n",
    "df_sensitivedata.head(results_limit)"
   ]
  },
  {
   "cell_type": "code",
   "execution_count": null,
   "id": "0a02b372-7d5f-4628-a1d2-92575c65887f",
   "metadata": {},
   "outputs": [],
   "source": []
  },
  {
   "cell_type": "code",
   "execution_count": null,
   "id": "9a882b2a-a9aa-4ce4-9c86-d060b7a4370e",
   "metadata": {
    "tags": []
   },
   "outputs": [],
   "source": [
    "# Time series\n",
    "# https://msticpy.readthedocs.io/en/latest/visualization/TimeSeriesAnomalies.html\n",
    "query = f\"\"\"\n",
    "Syslog {query_common_args}\n",
    "| summarize LogsCount=count() by bin(TimeGenerated, 1h)\n",
    "| project TimeGenerated, LogsCount\n",
    "\"\"\"\n",
    "ts_df = qry_prov.exec_query(query)\n",
    "ts_df = ts_df.set_index(\"TimeGenerated\")"
   ]
  },
  {
   "cell_type": "code",
   "execution_count": null,
   "id": "fd5071bf-ef48-4a52-96c2-f9625aeee37d",
   "metadata": {
    "tags": []
   },
   "outputs": [],
   "source": [
    "ts_df.head()"
   ]
  },
  {
   "cell_type": "code",
   "execution_count": null,
   "id": "05c0833d-4bcf-4ecc-820e-6e0ef9ce99a7",
   "metadata": {
    "tags": []
   },
   "outputs": [],
   "source": [
    "ts_df[ts_df['LogsCount'].isna()]"
   ]
  },
  {
   "cell_type": "code",
   "execution_count": null,
   "id": "64deb7a3-7b2d-4f11-93e4-8c7e2ba07334",
   "metadata": {
    "tags": []
   },
   "outputs": [],
   "source": [
    "from msticpy.analysis import timeseries\n",
    "\n",
    "ts_decomp_df = ts_df.mp_timeseries.analyze(\n",
    "    # time_column=\"TimeGenerated\"  - if the DF is not indexed by timestamp\n",
    "    data_column=\"LogsCount\",\n",
    "    seasonal=7,\n",
    "    period=24\n",
    ")\n",
    "\n",
    "ts_decomp_df.head()"
   ]
  },
  {
   "cell_type": "code",
   "execution_count": null,
   "id": "b306bbb6-cfe3-4607-a38d-14078e9d0c38",
   "metadata": {},
   "outputs": [],
   "source": []
  }
 ],
 "metadata": {
  "kernelspec": {
   "display_name": "Python 3 (ipykernel)",
   "language": "python",
   "name": "python3"
  },
  "language_info": {
   "codemirror_mode": {
    "name": "ipython",
    "version": 3
   },
   "file_extension": ".py",
   "mimetype": "text/x-python",
   "name": "python",
   "nbconvert_exporter": "python",
   "pygments_lexer": "ipython3",
   "version": "3.11.3"
  }
 },
 "nbformat": 4,
 "nbformat_minor": 5
}
